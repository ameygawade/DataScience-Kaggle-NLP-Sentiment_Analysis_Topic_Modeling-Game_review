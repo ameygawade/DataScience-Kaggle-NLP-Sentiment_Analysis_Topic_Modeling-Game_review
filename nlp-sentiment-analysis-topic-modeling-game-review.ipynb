{
 "cells": [
  {
   "cell_type": "code",
   "execution_count": 1,
   "id": "e3170331",
   "metadata": {
    "_cell_guid": "b1076dfc-b9ad-4769-8c92-a6c4dae69d19",
    "_uuid": "8f2839f25d086af736a60e9eeb907d3b93b6e0e5",
    "execution": {
     "iopub.execute_input": "2025-01-03T20:00:15.072483Z",
     "iopub.status.busy": "2025-01-03T20:00:15.072100Z",
     "iopub.status.idle": "2025-01-03T20:00:15.567316Z",
     "shell.execute_reply": "2025-01-03T20:00:15.565887Z"
    },
    "papermill": {
     "duration": 0.51548,
     "end_time": "2025-01-03T20:00:15.569256",
     "exception": false,
     "start_time": "2025-01-03T20:00:15.053776",
     "status": "completed"
    },
    "tags": []
   },
   "outputs": [
    {
     "name": "stdout",
     "output_type": "stream",
     "text": [
      "/kaggle/input/animal-crossing/items.csv\n",
      "/kaggle/input/animal-crossing/villagers.csv\n",
      "/kaggle/input/animal-crossing/user_reviews.csv\n",
      "/kaggle/input/animal-crossing/critic.csv\n"
     ]
    }
   ],
   "source": [
    "# This Python 3 environment comes with many helpful analytics libraries installed\n",
    "# It is defined by the kaggle/python Docker image: https://github.com/kaggle/docker-python\n",
    "# For example, here's several helpful packages to load\n",
    "\n",
    "import numpy as np # linear algebra\n",
    "import pandas as pd # data processing, CSV file I/O (e.g. pd.read_csv)\n",
    "\n",
    "# Input data files are available in the read-only \"../input/\" directory\n",
    "# For example, running this (by clicking run or pressing Shift+Enter) will list all files under the input directory\n",
    "\n",
    "import os\n",
    "for dirname, _, filenames in os.walk('/kaggle/input'):\n",
    "    for filename in filenames:\n",
    "        print(os.path.join(dirname, filename))\n",
    "\n",
    "# You can write up to 20GB to the current directory (/kaggle/working/) that gets preserved as output when you create a version using \"Save & Run All\" \n",
    "# You can also write temporary files to /kaggle/temp/, but they won't be saved outside of the current session"
   ]
  },
  {
   "cell_type": "markdown",
   "id": "0c4a61d7",
   "metadata": {
    "papermill": {
     "duration": 0.013443,
     "end_time": "2025-01-03T20:00:15.597261",
     "exception": false,
     "start_time": "2025-01-03T20:00:15.583818",
     "status": "completed"
    },
    "tags": []
   },
   "source": [
    "# Understanding User Sentiments and Future Desires in Animal Crossing Reviews"
   ]
  },
  {
   "cell_type": "markdown",
   "id": "b111a240",
   "metadata": {
    "papermill": {
     "duration": 0.013869,
     "end_time": "2025-01-03T20:00:15.629597",
     "exception": false,
     "start_time": "2025-01-03T20:00:15.615728",
     "status": "completed"
    },
    "tags": []
   },
   "source": [
    "# Step-1: Data Loading and Cleaning"
   ]
  },
  {
   "cell_type": "markdown",
   "id": "c609095d",
   "metadata": {
    "papermill": {
     "duration": 0.013374,
     "end_time": "2025-01-03T20:00:15.656701",
     "exception": false,
     "start_time": "2025-01-03T20:00:15.643327",
     "status": "completed"
    },
    "tags": []
   },
   "source": [
    "## Data loading"
   ]
  },
  {
   "cell_type": "code",
   "execution_count": 2,
   "id": "119ecda1",
   "metadata": {
    "execution": {
     "iopub.execute_input": "2025-01-03T20:00:15.685765Z",
     "iopub.status.busy": "2025-01-03T20:00:15.685116Z",
     "iopub.status.idle": "2025-01-03T20:00:15.778947Z",
     "shell.execute_reply": "2025-01-03T20:00:15.777690Z"
    },
    "papermill": {
     "duration": 0.111094,
     "end_time": "2025-01-03T20:00:15.781252",
     "exception": false,
     "start_time": "2025-01-03T20:00:15.670158",
     "status": "completed"
    },
    "tags": []
   },
   "outputs": [],
   "source": [
    "df_reviews = pd.read_csv('/kaggle/input/animal-crossing/user_reviews.csv')"
   ]
  },
  {
   "cell_type": "code",
   "execution_count": 3,
   "id": "458e38b0",
   "metadata": {
    "execution": {
     "iopub.execute_input": "2025-01-03T20:00:15.811468Z",
     "iopub.status.busy": "2025-01-03T20:00:15.811064Z",
     "iopub.status.idle": "2025-01-03T20:00:15.835487Z",
     "shell.execute_reply": "2025-01-03T20:00:15.834185Z"
    },
    "papermill": {
     "duration": 0.042053,
     "end_time": "2025-01-03T20:00:15.837984",
     "exception": false,
     "start_time": "2025-01-03T20:00:15.795931",
     "status": "completed"
    },
    "tags": []
   },
   "outputs": [
    {
     "data": {
      "text/html": [
       "<div>\n",
       "<style scoped>\n",
       "    .dataframe tbody tr th:only-of-type {\n",
       "        vertical-align: middle;\n",
       "    }\n",
       "\n",
       "    .dataframe tbody tr th {\n",
       "        vertical-align: top;\n",
       "    }\n",
       "\n",
       "    .dataframe thead th {\n",
       "        text-align: right;\n",
       "    }\n",
       "</style>\n",
       "<table border=\"1\" class=\"dataframe\">\n",
       "  <thead>\n",
       "    <tr style=\"text-align: right;\">\n",
       "      <th></th>\n",
       "      <th>grade</th>\n",
       "      <th>user_name</th>\n",
       "      <th>text</th>\n",
       "      <th>date</th>\n",
       "    </tr>\n",
       "  </thead>\n",
       "  <tbody>\n",
       "    <tr>\n",
       "      <th>0</th>\n",
       "      <td>4</td>\n",
       "      <td>mds27272</td>\n",
       "      <td>My gf started playing before me. No option to ...</td>\n",
       "      <td>2020-03-20</td>\n",
       "    </tr>\n",
       "    <tr>\n",
       "      <th>1</th>\n",
       "      <td>5</td>\n",
       "      <td>lolo2178</td>\n",
       "      <td>While the game itself is great, really relaxin...</td>\n",
       "      <td>2020-03-20</td>\n",
       "    </tr>\n",
       "    <tr>\n",
       "      <th>2</th>\n",
       "      <td>0</td>\n",
       "      <td>Roachant</td>\n",
       "      <td>My wife and I were looking forward to playing ...</td>\n",
       "      <td>2020-03-20</td>\n",
       "    </tr>\n",
       "    <tr>\n",
       "      <th>3</th>\n",
       "      <td>0</td>\n",
       "      <td>Houndf</td>\n",
       "      <td>We need equal values and opportunities for all...</td>\n",
       "      <td>2020-03-20</td>\n",
       "    </tr>\n",
       "    <tr>\n",
       "      <th>4</th>\n",
       "      <td>0</td>\n",
       "      <td>ProfessorFox</td>\n",
       "      <td>BEWARE!  If you have multiple people in your h...</td>\n",
       "      <td>2020-03-20</td>\n",
       "    </tr>\n",
       "    <tr>\n",
       "      <th>...</th>\n",
       "      <td>...</td>\n",
       "      <td>...</td>\n",
       "      <td>...</td>\n",
       "      <td>...</td>\n",
       "    </tr>\n",
       "    <tr>\n",
       "      <th>2994</th>\n",
       "      <td>1</td>\n",
       "      <td>TakezoShinmen</td>\n",
       "      <td>1 Island for console limitation.I cannot play ...</td>\n",
       "      <td>2020-05-03</td>\n",
       "    </tr>\n",
       "    <tr>\n",
       "      <th>2995</th>\n",
       "      <td>1</td>\n",
       "      <td>Pikey17</td>\n",
       "      <td>Per giocare con figli o fidanzate, mogli o per...</td>\n",
       "      <td>2020-05-03</td>\n",
       "    </tr>\n",
       "    <tr>\n",
       "      <th>2996</th>\n",
       "      <td>0</td>\n",
       "      <td>Lemmeadem</td>\n",
       "      <td>One island per console is a pathetic limitatio...</td>\n",
       "      <td>2020-05-03</td>\n",
       "    </tr>\n",
       "    <tr>\n",
       "      <th>2997</th>\n",
       "      <td>2</td>\n",
       "      <td>TandemTester938</td>\n",
       "      <td>Even though it seems like a great game with ma...</td>\n",
       "      <td>2020-05-03</td>\n",
       "    </tr>\n",
       "    <tr>\n",
       "      <th>2998</th>\n",
       "      <td>4</td>\n",
       "      <td>DwerG</td>\n",
       "      <td>Game is fantastic.Nintendo deciding that you c...</td>\n",
       "      <td>2020-05-03</td>\n",
       "    </tr>\n",
       "  </tbody>\n",
       "</table>\n",
       "<p>2999 rows × 4 columns</p>\n",
       "</div>"
      ],
      "text/plain": [
       "      grade        user_name  \\\n",
       "0         4         mds27272   \n",
       "1         5         lolo2178   \n",
       "2         0         Roachant   \n",
       "3         0           Houndf   \n",
       "4         0     ProfessorFox   \n",
       "...     ...              ...   \n",
       "2994      1    TakezoShinmen   \n",
       "2995      1          Pikey17   \n",
       "2996      0        Lemmeadem   \n",
       "2997      2  TandemTester938   \n",
       "2998      4            DwerG   \n",
       "\n",
       "                                                   text        date  \n",
       "0     My gf started playing before me. No option to ...  2020-03-20  \n",
       "1     While the game itself is great, really relaxin...  2020-03-20  \n",
       "2     My wife and I were looking forward to playing ...  2020-03-20  \n",
       "3     We need equal values and opportunities for all...  2020-03-20  \n",
       "4     BEWARE!  If you have multiple people in your h...  2020-03-20  \n",
       "...                                                 ...         ...  \n",
       "2994  1 Island for console limitation.I cannot play ...  2020-05-03  \n",
       "2995  Per giocare con figli o fidanzate, mogli o per...  2020-05-03  \n",
       "2996  One island per console is a pathetic limitatio...  2020-05-03  \n",
       "2997  Even though it seems like a great game with ma...  2020-05-03  \n",
       "2998  Game is fantastic.Nintendo deciding that you c...  2020-05-03  \n",
       "\n",
       "[2999 rows x 4 columns]"
      ]
     },
     "execution_count": 3,
     "metadata": {},
     "output_type": "execute_result"
    }
   ],
   "source": [
    "df_reviews"
   ]
  },
  {
   "cell_type": "code",
   "execution_count": 4,
   "id": "6ef1f6ef",
   "metadata": {
    "execution": {
     "iopub.execute_input": "2025-01-03T20:00:15.868332Z",
     "iopub.status.busy": "2025-01-03T20:00:15.867882Z",
     "iopub.status.idle": "2025-01-03T20:00:15.898652Z",
     "shell.execute_reply": "2025-01-03T20:00:15.896909Z"
    },
    "papermill": {
     "duration": 0.048024,
     "end_time": "2025-01-03T20:00:15.900486",
     "exception": false,
     "start_time": "2025-01-03T20:00:15.852462",
     "status": "completed"
    },
    "tags": []
   },
   "outputs": [
    {
     "name": "stdout",
     "output_type": "stream",
     "text": [
      "<class 'pandas.core.frame.DataFrame'>\n",
      "RangeIndex: 2999 entries, 0 to 2998\n",
      "Data columns (total 4 columns):\n",
      " #   Column     Non-Null Count  Dtype \n",
      "---  ------     --------------  ----- \n",
      " 0   grade      2999 non-null   int64 \n",
      " 1   user_name  2999 non-null   object\n",
      " 2   text       2999 non-null   object\n",
      " 3   date       2999 non-null   object\n",
      "dtypes: int64(1), object(3)\n",
      "memory usage: 93.8+ KB\n"
     ]
    }
   ],
   "source": [
    "df_reviews.info()"
   ]
  },
  {
   "cell_type": "code",
   "execution_count": 5,
   "id": "67a42edb",
   "metadata": {
    "execution": {
     "iopub.execute_input": "2025-01-03T20:00:15.930421Z",
     "iopub.status.busy": "2025-01-03T20:00:15.929881Z",
     "iopub.status.idle": "2025-01-03T20:00:15.940046Z",
     "shell.execute_reply": "2025-01-03T20:00:15.938958Z"
    },
    "papermill": {
     "duration": 0.027841,
     "end_time": "2025-01-03T20:00:15.942118",
     "exception": false,
     "start_time": "2025-01-03T20:00:15.914277",
     "status": "completed"
    },
    "tags": []
   },
   "outputs": [
    {
     "data": {
      "text/plain": [
       "grade        0\n",
       "user_name    0\n",
       "text         0\n",
       "date         0\n",
       "dtype: int64"
      ]
     },
     "execution_count": 5,
     "metadata": {},
     "output_type": "execute_result"
    }
   ],
   "source": [
    "df_reviews.isnull().sum()"
   ]
  },
  {
   "cell_type": "markdown",
   "id": "692e5c65",
   "metadata": {
    "papermill": {
     "duration": 0.014735,
     "end_time": "2025-01-03T20:00:15.972616",
     "exception": false,
     "start_time": "2025-01-03T20:00:15.957881",
     "status": "completed"
    },
    "tags": []
   },
   "source": [
    "## Correct date format"
   ]
  },
  {
   "cell_type": "code",
   "execution_count": 6,
   "id": "877bbef0",
   "metadata": {
    "execution": {
     "iopub.execute_input": "2025-01-03T20:00:16.004614Z",
     "iopub.status.busy": "2025-01-03T20:00:16.004216Z",
     "iopub.status.idle": "2025-01-03T20:00:16.017982Z",
     "shell.execute_reply": "2025-01-03T20:00:16.016584Z"
    },
    "papermill": {
     "duration": 0.032715,
     "end_time": "2025-01-03T20:00:16.020172",
     "exception": false,
     "start_time": "2025-01-03T20:00:15.987457",
     "status": "completed"
    },
    "tags": []
   },
   "outputs": [],
   "source": [
    "df_reviews['date'] = pd.to_datetime(df_reviews['date'])"
   ]
  },
  {
   "cell_type": "code",
   "execution_count": 7,
   "id": "40f00509",
   "metadata": {
    "execution": {
     "iopub.execute_input": "2025-01-03T20:00:16.050900Z",
     "iopub.status.busy": "2025-01-03T20:00:16.050391Z",
     "iopub.status.idle": "2025-01-03T20:00:16.064388Z",
     "shell.execute_reply": "2025-01-03T20:00:16.062723Z"
    },
    "papermill": {
     "duration": 0.031972,
     "end_time": "2025-01-03T20:00:16.066317",
     "exception": false,
     "start_time": "2025-01-03T20:00:16.034345",
     "status": "completed"
    },
    "tags": []
   },
   "outputs": [
    {
     "name": "stdout",
     "output_type": "stream",
     "text": [
      "<class 'pandas.core.frame.DataFrame'>\n",
      "RangeIndex: 2999 entries, 0 to 2998\n",
      "Data columns (total 4 columns):\n",
      " #   Column     Non-Null Count  Dtype         \n",
      "---  ------     --------------  -----         \n",
      " 0   grade      2999 non-null   int64         \n",
      " 1   user_name  2999 non-null   object        \n",
      " 2   text       2999 non-null   object        \n",
      " 3   date       2999 non-null   datetime64[ns]\n",
      "dtypes: datetime64[ns](1), int64(1), object(2)\n",
      "memory usage: 93.8+ KB\n"
     ]
    }
   ],
   "source": [
    "df_reviews.info()"
   ]
  },
  {
   "cell_type": "markdown",
   "id": "6f5c5529",
   "metadata": {
    "papermill": {
     "duration": 0.013675,
     "end_time": "2025-01-03T20:00:16.094364",
     "exception": false,
     "start_time": "2025-01-03T20:00:16.080689",
     "status": "completed"
    },
    "tags": []
   },
   "source": [
    "# Step-2: Data Exploration and Preprocessing"
   ]
  },
  {
   "cell_type": "markdown",
   "id": "b5c1f158",
   "metadata": {
    "papermill": {
     "duration": 0.013623,
     "end_time": "2025-01-03T20:00:16.122214",
     "exception": false,
     "start_time": "2025-01-03T20:00:16.108591",
     "status": "completed"
    },
    "tags": []
   },
   "source": [
    "## Language Detection"
   ]
  },
  {
   "cell_type": "code",
   "execution_count": 8,
   "id": "98aef218",
   "metadata": {
    "execution": {
     "iopub.execute_input": "2025-01-03T20:00:16.152525Z",
     "iopub.status.busy": "2025-01-03T20:00:16.152065Z",
     "iopub.status.idle": "2025-01-03T20:00:25.091087Z",
     "shell.execute_reply": "2025-01-03T20:00:25.089258Z"
    },
    "papermill": {
     "duration": 8.957061,
     "end_time": "2025-01-03T20:00:25.093403",
     "exception": false,
     "start_time": "2025-01-03T20:00:16.136342",
     "status": "completed"
    },
    "tags": []
   },
   "outputs": [
    {
     "name": "stdout",
     "output_type": "stream",
     "text": [
      "Collecting langdetect\r\n",
      "  Downloading langdetect-1.0.9.tar.gz (981 kB)\r\n",
      "\u001b[2K     \u001b[90m━━━━━━━━━━━━━━━━━━━━━━━━━━━━━━━━━━━━━━━━\u001b[0m \u001b[32m981.5/981.5 kB\u001b[0m \u001b[31m15.9 MB/s\u001b[0m eta \u001b[36m0:00:00\u001b[0m\r\n",
      "\u001b[?25h  Preparing metadata (setup.py) ... \u001b[?25l\u001b[?25hdone\r\n",
      "Requirement already satisfied: six in /usr/local/lib/python3.10/dist-packages (from langdetect) (1.16.0)\r\n",
      "Building wheels for collected packages: langdetect\r\n",
      "  Building wheel for langdetect (setup.py) ... \u001b[?25l\u001b[?25hdone\r\n",
      "  Created wheel for langdetect: filename=langdetect-1.0.9-py3-none-any.whl size=993221 sha256=7c22c1873912cb39e8c91e2e2e210617e79914853a600dfb38f95c1c01e004a2\r\n",
      "  Stored in directory: /root/.cache/pip/wheels/95/03/7d/59ea870c70ce4e5a370638b5462a7711ab78fba2f655d05106\r\n",
      "Successfully built langdetect\r\n",
      "Installing collected packages: langdetect\r\n",
      "Successfully installed langdetect-1.0.9\r\n"
     ]
    }
   ],
   "source": [
    "! pip install langdetect"
   ]
  },
  {
   "cell_type": "code",
   "execution_count": 9,
   "id": "ed66a2a8",
   "metadata": {
    "execution": {
     "iopub.execute_input": "2025-01-03T20:00:25.125665Z",
     "iopub.status.busy": "2025-01-03T20:00:25.125211Z",
     "iopub.status.idle": "2025-01-03T20:00:41.862854Z",
     "shell.execute_reply": "2025-01-03T20:00:41.861459Z"
    },
    "papermill": {
     "duration": 16.756682,
     "end_time": "2025-01-03T20:00:41.865029",
     "exception": false,
     "start_time": "2025-01-03T20:00:25.108347",
     "status": "completed"
    },
    "tags": []
   },
   "outputs": [],
   "source": [
    "from langdetect import detect\n",
    "\n",
    "df_reviews['language'] = df_reviews['text'].apply(detect)"
   ]
  },
  {
   "cell_type": "code",
   "execution_count": 10,
   "id": "34126bf7",
   "metadata": {
    "execution": {
     "iopub.execute_input": "2025-01-03T20:00:41.896502Z",
     "iopub.status.busy": "2025-01-03T20:00:41.896169Z",
     "iopub.status.idle": "2025-01-03T20:00:41.905217Z",
     "shell.execute_reply": "2025-01-03T20:00:41.903857Z"
    },
    "papermill": {
     "duration": 0.027159,
     "end_time": "2025-01-03T20:00:41.907118",
     "exception": false,
     "start_time": "2025-01-03T20:00:41.879959",
     "status": "completed"
    },
    "tags": []
   },
   "outputs": [
    {
     "data": {
      "text/plain": [
       "language\n",
       "en       2829\n",
       "es        108\n",
       "fr         18\n",
       "pt         11\n",
       "ru         11\n",
       "it         10\n",
       "de          4\n",
       "pl          2\n",
       "th          1\n",
       "so          1\n",
       "no          1\n",
       "ko          1\n",
       "zh-cn       1\n",
       "fi          1\n",
       "Name: count, dtype: int64"
      ]
     },
     "execution_count": 10,
     "metadata": {},
     "output_type": "execute_result"
    }
   ],
   "source": [
    "df_reviews.language.value_counts()"
   ]
  },
  {
   "cell_type": "markdown",
   "id": "7592c4cd",
   "metadata": {
    "papermill": {
     "duration": 0.014609,
     "end_time": "2025-01-03T20:00:41.937539",
     "exception": false,
     "start_time": "2025-01-03T20:00:41.922930",
     "status": "completed"
    },
    "tags": []
   },
   "source": [
    "As majoirity of reviews are in english language. Thus, we can either ignore or translate the respective reviews to english"
   ]
  },
  {
   "cell_type": "markdown",
   "id": "ecd64b6c",
   "metadata": {
    "papermill": {
     "duration": 0.014593,
     "end_time": "2025-01-03T20:00:41.966708",
     "exception": false,
     "start_time": "2025-01-03T20:00:41.952115",
     "status": "completed"
    },
    "tags": []
   },
   "source": [
    "## Multilingual Translation"
   ]
  },
  {
   "cell_type": "markdown",
   "id": "ef8c665e",
   "metadata": {
    "papermill": {
     "duration": 0.015177,
     "end_time": "2025-01-03T20:00:41.997874",
     "exception": false,
     "start_time": "2025-01-03T20:00:41.982697",
     "status": "completed"
    },
    "tags": []
   },
   "source": [
    "### Install Deepl for multilingual translation support"
   ]
  },
  {
   "cell_type": "code",
   "execution_count": 11,
   "id": "7a645f7a",
   "metadata": {
    "execution": {
     "iopub.execute_input": "2025-01-03T20:00:42.029267Z",
     "iopub.status.busy": "2025-01-03T20:00:42.028907Z",
     "iopub.status.idle": "2025-01-03T20:00:46.514428Z",
     "shell.execute_reply": "2025-01-03T20:00:46.512570Z"
    },
    "papermill": {
     "duration": 4.504621,
     "end_time": "2025-01-03T20:00:46.517308",
     "exception": false,
     "start_time": "2025-01-03T20:00:42.012687",
     "status": "completed"
    },
    "tags": []
   },
   "outputs": [
    {
     "name": "stdout",
     "output_type": "stream",
     "text": [
      "Collecting deepl\r\n",
      "  Downloading deepl-1.20.0-py3-none-any.whl.metadata (28 kB)\r\n",
      "Requirement already satisfied: requests<3,>=2 in /usr/local/lib/python3.10/dist-packages (from deepl) (2.32.3)\r\n",
      "Requirement already satisfied: charset-normalizer<4,>=2 in /usr/local/lib/python3.10/dist-packages (from requests<3,>=2->deepl) (3.3.2)\r\n",
      "Requirement already satisfied: idna<4,>=2.5 in /usr/local/lib/python3.10/dist-packages (from requests<3,>=2->deepl) (3.10)\r\n",
      "Requirement already satisfied: urllib3<3,>=1.21.1 in /usr/local/lib/python3.10/dist-packages (from requests<3,>=2->deepl) (2.2.3)\r\n",
      "Requirement already satisfied: certifi>=2017.4.17 in /usr/local/lib/python3.10/dist-packages (from requests<3,>=2->deepl) (2024.8.30)\r\n",
      "Downloading deepl-1.20.0-py3-none-any.whl (36 kB)\r\n",
      "Installing collected packages: deepl\r\n",
      "Successfully installed deepl-1.20.0\r\n"
     ]
    }
   ],
   "source": [
    "! pip install deepl"
   ]
  },
  {
   "cell_type": "markdown",
   "id": "e13f489b",
   "metadata": {
    "papermill": {
     "duration": 0.017441,
     "end_time": "2025-01-03T20:00:46.550888",
     "exception": false,
     "start_time": "2025-01-03T20:00:46.533447",
     "status": "completed"
    },
    "tags": []
   },
   "source": [
    "## Translate non-english reviews"
   ]
  },
  {
   "cell_type": "code",
   "execution_count": 12,
   "id": "470220dd",
   "metadata": {
    "execution": {
     "iopub.execute_input": "2025-01-03T20:00:46.585138Z",
     "iopub.status.busy": "2025-01-03T20:00:46.584656Z",
     "iopub.status.idle": "2025-01-03T20:01:19.924474Z",
     "shell.execute_reply": "2025-01-03T20:01:19.923118Z"
    },
    "papermill": {
     "duration": 33.358936,
     "end_time": "2025-01-03T20:01:19.926718",
     "exception": false,
     "start_time": "2025-01-03T20:00:46.567782",
     "status": "completed"
    },
    "tags": []
   },
   "outputs": [],
   "source": [
    "import deepl\n",
    "\n",
    "# Replace with your DeepL API key\n",
    "auth_key = \"53ccd28c-8ff3-44e5-9459-7cf4699f0cee:fx\"#\"your_deepl_api_key\"\n",
    "translator = deepl.Translator(auth_key)\n",
    "\n",
    "# Translate non-English reviews\n",
    "def translate_text(text, source_lang, target_lang=\"EN-GB\"):\n",
    "    try:\n",
    "        result = translator.translate_text(text, source_lang=source_lang, target_lang=target_lang)\n",
    "        return result.text\n",
    "    except Exception as e:\n",
    "        return f\"Translation error: {e}\"\n",
    "\n",
    "# Filter non-English reviews\n",
    "non_english_reviews = df_reviews[df_reviews['language'] != 'en'].copy()\n",
    "\n",
    "# Translate non-English reviews\n",
    "non_english_reviews['translated_text'] = non_english_reviews.apply(\n",
    "    lambda row: translate_text(row['text'], source_lang=row['language'].upper()), axis=1\n",
    ")\n",
    "\n",
    "# Filter English reviews\n",
    "english_reviews = df_reviews[df_reviews['language'] == 'en']\n",
    "\n",
    "# Combine English and translated reviews\n",
    "df_reviews = pd.concat([english_reviews, non_english_reviews], ignore_index=True)\n",
    "\n"
   ]
  },
  {
   "cell_type": "code",
   "execution_count": 13,
   "id": "344eb187",
   "metadata": {
    "execution": {
     "iopub.execute_input": "2025-01-03T20:01:19.961093Z",
     "iopub.status.busy": "2025-01-03T20:01:19.960618Z",
     "iopub.status.idle": "2025-01-03T20:01:19.970182Z",
     "shell.execute_reply": "2025-01-03T20:01:19.968957Z"
    },
    "papermill": {
     "duration": 0.029264,
     "end_time": "2025-01-03T20:01:19.972096",
     "exception": false,
     "start_time": "2025-01-03T20:01:19.942832",
     "status": "completed"
    },
    "tags": []
   },
   "outputs": [
    {
     "data": {
      "text/plain": [
       "translated_text\n",
       "Translation error: Quota for this billing period has been exceeded, message: Quota Exceeded    166\n",
       "Translation error: Bad request, message: Value for 'source_lang' not supported.                  4\n",
       "Name: count, dtype: int64"
      ]
     },
     "execution_count": 13,
     "metadata": {},
     "output_type": "execute_result"
    }
   ],
   "source": [
    "non_english_reviews.translated_text.value_counts()"
   ]
  },
  {
   "cell_type": "markdown",
   "id": "7080d126",
   "metadata": {
    "papermill": {
     "duration": 0.016674,
     "end_time": "2025-01-03T20:01:20.004205",
     "exception": false,
     "start_time": "2025-01-03T20:01:19.987531",
     "status": "completed"
    },
    "tags": []
   },
   "source": [
    "## Combine original and translated text"
   ]
  },
  {
   "cell_type": "code",
   "execution_count": 14,
   "id": "9f966eed",
   "metadata": {
    "execution": {
     "iopub.execute_input": "2025-01-03T20:01:20.037227Z",
     "iopub.status.busy": "2025-01-03T20:01:20.036786Z",
     "iopub.status.idle": "2025-01-03T20:01:20.077343Z",
     "shell.execute_reply": "2025-01-03T20:01:20.075815Z"
    },
    "papermill": {
     "duration": 0.059287,
     "end_time": "2025-01-03T20:01:20.079464",
     "exception": false,
     "start_time": "2025-01-03T20:01:20.020177",
     "status": "completed"
    },
    "tags": []
   },
   "outputs": [],
   "source": [
    "# Combine original and translated text\n",
    "df_reviews['final_text'] = df_reviews.apply(\n",
    "    lambda row: row['text'] if row['language'] == 'en' else row['translated_text'], axis=1\n",
    ")"
   ]
  },
  {
   "cell_type": "code",
   "execution_count": 15,
   "id": "e3957449",
   "metadata": {
    "execution": {
     "iopub.execute_input": "2025-01-03T20:01:20.112192Z",
     "iopub.status.busy": "2025-01-03T20:01:20.111675Z",
     "iopub.status.idle": "2025-01-03T20:01:20.131197Z",
     "shell.execute_reply": "2025-01-03T20:01:20.129644Z"
    },
    "papermill": {
     "duration": 0.038114,
     "end_time": "2025-01-03T20:01:20.133313",
     "exception": false,
     "start_time": "2025-01-03T20:01:20.095199",
     "status": "completed"
    },
    "tags": []
   },
   "outputs": [
    {
     "data": {
      "text/html": [
       "<div>\n",
       "<style scoped>\n",
       "    .dataframe tbody tr th:only-of-type {\n",
       "        vertical-align: middle;\n",
       "    }\n",
       "\n",
       "    .dataframe tbody tr th {\n",
       "        vertical-align: top;\n",
       "    }\n",
       "\n",
       "    .dataframe thead th {\n",
       "        text-align: right;\n",
       "    }\n",
       "</style>\n",
       "<table border=\"1\" class=\"dataframe\">\n",
       "  <thead>\n",
       "    <tr style=\"text-align: right;\">\n",
       "      <th></th>\n",
       "      <th>grade</th>\n",
       "      <th>user_name</th>\n",
       "      <th>text</th>\n",
       "      <th>date</th>\n",
       "      <th>language</th>\n",
       "      <th>translated_text</th>\n",
       "      <th>final_text</th>\n",
       "    </tr>\n",
       "  </thead>\n",
       "  <tbody>\n",
       "    <tr>\n",
       "      <th>0</th>\n",
       "      <td>4</td>\n",
       "      <td>mds27272</td>\n",
       "      <td>My gf started playing before me. No option to ...</td>\n",
       "      <td>2020-03-20</td>\n",
       "      <td>en</td>\n",
       "      <td>NaN</td>\n",
       "      <td>My gf started playing before me. No option to ...</td>\n",
       "    </tr>\n",
       "    <tr>\n",
       "      <th>1</th>\n",
       "      <td>5</td>\n",
       "      <td>lolo2178</td>\n",
       "      <td>While the game itself is great, really relaxin...</td>\n",
       "      <td>2020-03-20</td>\n",
       "      <td>en</td>\n",
       "      <td>NaN</td>\n",
       "      <td>While the game itself is great, really relaxin...</td>\n",
       "    </tr>\n",
       "    <tr>\n",
       "      <th>2</th>\n",
       "      <td>0</td>\n",
       "      <td>Roachant</td>\n",
       "      <td>My wife and I were looking forward to playing ...</td>\n",
       "      <td>2020-03-20</td>\n",
       "      <td>en</td>\n",
       "      <td>NaN</td>\n",
       "      <td>My wife and I were looking forward to playing ...</td>\n",
       "    </tr>\n",
       "    <tr>\n",
       "      <th>3</th>\n",
       "      <td>0</td>\n",
       "      <td>Houndf</td>\n",
       "      <td>We need equal values and opportunities for all...</td>\n",
       "      <td>2020-03-20</td>\n",
       "      <td>en</td>\n",
       "      <td>NaN</td>\n",
       "      <td>We need equal values and opportunities for all...</td>\n",
       "    </tr>\n",
       "    <tr>\n",
       "      <th>4</th>\n",
       "      <td>0</td>\n",
       "      <td>ProfessorFox</td>\n",
       "      <td>BEWARE!  If you have multiple people in your h...</td>\n",
       "      <td>2020-03-20</td>\n",
       "      <td>en</td>\n",
       "      <td>NaN</td>\n",
       "      <td>BEWARE!  If you have multiple people in your h...</td>\n",
       "    </tr>\n",
       "    <tr>\n",
       "      <th>...</th>\n",
       "      <td>...</td>\n",
       "      <td>...</td>\n",
       "      <td>...</td>\n",
       "      <td>...</td>\n",
       "      <td>...</td>\n",
       "      <td>...</td>\n",
       "      <td>...</td>\n",
       "    </tr>\n",
       "    <tr>\n",
       "      <th>2994</th>\n",
       "      <td>10</td>\n",
       "      <td>ArisLink</td>\n",
       "      <td>Es el mejor Animal crossing de la historia y m...</td>\n",
       "      <td>2020-04-28</td>\n",
       "      <td>es</td>\n",
       "      <td>Translation error: Quota for this billing peri...</td>\n",
       "      <td>Translation error: Quota for this billing peri...</td>\n",
       "    </tr>\n",
       "    <tr>\n",
       "      <th>2995</th>\n",
       "      <td>7</td>\n",
       "      <td>Gemmo</td>\n",
       "      <td>Trovo che il gioco sia ben strutturato e lasci...</td>\n",
       "      <td>2020-04-28</td>\n",
       "      <td>it</td>\n",
       "      <td>Translation error: Quota for this billing peri...</td>\n",
       "      <td>Translation error: Quota for this billing peri...</td>\n",
       "    </tr>\n",
       "    <tr>\n",
       "      <th>2996</th>\n",
       "      <td>10</td>\n",
       "      <td>Jhonpo</td>\n",
       "      <td>El juego es maravilloso y que bien esta jugarl...</td>\n",
       "      <td>2020-04-29</td>\n",
       "      <td>es</td>\n",
       "      <td>Translation error: Quota for this billing peri...</td>\n",
       "      <td>Translation error: Quota for this billing peri...</td>\n",
       "    </tr>\n",
       "    <tr>\n",
       "      <th>2997</th>\n",
       "      <td>10</td>\n",
       "      <td>Dabaru</td>\n",
       "      <td>Me hacen gracia las notas bajas intentando des...</td>\n",
       "      <td>2020-05-02</td>\n",
       "      <td>es</td>\n",
       "      <td>Translation error: Quota for this billing peri...</td>\n",
       "      <td>Translation error: Quota for this billing peri...</td>\n",
       "    </tr>\n",
       "    <tr>\n",
       "      <th>2998</th>\n",
       "      <td>1</td>\n",
       "      <td>Pikey17</td>\n",
       "      <td>Per giocare con figli o fidanzate, mogli o per...</td>\n",
       "      <td>2020-05-03</td>\n",
       "      <td>it</td>\n",
       "      <td>Translation error: Quota for this billing peri...</td>\n",
       "      <td>Translation error: Quota for this billing peri...</td>\n",
       "    </tr>\n",
       "  </tbody>\n",
       "</table>\n",
       "<p>2999 rows × 7 columns</p>\n",
       "</div>"
      ],
      "text/plain": [
       "      grade     user_name                                               text  \\\n",
       "0         4      mds27272  My gf started playing before me. No option to ...   \n",
       "1         5      lolo2178  While the game itself is great, really relaxin...   \n",
       "2         0      Roachant  My wife and I were looking forward to playing ...   \n",
       "3         0        Houndf  We need equal values and opportunities for all...   \n",
       "4         0  ProfessorFox  BEWARE!  If you have multiple people in your h...   \n",
       "...     ...           ...                                                ...   \n",
       "2994     10      ArisLink  Es el mejor Animal crossing de la historia y m...   \n",
       "2995      7         Gemmo  Trovo che il gioco sia ben strutturato e lasci...   \n",
       "2996     10        Jhonpo  El juego es maravilloso y que bien esta jugarl...   \n",
       "2997     10        Dabaru  Me hacen gracia las notas bajas intentando des...   \n",
       "2998      1       Pikey17  Per giocare con figli o fidanzate, mogli o per...   \n",
       "\n",
       "           date language                                    translated_text  \\\n",
       "0    2020-03-20       en                                                NaN   \n",
       "1    2020-03-20       en                                                NaN   \n",
       "2    2020-03-20       en                                                NaN   \n",
       "3    2020-03-20       en                                                NaN   \n",
       "4    2020-03-20       en                                                NaN   \n",
       "...         ...      ...                                                ...   \n",
       "2994 2020-04-28       es  Translation error: Quota for this billing peri...   \n",
       "2995 2020-04-28       it  Translation error: Quota for this billing peri...   \n",
       "2996 2020-04-29       es  Translation error: Quota for this billing peri...   \n",
       "2997 2020-05-02       es  Translation error: Quota for this billing peri...   \n",
       "2998 2020-05-03       it  Translation error: Quota for this billing peri...   \n",
       "\n",
       "                                             final_text  \n",
       "0     My gf started playing before me. No option to ...  \n",
       "1     While the game itself is great, really relaxin...  \n",
       "2     My wife and I were looking forward to playing ...  \n",
       "3     We need equal values and opportunities for all...  \n",
       "4     BEWARE!  If you have multiple people in your h...  \n",
       "...                                                 ...  \n",
       "2994  Translation error: Quota for this billing peri...  \n",
       "2995  Translation error: Quota for this billing peri...  \n",
       "2996  Translation error: Quota for this billing peri...  \n",
       "2997  Translation error: Quota for this billing peri...  \n",
       "2998  Translation error: Quota for this billing peri...  \n",
       "\n",
       "[2999 rows x 7 columns]"
      ]
     },
     "execution_count": 15,
     "metadata": {},
     "output_type": "execute_result"
    }
   ],
   "source": [
    "df_reviews"
   ]
  },
  {
   "cell_type": "markdown",
   "id": "d830d03d",
   "metadata": {
    "papermill": {
     "duration": 0.015823,
     "end_time": "2025-01-03T20:01:20.165750",
     "exception": false,
     "start_time": "2025-01-03T20:01:20.149927",
     "status": "completed"
    },
    "tags": []
   },
   "source": [
    "## Filter out rows with translation errors"
   ]
  },
  {
   "cell_type": "code",
   "execution_count": 16,
   "id": "c8aca61d",
   "metadata": {
    "execution": {
     "iopub.execute_input": "2025-01-03T20:01:20.198977Z",
     "iopub.status.busy": "2025-01-03T20:01:20.198476Z",
     "iopub.status.idle": "2025-01-03T20:01:20.209122Z",
     "shell.execute_reply": "2025-01-03T20:01:20.207720Z"
    },
    "papermill": {
     "duration": 0.030198,
     "end_time": "2025-01-03T20:01:20.211429",
     "exception": false,
     "start_time": "2025-01-03T20:01:20.181231",
     "status": "completed"
    },
    "tags": []
   },
   "outputs": [],
   "source": [
    "# Filter out rows with translation errors\n",
    "df_reviews = df_reviews[~df_reviews['translated_text'].str.contains(\"Translation error\", na=False)]\n",
    "\n",
    "# Reset the index after filtering\n",
    "df_reviews.reset_index(drop=True, inplace=True)\n"
   ]
  },
  {
   "cell_type": "code",
   "execution_count": 17,
   "id": "2dc46231",
   "metadata": {
    "execution": {
     "iopub.execute_input": "2025-01-03T20:01:20.247466Z",
     "iopub.status.busy": "2025-01-03T20:01:20.247031Z",
     "iopub.status.idle": "2025-01-03T20:01:20.256922Z",
     "shell.execute_reply": "2025-01-03T20:01:20.255692Z"
    },
    "papermill": {
     "duration": 0.029571,
     "end_time": "2025-01-03T20:01:20.258770",
     "exception": false,
     "start_time": "2025-01-03T20:01:20.229199",
     "status": "completed"
    },
    "tags": []
   },
   "outputs": [
    {
     "data": {
      "text/plain": [
       "0"
      ]
     },
     "execution_count": 17,
     "metadata": {},
     "output_type": "execute_result"
    }
   ],
   "source": [
    "df_reviews['translated_text'].str.contains(\"Translation error\", na=False).sum()"
   ]
  },
  {
   "cell_type": "code",
   "execution_count": 18,
   "id": "464b2955",
   "metadata": {
    "execution": {
     "iopub.execute_input": "2025-01-03T20:01:20.296998Z",
     "iopub.status.busy": "2025-01-03T20:01:20.296590Z",
     "iopub.status.idle": "2025-01-03T20:01:20.305381Z",
     "shell.execute_reply": "2025-01-03T20:01:20.304072Z"
    },
    "papermill": {
     "duration": 0.030885,
     "end_time": "2025-01-03T20:01:20.307636",
     "exception": false,
     "start_time": "2025-01-03T20:01:20.276751",
     "status": "completed"
    },
    "tags": []
   },
   "outputs": [
    {
     "data": {
      "text/plain": [
       "Series([], Name: count, dtype: int64)"
      ]
     },
     "execution_count": 18,
     "metadata": {},
     "output_type": "execute_result"
    }
   ],
   "source": [
    "df_reviews.translated_text.value_counts()"
   ]
  },
  {
   "cell_type": "code",
   "execution_count": 19,
   "id": "b9c1d6ca",
   "metadata": {
    "execution": {
     "iopub.execute_input": "2025-01-03T20:01:20.347310Z",
     "iopub.status.busy": "2025-01-03T20:01:20.346903Z",
     "iopub.status.idle": "2025-01-03T20:01:20.353817Z",
     "shell.execute_reply": "2025-01-03T20:01:20.352205Z"
    },
    "papermill": {
     "duration": 0.029618,
     "end_time": "2025-01-03T20:01:20.356363",
     "exception": false,
     "start_time": "2025-01-03T20:01:20.326745",
     "status": "completed"
    },
    "tags": []
   },
   "outputs": [
    {
     "data": {
      "text/plain": [
       "(2829, 7)"
      ]
     },
     "execution_count": 19,
     "metadata": {},
     "output_type": "execute_result"
    }
   ],
   "source": [
    "df_reviews.shape"
   ]
  },
  {
   "cell_type": "code",
   "execution_count": 20,
   "id": "d8c86531",
   "metadata": {
    "execution": {
     "iopub.execute_input": "2025-01-03T20:01:20.394371Z",
     "iopub.status.busy": "2025-01-03T20:01:20.393959Z",
     "iopub.status.idle": "2025-01-03T20:01:20.403234Z",
     "shell.execute_reply": "2025-01-03T20:01:20.402074Z"
    },
    "papermill": {
     "duration": 0.030532,
     "end_time": "2025-01-03T20:01:20.405394",
     "exception": false,
     "start_time": "2025-01-03T20:01:20.374862",
     "status": "completed"
    },
    "tags": []
   },
   "outputs": [
    {
     "data": {
      "text/plain": [
       "grade                 0\n",
       "user_name             0\n",
       "text                  0\n",
       "date                  0\n",
       "language              0\n",
       "translated_text    2829\n",
       "final_text            0\n",
       "dtype: int64"
      ]
     },
     "execution_count": 20,
     "metadata": {},
     "output_type": "execute_result"
    }
   ],
   "source": [
    "df_reviews.isnull().sum()"
   ]
  },
  {
   "cell_type": "code",
   "execution_count": 21,
   "id": "089d7d90",
   "metadata": {
    "execution": {
     "iopub.execute_input": "2025-01-03T20:01:20.445572Z",
     "iopub.status.busy": "2025-01-03T20:01:20.445106Z",
     "iopub.status.idle": "2025-01-03T20:01:20.452384Z",
     "shell.execute_reply": "2025-01-03T20:01:20.451196Z"
    },
    "papermill": {
     "duration": 0.029525,
     "end_time": "2025-01-03T20:01:20.454383",
     "exception": false,
     "start_time": "2025-01-03T20:01:20.424858",
     "status": "completed"
    },
    "tags": []
   },
   "outputs": [
    {
     "data": {
      "text/plain": [
       "Index(['grade', 'user_name', 'text', 'date', 'language', 'translated_text',\n",
       "       'final_text'],\n",
       "      dtype='object')"
      ]
     },
     "execution_count": 21,
     "metadata": {},
     "output_type": "execute_result"
    }
   ],
   "source": [
    "df_reviews.columns"
   ]
  },
  {
   "cell_type": "markdown",
   "id": "961d4d4c",
   "metadata": {
    "papermill": {
     "duration": 0.016916,
     "end_time": "2025-01-03T20:01:20.488733",
     "exception": false,
     "start_time": "2025-01-03T20:01:20.471817",
     "status": "completed"
    },
    "tags": []
   },
   "source": [
    "## Final dataset for preprocessing"
   ]
  },
  {
   "cell_type": "code",
   "execution_count": 22,
   "id": "6d922765",
   "metadata": {
    "execution": {
     "iopub.execute_input": "2025-01-03T20:01:20.523880Z",
     "iopub.status.busy": "2025-01-03T20:01:20.523383Z",
     "iopub.status.idle": "2025-01-03T20:01:20.531437Z",
     "shell.execute_reply": "2025-01-03T20:01:20.530213Z"
    },
    "papermill": {
     "duration": 0.028189,
     "end_time": "2025-01-03T20:01:20.533666",
     "exception": false,
     "start_time": "2025-01-03T20:01:20.505477",
     "status": "completed"
    },
    "tags": []
   },
   "outputs": [],
   "source": [
    "df_reviews_final = df_reviews[['grade', 'user_name', 'date', 'final_text']]\n"
   ]
  },
  {
   "cell_type": "code",
   "execution_count": 23,
   "id": "75f670d1",
   "metadata": {
    "execution": {
     "iopub.execute_input": "2025-01-03T20:01:20.571131Z",
     "iopub.status.busy": "2025-01-03T20:01:20.570742Z",
     "iopub.status.idle": "2025-01-03T20:01:20.584232Z",
     "shell.execute_reply": "2025-01-03T20:01:20.582905Z"
    },
    "papermill": {
     "duration": 0.033771,
     "end_time": "2025-01-03T20:01:20.586202",
     "exception": false,
     "start_time": "2025-01-03T20:01:20.552431",
     "status": "completed"
    },
    "tags": []
   },
   "outputs": [
    {
     "data": {
      "text/html": [
       "<div>\n",
       "<style scoped>\n",
       "    .dataframe tbody tr th:only-of-type {\n",
       "        vertical-align: middle;\n",
       "    }\n",
       "\n",
       "    .dataframe tbody tr th {\n",
       "        vertical-align: top;\n",
       "    }\n",
       "\n",
       "    .dataframe thead th {\n",
       "        text-align: right;\n",
       "    }\n",
       "</style>\n",
       "<table border=\"1\" class=\"dataframe\">\n",
       "  <thead>\n",
       "    <tr style=\"text-align: right;\">\n",
       "      <th></th>\n",
       "      <th>grade</th>\n",
       "      <th>user_name</th>\n",
       "      <th>date</th>\n",
       "      <th>final_text</th>\n",
       "    </tr>\n",
       "  </thead>\n",
       "  <tbody>\n",
       "    <tr>\n",
       "      <th>0</th>\n",
       "      <td>4</td>\n",
       "      <td>mds27272</td>\n",
       "      <td>2020-03-20</td>\n",
       "      <td>My gf started playing before me. No option to ...</td>\n",
       "    </tr>\n",
       "    <tr>\n",
       "      <th>1</th>\n",
       "      <td>5</td>\n",
       "      <td>lolo2178</td>\n",
       "      <td>2020-03-20</td>\n",
       "      <td>While the game itself is great, really relaxin...</td>\n",
       "    </tr>\n",
       "    <tr>\n",
       "      <th>2</th>\n",
       "      <td>0</td>\n",
       "      <td>Roachant</td>\n",
       "      <td>2020-03-20</td>\n",
       "      <td>My wife and I were looking forward to playing ...</td>\n",
       "    </tr>\n",
       "    <tr>\n",
       "      <th>3</th>\n",
       "      <td>0</td>\n",
       "      <td>Houndf</td>\n",
       "      <td>2020-03-20</td>\n",
       "      <td>We need equal values and opportunities for all...</td>\n",
       "    </tr>\n",
       "    <tr>\n",
       "      <th>4</th>\n",
       "      <td>0</td>\n",
       "      <td>ProfessorFox</td>\n",
       "      <td>2020-03-20</td>\n",
       "      <td>BEWARE!  If you have multiple people in your h...</td>\n",
       "    </tr>\n",
       "    <tr>\n",
       "      <th>...</th>\n",
       "      <td>...</td>\n",
       "      <td>...</td>\n",
       "      <td>...</td>\n",
       "      <td>...</td>\n",
       "    </tr>\n",
       "    <tr>\n",
       "      <th>2824</th>\n",
       "      <td>0</td>\n",
       "      <td>crazycasti</td>\n",
       "      <td>2020-05-03</td>\n",
       "      <td>For those who say I don't understand review bo...</td>\n",
       "    </tr>\n",
       "    <tr>\n",
       "      <th>2825</th>\n",
       "      <td>1</td>\n",
       "      <td>TakezoShinmen</td>\n",
       "      <td>2020-05-03</td>\n",
       "      <td>1 Island for console limitation.I cannot play ...</td>\n",
       "    </tr>\n",
       "    <tr>\n",
       "      <th>2826</th>\n",
       "      <td>0</td>\n",
       "      <td>Lemmeadem</td>\n",
       "      <td>2020-05-03</td>\n",
       "      <td>One island per console is a pathetic limitatio...</td>\n",
       "    </tr>\n",
       "    <tr>\n",
       "      <th>2827</th>\n",
       "      <td>2</td>\n",
       "      <td>TandemTester938</td>\n",
       "      <td>2020-05-03</td>\n",
       "      <td>Even though it seems like a great game with ma...</td>\n",
       "    </tr>\n",
       "    <tr>\n",
       "      <th>2828</th>\n",
       "      <td>4</td>\n",
       "      <td>DwerG</td>\n",
       "      <td>2020-05-03</td>\n",
       "      <td>Game is fantastic.Nintendo deciding that you c...</td>\n",
       "    </tr>\n",
       "  </tbody>\n",
       "</table>\n",
       "<p>2829 rows × 4 columns</p>\n",
       "</div>"
      ],
      "text/plain": [
       "      grade        user_name       date  \\\n",
       "0         4         mds27272 2020-03-20   \n",
       "1         5         lolo2178 2020-03-20   \n",
       "2         0         Roachant 2020-03-20   \n",
       "3         0           Houndf 2020-03-20   \n",
       "4         0     ProfessorFox 2020-03-20   \n",
       "...     ...              ...        ...   \n",
       "2824      0       crazycasti 2020-05-03   \n",
       "2825      1    TakezoShinmen 2020-05-03   \n",
       "2826      0        Lemmeadem 2020-05-03   \n",
       "2827      2  TandemTester938 2020-05-03   \n",
       "2828      4            DwerG 2020-05-03   \n",
       "\n",
       "                                             final_text  \n",
       "0     My gf started playing before me. No option to ...  \n",
       "1     While the game itself is great, really relaxin...  \n",
       "2     My wife and I were looking forward to playing ...  \n",
       "3     We need equal values and opportunities for all...  \n",
       "4     BEWARE!  If you have multiple people in your h...  \n",
       "...                                                 ...  \n",
       "2824  For those who say I don't understand review bo...  \n",
       "2825  1 Island for console limitation.I cannot play ...  \n",
       "2826  One island per console is a pathetic limitatio...  \n",
       "2827  Even though it seems like a great game with ma...  \n",
       "2828  Game is fantastic.Nintendo deciding that you c...  \n",
       "\n",
       "[2829 rows x 4 columns]"
      ]
     },
     "execution_count": 23,
     "metadata": {},
     "output_type": "execute_result"
    }
   ],
   "source": [
    "df_reviews_final"
   ]
  },
  {
   "cell_type": "code",
   "execution_count": 24,
   "id": "4cb8230c",
   "metadata": {
    "execution": {
     "iopub.execute_input": "2025-01-03T20:01:20.627777Z",
     "iopub.status.busy": "2025-01-03T20:01:20.627292Z",
     "iopub.status.idle": "2025-01-03T20:01:20.693969Z",
     "shell.execute_reply": "2025-01-03T20:01:20.692568Z"
    },
    "papermill": {
     "duration": 0.087121,
     "end_time": "2025-01-03T20:01:20.696329",
     "exception": false,
     "start_time": "2025-01-03T20:01:20.609208",
     "status": "completed"
    },
    "tags": []
   },
   "outputs": [],
   "source": [
    "df_reviews_final.to_csv('final_traslate.csv')"
   ]
  },
  {
   "cell_type": "code",
   "execution_count": 25,
   "id": "d3e50648",
   "metadata": {
    "execution": {
     "iopub.execute_input": "2025-01-03T20:01:20.732270Z",
     "iopub.status.busy": "2025-01-03T20:01:20.731851Z",
     "iopub.status.idle": "2025-01-03T20:01:20.777048Z",
     "shell.execute_reply": "2025-01-03T20:01:20.775808Z"
    },
    "papermill": {
     "duration": 0.065748,
     "end_time": "2025-01-03T20:01:20.779220",
     "exception": false,
     "start_time": "2025-01-03T20:01:20.713472",
     "status": "completed"
    },
    "tags": []
   },
   "outputs": [],
   "source": [
    "df_reviews_final = pd.read_csv('final_traslate.csv')"
   ]
  },
  {
   "cell_type": "markdown",
   "id": "a0626020",
   "metadata": {
    "papermill": {
     "duration": 0.026796,
     "end_time": "2025-01-03T20:01:20.833271",
     "exception": false,
     "start_time": "2025-01-03T20:01:20.806475",
     "status": "completed"
    },
    "tags": []
   },
   "source": [
    "## Check grade distribution"
   ]
  },
  {
   "cell_type": "code",
   "execution_count": 26,
   "id": "35ed5aed",
   "metadata": {
    "execution": {
     "iopub.execute_input": "2025-01-03T20:01:20.877689Z",
     "iopub.status.busy": "2025-01-03T20:01:20.877127Z",
     "iopub.status.idle": "2025-01-03T20:01:21.257745Z",
     "shell.execute_reply": "2025-01-03T20:01:21.255928Z"
    },
    "papermill": {
     "duration": 0.404172,
     "end_time": "2025-01-03T20:01:21.259959",
     "exception": false,
     "start_time": "2025-01-03T20:01:20.855787",
     "status": "completed"
    },
    "tags": []
   },
   "outputs": [
    {
     "data": {
      "text/plain": [
       "<Axes: title={'center': 'Grade Distribution'}, xlabel='grade'>"
      ]
     },
     "execution_count": 26,
     "metadata": {},
     "output_type": "execute_result"
    },
    {
     "data": {
      "image/png": "[encoded data removed]",
      "text/plain": [
       "<Figure size 640x480 with 1 Axes>"
      ]
     },
     "metadata": {},
     "output_type": "display_data"
    }
   ],
   "source": [
    "# Grade distribution\n",
    "df_reviews_final['grade'].value_counts().plot(kind='bar', title='Grade Distribution')"
   ]
  },
  {
   "cell_type": "markdown",
   "id": "7a481978",
   "metadata": {
    "papermill": {
     "duration": 0.016435,
     "end_time": "2025-01-03T20:01:21.294422",
     "exception": false,
     "start_time": "2025-01-03T20:01:21.277987",
     "status": "completed"
    },
    "tags": []
   },
   "source": [
    "## Word count distribution"
   ]
  },
  {
   "cell_type": "code",
   "execution_count": 27,
   "id": "c24fd64a",
   "metadata": {
    "execution": {
     "iopub.execute_input": "2025-01-03T20:01:21.329274Z",
     "iopub.status.busy": "2025-01-03T20:01:21.328852Z",
     "iopub.status.idle": "2025-01-03T20:01:21.705383Z",
     "shell.execute_reply": "2025-01-03T20:01:21.704091Z"
    },
    "papermill": {
     "duration": 0.396313,
     "end_time": "2025-01-03T20:01:21.707182",
     "exception": false,
     "start_time": "2025-01-03T20:01:21.310869",
     "status": "completed"
    },
    "tags": []
   },
   "outputs": [
    {
     "data": {
      "text/plain": [
       "<Axes: title={'center': 'Word Count Distribution'}, ylabel='Frequency'>"
      ]
     },
     "execution_count": 27,
     "metadata": {},
     "output_type": "execute_result"
    },
    {
     "data": {
      "image/png": "[encoded data removed]",
      "text/plain": [
       "<Figure size 640x480 with 1 Axes>"
      ]
     },
     "metadata": {},
     "output_type": "display_data"
    }
   ],
   "source": [
    "# Word count distribution\n",
    "df_reviews_final['word_count'] = df_reviews_final['final_text'].str.split().apply(len)\n",
    "df_reviews_final['word_count'].plot(kind='hist', bins=20, title='Word Count Distribution')"
   ]
  },
  {
   "cell_type": "markdown",
   "id": "b0bf9088",
   "metadata": {
    "papermill": {
     "duration": 0.018062,
     "end_time": "2025-01-03T20:01:21.744236",
     "exception": false,
     "start_time": "2025-01-03T20:01:21.726174",
     "status": "completed"
    },
    "tags": []
   },
   "source": [
    "## Text Preprocessing"
   ]
  },
  {
   "cell_type": "markdown",
   "id": "74333f4f",
   "metadata": {
    "papermill": {
     "duration": 0.017335,
     "end_time": "2025-01-03T20:01:21.779539",
     "exception": false,
     "start_time": "2025-01-03T20:01:21.762204",
     "status": "completed"
    },
    "tags": []
   },
   "source": [
    "### Cleaning reviews"
   ]
  },
  {
   "cell_type": "code",
   "execution_count": 28,
   "id": "b749e0fa",
   "metadata": {
    "execution": {
     "iopub.execute_input": "2025-01-03T20:01:21.816711Z",
     "iopub.status.busy": "2025-01-03T20:01:21.816321Z",
     "iopub.status.idle": "2025-01-03T20:01:21.901204Z",
     "shell.execute_reply": "2025-01-03T20:01:21.899976Z"
    },
    "papermill": {
     "duration": 0.105775,
     "end_time": "2025-01-03T20:01:21.903569",
     "exception": false,
     "start_time": "2025-01-03T20:01:21.797794",
     "status": "completed"
    },
    "tags": []
   },
   "outputs": [],
   "source": [
    "import re\n",
    "\n",
    "def clean_text(text):\n",
    "    # Remove URLs, HTML tags, and special characters\n",
    "    text = re.sub(r\"http\\S+|www\\S+|https\\S+\", '', text, flags=re.MULTILINE)\n",
    "    text = re.sub(r'<.*?>', '', text)\n",
    "    text = re.sub(r'[^a-zA-Z0-9\\s]', '', text)\n",
    "    \n",
    "    # Convert to lowercase\n",
    "    text = text.lower()\n",
    "    \n",
    "    return text.strip()\n",
    "\n",
    "    \n",
    "df_reviews_final.loc[:, 'cleaned_text'] = df_reviews_final['final_text'].apply(clean_text)\n",
    "\n"
   ]
  },
  {
   "cell_type": "code",
   "execution_count": 29,
   "id": "4a618969",
   "metadata": {
    "execution": {
     "iopub.execute_input": "2025-01-03T20:01:21.941655Z",
     "iopub.status.busy": "2025-01-03T20:01:21.941240Z",
     "iopub.status.idle": "2025-01-03T20:01:21.955114Z",
     "shell.execute_reply": "2025-01-03T20:01:21.953977Z"
    },
    "papermill": {
     "duration": 0.034816,
     "end_time": "2025-01-03T20:01:21.956869",
     "exception": false,
     "start_time": "2025-01-03T20:01:21.922053",
     "status": "completed"
    },
    "tags": []
   },
   "outputs": [
    {
     "data": {
      "text/html": [
       "<div>\n",
       "<style scoped>\n",
       "    .dataframe tbody tr th:only-of-type {\n",
       "        vertical-align: middle;\n",
       "    }\n",
       "\n",
       "    .dataframe tbody tr th {\n",
       "        vertical-align: top;\n",
       "    }\n",
       "\n",
       "    .dataframe thead th {\n",
       "        text-align: right;\n",
       "    }\n",
       "</style>\n",
       "<table border=\"1\" class=\"dataframe\">\n",
       "  <thead>\n",
       "    <tr style=\"text-align: right;\">\n",
       "      <th></th>\n",
       "      <th>Unnamed: 0</th>\n",
       "      <th>grade</th>\n",
       "      <th>user_name</th>\n",
       "      <th>date</th>\n",
       "      <th>final_text</th>\n",
       "      <th>word_count</th>\n",
       "      <th>cleaned_text</th>\n",
       "    </tr>\n",
       "  </thead>\n",
       "  <tbody>\n",
       "    <tr>\n",
       "      <th>0</th>\n",
       "      <td>0</td>\n",
       "      <td>4</td>\n",
       "      <td>mds27272</td>\n",
       "      <td>2020-03-20</td>\n",
       "      <td>My gf started playing before me. No option to ...</td>\n",
       "      <td>70</td>\n",
       "      <td>my gf started playing before me no option to c...</td>\n",
       "    </tr>\n",
       "    <tr>\n",
       "      <th>1</th>\n",
       "      <td>1</td>\n",
       "      <td>5</td>\n",
       "      <td>lolo2178</td>\n",
       "      <td>2020-03-20</td>\n",
       "      <td>While the game itself is great, really relaxin...</td>\n",
       "      <td>167</td>\n",
       "      <td>while the game itself is great really relaxing...</td>\n",
       "    </tr>\n",
       "    <tr>\n",
       "      <th>2</th>\n",
       "      <td>2</td>\n",
       "      <td>0</td>\n",
       "      <td>Roachant</td>\n",
       "      <td>2020-03-20</td>\n",
       "      <td>My wife and I were looking forward to playing ...</td>\n",
       "      <td>185</td>\n",
       "      <td>my wife and i were looking forward to playing ...</td>\n",
       "    </tr>\n",
       "    <tr>\n",
       "      <th>3</th>\n",
       "      <td>3</td>\n",
       "      <td>0</td>\n",
       "      <td>Houndf</td>\n",
       "      <td>2020-03-20</td>\n",
       "      <td>We need equal values and opportunities for all...</td>\n",
       "      <td>56</td>\n",
       "      <td>we need equal values and opportunities for all...</td>\n",
       "    </tr>\n",
       "    <tr>\n",
       "      <th>4</th>\n",
       "      <td>4</td>\n",
       "      <td>0</td>\n",
       "      <td>ProfessorFox</td>\n",
       "      <td>2020-03-20</td>\n",
       "      <td>BEWARE!  If you have multiple people in your h...</td>\n",
       "      <td>183</td>\n",
       "      <td>beware  if you have multiple people in your ho...</td>\n",
       "    </tr>\n",
       "    <tr>\n",
       "      <th>...</th>\n",
       "      <td>...</td>\n",
       "      <td>...</td>\n",
       "      <td>...</td>\n",
       "      <td>...</td>\n",
       "      <td>...</td>\n",
       "      <td>...</td>\n",
       "      <td>...</td>\n",
       "    </tr>\n",
       "    <tr>\n",
       "      <th>2824</th>\n",
       "      <td>2824</td>\n",
       "      <td>0</td>\n",
       "      <td>crazycasti</td>\n",
       "      <td>2020-05-03</td>\n",
       "      <td>For those who say I don't understand review bo...</td>\n",
       "      <td>18</td>\n",
       "      <td>for those who say i dont understand review bom...</td>\n",
       "    </tr>\n",
       "    <tr>\n",
       "      <th>2825</th>\n",
       "      <td>2825</td>\n",
       "      <td>1</td>\n",
       "      <td>TakezoShinmen</td>\n",
       "      <td>2020-05-03</td>\n",
       "      <td>1 Island for console limitation.I cannot play ...</td>\n",
       "      <td>25</td>\n",
       "      <td>1 island for console limitationi cannot play t...</td>\n",
       "    </tr>\n",
       "    <tr>\n",
       "      <th>2826</th>\n",
       "      <td>2826</td>\n",
       "      <td>0</td>\n",
       "      <td>Lemmeadem</td>\n",
       "      <td>2020-05-03</td>\n",
       "      <td>One island per console is a pathetic limitatio...</td>\n",
       "      <td>69</td>\n",
       "      <td>one island per console is a pathetic limitatio...</td>\n",
       "    </tr>\n",
       "    <tr>\n",
       "      <th>2827</th>\n",
       "      <td>2827</td>\n",
       "      <td>2</td>\n",
       "      <td>TandemTester938</td>\n",
       "      <td>2020-05-03</td>\n",
       "      <td>Even though it seems like a great game with ma...</td>\n",
       "      <td>45</td>\n",
       "      <td>even though it seems like a great game with ma...</td>\n",
       "    </tr>\n",
       "    <tr>\n",
       "      <th>2828</th>\n",
       "      <td>2828</td>\n",
       "      <td>4</td>\n",
       "      <td>DwerG</td>\n",
       "      <td>2020-05-03</td>\n",
       "      <td>Game is fantastic.Nintendo deciding that you c...</td>\n",
       "      <td>20</td>\n",
       "      <td>game is fantasticnintendo deciding that you ca...</td>\n",
       "    </tr>\n",
       "  </tbody>\n",
       "</table>\n",
       "<p>2829 rows × 7 columns</p>\n",
       "</div>"
      ],
      "text/plain": [
       "      Unnamed: 0  grade        user_name        date  \\\n",
       "0              0      4         mds27272  2020-03-20   \n",
       "1              1      5         lolo2178  2020-03-20   \n",
       "2              2      0         Roachant  2020-03-20   \n",
       "3              3      0           Houndf  2020-03-20   \n",
       "4              4      0     ProfessorFox  2020-03-20   \n",
       "...          ...    ...              ...         ...   \n",
       "2824        2824      0       crazycasti  2020-05-03   \n",
       "2825        2825      1    TakezoShinmen  2020-05-03   \n",
       "2826        2826      0        Lemmeadem  2020-05-03   \n",
       "2827        2827      2  TandemTester938  2020-05-03   \n",
       "2828        2828      4            DwerG  2020-05-03   \n",
       "\n",
       "                                             final_text  word_count  \\\n",
       "0     My gf started playing before me. No option to ...          70   \n",
       "1     While the game itself is great, really relaxin...         167   \n",
       "2     My wife and I were looking forward to playing ...         185   \n",
       "3     We need equal values and opportunities for all...          56   \n",
       "4     BEWARE!  If you have multiple people in your h...         183   \n",
       "...                                                 ...         ...   \n",
       "2824  For those who say I don't understand review bo...          18   \n",
       "2825  1 Island for console limitation.I cannot play ...          25   \n",
       "2826  One island per console is a pathetic limitatio...          69   \n",
       "2827  Even though it seems like a great game with ma...          45   \n",
       "2828  Game is fantastic.Nintendo deciding that you c...          20   \n",
       "\n",
       "                                           cleaned_text  \n",
       "0     my gf started playing before me no option to c...  \n",
       "1     while the game itself is great really relaxing...  \n",
       "2     my wife and i were looking forward to playing ...  \n",
       "3     we need equal values and opportunities for all...  \n",
       "4     beware  if you have multiple people in your ho...  \n",
       "...                                                 ...  \n",
       "2824  for those who say i dont understand review bom...  \n",
       "2825  1 island for console limitationi cannot play t...  \n",
       "2826  one island per console is a pathetic limitatio...  \n",
       "2827  even though it seems like a great game with ma...  \n",
       "2828  game is fantasticnintendo deciding that you ca...  \n",
       "\n",
       "[2829 rows x 7 columns]"
      ]
     },
     "execution_count": 29,
     "metadata": {},
     "output_type": "execute_result"
    }
   ],
   "source": [
    "df_reviews_final"
   ]
  },
  {
   "cell_type": "markdown",
   "id": "825f83ee",
   "metadata": {
    "papermill": {
     "duration": 0.018541,
     "end_time": "2025-01-03T20:01:21.993852",
     "exception": false,
     "start_time": "2025-01-03T20:01:21.975311",
     "status": "completed"
    },
    "tags": []
   },
   "source": [
    "## Tokenisation"
   ]
  },
  {
   "cell_type": "code",
   "execution_count": 30,
   "id": "01da2cc8",
   "metadata": {
    "execution": {
     "iopub.execute_input": "2025-01-03T20:01:22.034490Z",
     "iopub.status.busy": "2025-01-03T20:01:22.034104Z",
     "iopub.status.idle": "2025-01-03T20:01:25.842608Z",
     "shell.execute_reply": "2025-01-03T20:01:25.841229Z"
    },
    "papermill": {
     "duration": 3.830783,
     "end_time": "2025-01-03T20:01:25.845022",
     "exception": false,
     "start_time": "2025-01-03T20:01:22.014239",
     "status": "completed"
    },
    "tags": []
   },
   "outputs": [],
   "source": [
    "from nltk.tokenize import word_tokenize\n",
    "\n",
    "df_reviews_final['tokens'] = df_reviews_final['cleaned_text'].apply(word_tokenize)\n"
   ]
  },
  {
   "cell_type": "code",
   "execution_count": 31,
   "id": "60f1b27f",
   "metadata": {
    "execution": {
     "iopub.execute_input": "2025-01-03T20:01:25.885530Z",
     "iopub.status.busy": "2025-01-03T20:01:25.884990Z",
     "iopub.status.idle": "2025-01-03T20:01:25.906340Z",
     "shell.execute_reply": "2025-01-03T20:01:25.904721Z"
    },
    "papermill": {
     "duration": 0.042288,
     "end_time": "2025-01-03T20:01:25.908431",
     "exception": false,
     "start_time": "2025-01-03T20:01:25.866143",
     "status": "completed"
    },
    "tags": []
   },
   "outputs": [
    {
     "data": {
      "text/html": [
       "<div>\n",
       "<style scoped>\n",
       "    .dataframe tbody tr th:only-of-type {\n",
       "        vertical-align: middle;\n",
       "    }\n",
       "\n",
       "    .dataframe tbody tr th {\n",
       "        vertical-align: top;\n",
       "    }\n",
       "\n",
       "    .dataframe thead th {\n",
       "        text-align: right;\n",
       "    }\n",
       "</style>\n",
       "<table border=\"1\" class=\"dataframe\">\n",
       "  <thead>\n",
       "    <tr style=\"text-align: right;\">\n",
       "      <th></th>\n",
       "      <th>Unnamed: 0</th>\n",
       "      <th>grade</th>\n",
       "      <th>user_name</th>\n",
       "      <th>date</th>\n",
       "      <th>final_text</th>\n",
       "      <th>word_count</th>\n",
       "      <th>cleaned_text</th>\n",
       "      <th>tokens</th>\n",
       "    </tr>\n",
       "  </thead>\n",
       "  <tbody>\n",
       "    <tr>\n",
       "      <th>0</th>\n",
       "      <td>0</td>\n",
       "      <td>4</td>\n",
       "      <td>mds27272</td>\n",
       "      <td>2020-03-20</td>\n",
       "      <td>My gf started playing before me. No option to ...</td>\n",
       "      <td>70</td>\n",
       "      <td>my gf started playing before me no option to c...</td>\n",
       "      <td>[my, gf, started, playing, before, me, no, opt...</td>\n",
       "    </tr>\n",
       "    <tr>\n",
       "      <th>1</th>\n",
       "      <td>1</td>\n",
       "      <td>5</td>\n",
       "      <td>lolo2178</td>\n",
       "      <td>2020-03-20</td>\n",
       "      <td>While the game itself is great, really relaxin...</td>\n",
       "      <td>167</td>\n",
       "      <td>while the game itself is great really relaxing...</td>\n",
       "      <td>[while, the, game, itself, is, great, really, ...</td>\n",
       "    </tr>\n",
       "    <tr>\n",
       "      <th>2</th>\n",
       "      <td>2</td>\n",
       "      <td>0</td>\n",
       "      <td>Roachant</td>\n",
       "      <td>2020-03-20</td>\n",
       "      <td>My wife and I were looking forward to playing ...</td>\n",
       "      <td>185</td>\n",
       "      <td>my wife and i were looking forward to playing ...</td>\n",
       "      <td>[my, wife, and, i, were, looking, forward, to,...</td>\n",
       "    </tr>\n",
       "    <tr>\n",
       "      <th>3</th>\n",
       "      <td>3</td>\n",
       "      <td>0</td>\n",
       "      <td>Houndf</td>\n",
       "      <td>2020-03-20</td>\n",
       "      <td>We need equal values and opportunities for all...</td>\n",
       "      <td>56</td>\n",
       "      <td>we need equal values and opportunities for all...</td>\n",
       "      <td>[we, need, equal, values, and, opportunities, ...</td>\n",
       "    </tr>\n",
       "    <tr>\n",
       "      <th>4</th>\n",
       "      <td>4</td>\n",
       "      <td>0</td>\n",
       "      <td>ProfessorFox</td>\n",
       "      <td>2020-03-20</td>\n",
       "      <td>BEWARE!  If you have multiple people in your h...</td>\n",
       "      <td>183</td>\n",
       "      <td>beware  if you have multiple people in your ho...</td>\n",
       "      <td>[beware, if, you, have, multiple, people, in, ...</td>\n",
       "    </tr>\n",
       "    <tr>\n",
       "      <th>...</th>\n",
       "      <td>...</td>\n",
       "      <td>...</td>\n",
       "      <td>...</td>\n",
       "      <td>...</td>\n",
       "      <td>...</td>\n",
       "      <td>...</td>\n",
       "      <td>...</td>\n",
       "      <td>...</td>\n",
       "    </tr>\n",
       "    <tr>\n",
       "      <th>2824</th>\n",
       "      <td>2824</td>\n",
       "      <td>0</td>\n",
       "      <td>crazycasti</td>\n",
       "      <td>2020-05-03</td>\n",
       "      <td>For those who say I don't understand review bo...</td>\n",
       "      <td>18</td>\n",
       "      <td>for those who say i dont understand review bom...</td>\n",
       "      <td>[for, those, who, say, i, dont, understand, re...</td>\n",
       "    </tr>\n",
       "    <tr>\n",
       "      <th>2825</th>\n",
       "      <td>2825</td>\n",
       "      <td>1</td>\n",
       "      <td>TakezoShinmen</td>\n",
       "      <td>2020-05-03</td>\n",
       "      <td>1 Island for console limitation.I cannot play ...</td>\n",
       "      <td>25</td>\n",
       "      <td>1 island for console limitationi cannot play t...</td>\n",
       "      <td>[1, island, for, console, limitationi, can, no...</td>\n",
       "    </tr>\n",
       "    <tr>\n",
       "      <th>2826</th>\n",
       "      <td>2826</td>\n",
       "      <td>0</td>\n",
       "      <td>Lemmeadem</td>\n",
       "      <td>2020-05-03</td>\n",
       "      <td>One island per console is a pathetic limitatio...</td>\n",
       "      <td>69</td>\n",
       "      <td>one island per console is a pathetic limitatio...</td>\n",
       "      <td>[one, island, per, console, is, a, pathetic, l...</td>\n",
       "    </tr>\n",
       "    <tr>\n",
       "      <th>2827</th>\n",
       "      <td>2827</td>\n",
       "      <td>2</td>\n",
       "      <td>TandemTester938</td>\n",
       "      <td>2020-05-03</td>\n",
       "      <td>Even though it seems like a great game with ma...</td>\n",
       "      <td>45</td>\n",
       "      <td>even though it seems like a great game with ma...</td>\n",
       "      <td>[even, though, it, seems, like, a, great, game...</td>\n",
       "    </tr>\n",
       "    <tr>\n",
       "      <th>2828</th>\n",
       "      <td>2828</td>\n",
       "      <td>4</td>\n",
       "      <td>DwerG</td>\n",
       "      <td>2020-05-03</td>\n",
       "      <td>Game is fantastic.Nintendo deciding that you c...</td>\n",
       "      <td>20</td>\n",
       "      <td>game is fantasticnintendo deciding that you ca...</td>\n",
       "      <td>[game, is, fantasticnintendo, deciding, that, ...</td>\n",
       "    </tr>\n",
       "  </tbody>\n",
       "</table>\n",
       "<p>2829 rows × 8 columns</p>\n",
       "</div>"
      ],
      "text/plain": [
       "      Unnamed: 0  grade        user_name        date  \\\n",
       "0              0      4         mds27272  2020-03-20   \n",
       "1              1      5         lolo2178  2020-03-20   \n",
       "2              2      0         Roachant  2020-03-20   \n",
       "3              3      0           Houndf  2020-03-20   \n",
       "4              4      0     ProfessorFox  2020-03-20   \n",
       "...          ...    ...              ...         ...   \n",
       "2824        2824      0       crazycasti  2020-05-03   \n",
       "2825        2825      1    TakezoShinmen  2020-05-03   \n",
       "2826        2826      0        Lemmeadem  2020-05-03   \n",
       "2827        2827      2  TandemTester938  2020-05-03   \n",
       "2828        2828      4            DwerG  2020-05-03   \n",
       "\n",
       "                                             final_text  word_count  \\\n",
       "0     My gf started playing before me. No option to ...          70   \n",
       "1     While the game itself is great, really relaxin...         167   \n",
       "2     My wife and I were looking forward to playing ...         185   \n",
       "3     We need equal values and opportunities for all...          56   \n",
       "4     BEWARE!  If you have multiple people in your h...         183   \n",
       "...                                                 ...         ...   \n",
       "2824  For those who say I don't understand review bo...          18   \n",
       "2825  1 Island for console limitation.I cannot play ...          25   \n",
       "2826  One island per console is a pathetic limitatio...          69   \n",
       "2827  Even though it seems like a great game with ma...          45   \n",
       "2828  Game is fantastic.Nintendo deciding that you c...          20   \n",
       "\n",
       "                                           cleaned_text  \\\n",
       "0     my gf started playing before me no option to c...   \n",
       "1     while the game itself is great really relaxing...   \n",
       "2     my wife and i were looking forward to playing ...   \n",
       "3     we need equal values and opportunities for all...   \n",
       "4     beware  if you have multiple people in your ho...   \n",
       "...                                                 ...   \n",
       "2824  for those who say i dont understand review bom...   \n",
       "2825  1 island for console limitationi cannot play t...   \n",
       "2826  one island per console is a pathetic limitatio...   \n",
       "2827  even though it seems like a great game with ma...   \n",
       "2828  game is fantasticnintendo deciding that you ca...   \n",
       "\n",
       "                                                 tokens  \n",
       "0     [my, gf, started, playing, before, me, no, opt...  \n",
       "1     [while, the, game, itself, is, great, really, ...  \n",
       "2     [my, wife, and, i, were, looking, forward, to,...  \n",
       "3     [we, need, equal, values, and, opportunities, ...  \n",
       "4     [beware, if, you, have, multiple, people, in, ...  \n",
       "...                                                 ...  \n",
       "2824  [for, those, who, say, i, dont, understand, re...  \n",
       "2825  [1, island, for, console, limitationi, can, no...  \n",
       "2826  [one, island, per, console, is, a, pathetic, l...  \n",
       "2827  [even, though, it, seems, like, a, great, game...  \n",
       "2828  [game, is, fantasticnintendo, deciding, that, ...  \n",
       "\n",
       "[2829 rows x 8 columns]"
      ]
     },
     "execution_count": 31,
     "metadata": {},
     "output_type": "execute_result"
    }
   ],
   "source": [
    "df_reviews_final"
   ]
  },
  {
   "cell_type": "markdown",
   "id": "48ad269d",
   "metadata": {
    "papermill": {
     "duration": 0.020979,
     "end_time": "2025-01-03T20:01:25.950295",
     "exception": false,
     "start_time": "2025-01-03T20:01:25.929316",
     "status": "completed"
    },
    "tags": []
   },
   "source": [
    "## Remove stop words"
   ]
  },
  {
   "cell_type": "code",
   "execution_count": 32,
   "id": "4fb80d8c",
   "metadata": {
    "execution": {
     "iopub.execute_input": "2025-01-03T20:01:25.994165Z",
     "iopub.status.busy": "2025-01-03T20:01:25.993821Z",
     "iopub.status.idle": "2025-01-03T20:01:26.130795Z",
     "shell.execute_reply": "2025-01-03T20:01:26.129178Z"
    },
    "papermill": {
     "duration": 0.16158,
     "end_time": "2025-01-03T20:01:26.132876",
     "exception": false,
     "start_time": "2025-01-03T20:01:25.971296",
     "status": "completed"
    },
    "tags": []
   },
   "outputs": [
    {
     "name": "stdout",
     "output_type": "stream",
     "text": [
      "[nltk_data] Downloading package stopwords to /usr/share/nltk_data...\n",
      "[nltk_data]   Package stopwords is already up-to-date!\n"
     ]
    }
   ],
   "source": [
    "from nltk.corpus import stopwords\n",
    "from nltk.tokenize import word_tokenize\n",
    "\n",
    "# Download stopwords\n",
    "import nltk\n",
    "nltk.download('stopwords')\n",
    "stop_words = set(stopwords.words('english'))\n",
    "\n",
    "# Remove stopwords from tokens\n",
    "def remove_stopwords(tokens):\n",
    "    return [word for word in tokens if word not in stop_words]\n",
    "\n",
    "# Apply to your tokenized column\n",
    "df_reviews_final['tokens'] = df_reviews_final['tokens'].apply(remove_stopwords)\n"
   ]
  },
  {
   "cell_type": "markdown",
   "id": "2895e298",
   "metadata": {
    "papermill": {
     "duration": 0.017953,
     "end_time": "2025-01-03T20:01:26.169534",
     "exception": false,
     "start_time": "2025-01-03T20:01:26.151581",
     "status": "completed"
    },
    "tags": []
   },
   "source": [
    "## Check word similarity"
   ]
  },
  {
   "cell_type": "markdown",
   "id": "6b2057b7",
   "metadata": {
    "papermill": {
     "duration": 0.018757,
     "end_time": "2025-01-03T20:01:26.206466",
     "exception": false,
     "start_time": "2025-01-03T20:01:26.187709",
     "status": "completed"
    },
    "tags": []
   },
   "source": [
    "### Define model"
   ]
  },
  {
   "cell_type": "code",
   "execution_count": 33,
   "id": "be1b7fa1",
   "metadata": {
    "execution": {
     "iopub.execute_input": "2025-01-03T20:01:26.246847Z",
     "iopub.status.busy": "2025-01-03T20:01:26.246378Z",
     "iopub.status.idle": "2025-01-03T20:01:39.782136Z",
     "shell.execute_reply": "2025-01-03T20:01:39.780953Z"
    },
    "papermill": {
     "duration": 13.557493,
     "end_time": "2025-01-03T20:01:39.784269",
     "exception": false,
     "start_time": "2025-01-03T20:01:26.226776",
     "status": "completed"
    },
    "tags": []
   },
   "outputs": [],
   "source": [
    "from gensim.models import Word2Vec\n",
    "\n",
    "model = Word2Vec(sentences=df_reviews_final['tokens'], vector_size=100, window=5, min_count=1)\n",
    "word_vectors = model.wv\n"
   ]
  },
  {
   "cell_type": "code",
   "execution_count": 34,
   "id": "01fbaf29",
   "metadata": {
    "execution": {
     "iopub.execute_input": "2025-01-03T20:01:39.823988Z",
     "iopub.status.busy": "2025-01-03T20:01:39.823353Z",
     "iopub.status.idle": "2025-01-03T20:01:39.841496Z",
     "shell.execute_reply": "2025-01-03T20:01:39.838888Z"
    },
    "papermill": {
     "duration": 0.041665,
     "end_time": "2025-01-03T20:01:39.844992",
     "exception": false,
     "start_time": "2025-01-03T20:01:39.803327",
     "status": "completed"
    },
    "tags": []
   },
   "outputs": [
    {
     "name": "stdout",
     "output_type": "stream",
     "text": [
      "[('progressing', 0.9970157742500305), ('leader', 0.9969896078109741), ('lose', 0.9968501925468445), ('deserted', 0.996793806552887), ('impact', 0.9967170357704163), ('complete', 0.9965176582336426), ('either', 0.9962949752807617), ('instead', 0.9961351156234741), ('whatever', 0.9960331916809082), ('hand', 0.9959871768951416)]\n"
     ]
    }
   ],
   "source": [
    "# Check the most similar words for a given word\n",
    "similar_words = word_vectors.most_similar('improve', topn=10)\n",
    "print(similar_words)\n"
   ]
  },
  {
   "cell_type": "markdown",
   "id": "fb4c6421",
   "metadata": {
    "papermill": {
     "duration": 0.054612,
     "end_time": "2025-01-03T20:01:39.952931",
     "exception": false,
     "start_time": "2025-01-03T20:01:39.898319",
     "status": "completed"
    },
    "tags": []
   },
   "source": [
    "##  visualize word embeddings"
   ]
  },
  {
   "cell_type": "code",
   "execution_count": 35,
   "id": "33946b32",
   "metadata": {
    "execution": {
     "iopub.execute_input": "2025-01-03T20:01:39.993482Z",
     "iopub.status.busy": "2025-01-03T20:01:39.993058Z",
     "iopub.status.idle": "2025-01-03T20:01:42.096830Z",
     "shell.execute_reply": "2025-01-03T20:01:42.095688Z"
    },
    "papermill": {
     "duration": 2.125478,
     "end_time": "2025-01-03T20:01:42.099020",
     "exception": false,
     "start_time": "2025-01-03T20:01:39.973542",
     "status": "completed"
    },
    "tags": []
   },
   "outputs": [
    {
     "name": "stdout",
     "output_type": "stream",
     "text": [
      "['game']\n",
      "[[-0.5014551   1.0085983   0.3251902   0.01633464  0.3519032  -1.3750861\n",
      "   0.7675229   1.950222   -0.28453386 -0.7124277  -0.1483951  -1.0006307\n",
      "  -0.46081033 -0.09582587 -0.36265174 -0.43895873  0.59139216 -0.19404839\n",
      "   0.0932411  -1.5189137   0.38486326  0.51472616  0.69896    -0.12576115\n",
      "   0.07023147 -0.06292486 -0.621503   -0.30077323 -0.5690724   0.21849743\n",
      "   0.6815162  -0.15565047  0.27820227 -0.97419256 -0.14028637  0.551352\n",
      "   0.10305198 -0.24080537 -0.4977778  -0.8832416   0.395009   -0.39859176\n",
      "  -0.09991446 -0.115459    0.35595417 -0.11904922 -0.51768064 -0.06477232\n",
      "   0.7313853   0.5478245   0.36571977 -0.74670464 -0.10983454 -0.8149489\n",
      "  -0.08040746  0.14132595  0.20777388 -0.04480461 -0.3109381   0.5504402\n",
      "  -0.27549514  0.15774576  0.63245    -0.21933205 -0.813423    0.5823632\n",
      "   0.81799483  0.64398795 -1.3167334   0.68660355  0.04218259  0.38020438\n",
      "   0.83606106 -0.33247966  0.75587606  0.22871663  0.70225513 -0.07377696\n",
      "  -0.61461794  0.12504601 -0.7419248  -0.1511942  -0.28598395  1.1764634\n",
      "   0.03019723  0.02732304  0.9591539   0.98916596  0.24003285  0.05822603\n",
      "   0.48204032  0.50503635  0.19566885 -0.18241937  1.0915029   0.5084432\n",
      "   0.58168465 -0.26336077  0.02272945  0.31287706]]\n",
      "[ 4.5941405 -2.919473 ]\n"
     ]
    },
    {
     "data": {
      "image/png": "[encoded data removed]",
      "text/plain": [
       "<Figure size 1000x1000 with 1 Axes>"
      ]
     },
     "metadata": {},
     "output_type": "display_data"
    }
   ],
   "source": [
    "from sklearn.manifold import TSNE\n",
    "import matplotlib.pyplot as plt\n",
    "\n",
    "# Get word vectors and their corresponding words\n",
    "words = list(model.wv.index_to_key)\n",
    "print(words[:1])\n",
    "word_vectors = model.wv[words]\n",
    "\n",
    "print(word_vectors[:1])\n",
    "\n",
    "# Use t-SNE to reduce dimensionality\n",
    "tsne = TSNE(n_components=2, random_state=42)\n",
    "reduced_vectors = tsne.fit_transform(word_vectors[:100])  # Use the first 100 words for visualization\n",
    "print(reduced_vectors[1])\n",
    "# Plot the embeddings\n",
    "plt.figure(figsize=(10, 10))\n",
    "for i, word in enumerate(words[:100]):\n",
    "    plt.scatter(reduced_vectors[i, 0], reduced_vectors[i, 1])\n",
    "    plt.text(reduced_vectors[i, 0], reduced_vectors[i, 1], word)\n",
    "plt.title(\"Word Embeddings Visualization\")\n",
    "plt.show()\n"
   ]
  },
  {
   "cell_type": "markdown",
   "id": "4b906cd3",
   "metadata": {
    "papermill": {
     "duration": 0.022086,
     "end_time": "2025-01-03T20:01:42.144331",
     "exception": false,
     "start_time": "2025-01-03T20:01:42.122245",
     "status": "completed"
    },
    "tags": []
   },
   "source": [
    "\n",
    "* Clustering:\n",
    "    * Words that are semantically or contextually similar are placed closer together.\n",
    "        * For example:Words like animal, crossing, and game may cluster near each other if they frequently appear in similar contexts in the reviews.\n",
    "* Spread:\n",
    "    * Common words like the, is, and may be scattered because they don't carry much contextual meaning (stopwords).\n",
    "    * We might consider removing them for certain tasks.\n",
    "\n",
    "* Domain-Specific Relationships:\n",
    "    * Words like multiplayer, Nintendo, and games likely form a distinct cluster related to gaming concepts\n",
    "\n"
   ]
  },
  {
   "cell_type": "markdown",
   "id": "016537a5",
   "metadata": {
    "papermill": {
     "duration": 0.020914,
     "end_time": "2025-01-03T20:01:42.186411",
     "exception": false,
     "start_time": "2025-01-03T20:01:42.165497",
     "status": "completed"
    },
    "tags": []
   },
   "source": [
    "## Convert tokens to Vector"
   ]
  },
  {
   "cell_type": "code",
   "execution_count": 36,
   "id": "60f2e229",
   "metadata": {
    "execution": {
     "iopub.execute_input": "2025-01-03T20:01:42.231490Z",
     "iopub.status.busy": "2025-01-03T20:01:42.231081Z",
     "iopub.status.idle": "2025-01-03T20:01:42.741701Z",
     "shell.execute_reply": "2025-01-03T20:01:42.740332Z"
    },
    "papermill": {
     "duration": 0.53623,
     "end_time": "2025-01-03T20:01:42.743755",
     "exception": false,
     "start_time": "2025-01-03T20:01:42.207525",
     "status": "completed"
    },
    "tags": []
   },
   "outputs": [],
   "source": [
    "import numpy as np\n",
    "\n",
    "def get_review_vector(review_tokens, model):\n",
    "    vectors = [model.wv[word] for word in review_tokens if word in model.wv]\n",
    "    if len(vectors) > 0:\n",
    "        return np.mean(vectors, axis=0)  # Average the vectors\n",
    "    else:\n",
    "        return np.zeros(model.vector_size)  # Return a zero vector if no words are in the model\n",
    "\n",
    "df_reviews_final['review_vector'] = df_reviews_final['tokens'].apply(lambda x: get_review_vector(x, model))\n"
   ]
  },
  {
   "cell_type": "code",
   "execution_count": 37,
   "id": "63177add",
   "metadata": {
    "execution": {
     "iopub.execute_input": "2025-01-03T20:01:42.787326Z",
     "iopub.status.busy": "2025-01-03T20:01:42.786887Z",
     "iopub.status.idle": "2025-01-03T20:01:42.818227Z",
     "shell.execute_reply": "2025-01-03T20:01:42.816726Z"
    },
    "papermill": {
     "duration": 0.055057,
     "end_time": "2025-01-03T20:01:42.820216",
     "exception": false,
     "start_time": "2025-01-03T20:01:42.765159",
     "status": "completed"
    },
    "tags": []
   },
   "outputs": [
    {
     "data": {
      "text/html": [
       "<div>\n",
       "<style scoped>\n",
       "    .dataframe tbody tr th:only-of-type {\n",
       "        vertical-align: middle;\n",
       "    }\n",
       "\n",
       "    .dataframe tbody tr th {\n",
       "        vertical-align: top;\n",
       "    }\n",
       "\n",
       "    .dataframe thead th {\n",
       "        text-align: right;\n",
       "    }\n",
       "</style>\n",
       "<table border=\"1\" class=\"dataframe\">\n",
       "  <thead>\n",
       "    <tr style=\"text-align: right;\">\n",
       "      <th></th>\n",
       "      <th>Unnamed: 0</th>\n",
       "      <th>grade</th>\n",
       "      <th>user_name</th>\n",
       "      <th>date</th>\n",
       "      <th>final_text</th>\n",
       "      <th>word_count</th>\n",
       "      <th>cleaned_text</th>\n",
       "      <th>tokens</th>\n",
       "      <th>review_vector</th>\n",
       "    </tr>\n",
       "  </thead>\n",
       "  <tbody>\n",
       "    <tr>\n",
       "      <th>0</th>\n",
       "      <td>0</td>\n",
       "      <td>4</td>\n",
       "      <td>mds27272</td>\n",
       "      <td>2020-03-20</td>\n",
       "      <td>My gf started playing before me. No option to ...</td>\n",
       "      <td>70</td>\n",
       "      <td>my gf started playing before me no option to c...</td>\n",
       "      <td>[gf, started, playing, option, create, island,...</td>\n",
       "      <td>[-0.18828304, 0.86031, 0.24914742, 0.23948339,...</td>\n",
       "    </tr>\n",
       "    <tr>\n",
       "      <th>1</th>\n",
       "      <td>1</td>\n",
       "      <td>5</td>\n",
       "      <td>lolo2178</td>\n",
       "      <td>2020-03-20</td>\n",
       "      <td>While the game itself is great, really relaxin...</td>\n",
       "      <td>167</td>\n",
       "      <td>while the game itself is great really relaxing...</td>\n",
       "      <td>[game, great, really, relaxing, gorgeous, cant...</td>\n",
       "      <td>[-0.18061243, 0.8562481, 0.23756666, 0.2535703...</td>\n",
       "    </tr>\n",
       "    <tr>\n",
       "      <th>2</th>\n",
       "      <td>2</td>\n",
       "      <td>0</td>\n",
       "      <td>Roachant</td>\n",
       "      <td>2020-03-20</td>\n",
       "      <td>My wife and I were looking forward to playing ...</td>\n",
       "      <td>185</td>\n",
       "      <td>my wife and i were looking forward to playing ...</td>\n",
       "      <td>[wife, looking, forward, playing, game, releas...</td>\n",
       "      <td>[-0.21648963, 0.86569756, 0.251838, 0.18133356...</td>\n",
       "    </tr>\n",
       "    <tr>\n",
       "      <th>3</th>\n",
       "      <td>3</td>\n",
       "      <td>0</td>\n",
       "      <td>Houndf</td>\n",
       "      <td>2020-03-20</td>\n",
       "      <td>We need equal values and opportunities for all...</td>\n",
       "      <td>56</td>\n",
       "      <td>we need equal values and opportunities for all...</td>\n",
       "      <td>[need, equal, values, opportunities, players, ...</td>\n",
       "      <td>[-0.14054768, 0.78716236, 0.21677695, 0.174013...</td>\n",
       "    </tr>\n",
       "    <tr>\n",
       "      <th>4</th>\n",
       "      <td>4</td>\n",
       "      <td>0</td>\n",
       "      <td>ProfessorFox</td>\n",
       "      <td>2020-03-20</td>\n",
       "      <td>BEWARE!  If you have multiple people in your h...</td>\n",
       "      <td>183</td>\n",
       "      <td>beware  if you have multiple people in your ho...</td>\n",
       "      <td>[beware, multiple, people, house, want, play, ...</td>\n",
       "      <td>[-0.21031998, 0.9382239, 0.25140205, 0.3343464...</td>\n",
       "    </tr>\n",
       "    <tr>\n",
       "      <th>...</th>\n",
       "      <td>...</td>\n",
       "      <td>...</td>\n",
       "      <td>...</td>\n",
       "      <td>...</td>\n",
       "      <td>...</td>\n",
       "      <td>...</td>\n",
       "      <td>...</td>\n",
       "      <td>...</td>\n",
       "      <td>...</td>\n",
       "    </tr>\n",
       "    <tr>\n",
       "      <th>2824</th>\n",
       "      <td>2824</td>\n",
       "      <td>0</td>\n",
       "      <td>crazycasti</td>\n",
       "      <td>2020-05-03</td>\n",
       "      <td>For those who say I don't understand review bo...</td>\n",
       "      <td>18</td>\n",
       "      <td>for those who say i dont understand review bom...</td>\n",
       "      <td>[say, dont, understand, review, bombing, well,...</td>\n",
       "      <td>[-0.1137369, 0.7372973, 0.12599204, 0.07877634...</td>\n",
       "    </tr>\n",
       "    <tr>\n",
       "      <th>2825</th>\n",
       "      <td>2825</td>\n",
       "      <td>1</td>\n",
       "      <td>TakezoShinmen</td>\n",
       "      <td>2020-05-03</td>\n",
       "      <td>1 Island for console limitation.I cannot play ...</td>\n",
       "      <td>25</td>\n",
       "      <td>1 island for console limitationi cannot play t...</td>\n",
       "      <td>[1, island, console, limitationi, play, game, ...</td>\n",
       "      <td>[-0.27313885, 0.82128274, 0.2462727, 0.1242940...</td>\n",
       "    </tr>\n",
       "    <tr>\n",
       "      <th>2826</th>\n",
       "      <td>2826</td>\n",
       "      <td>0</td>\n",
       "      <td>Lemmeadem</td>\n",
       "      <td>2020-05-03</td>\n",
       "      <td>One island per console is a pathetic limitatio...</td>\n",
       "      <td>69</td>\n",
       "      <td>one island per console is a pathetic limitatio...</td>\n",
       "      <td>[one, island, per, console, pathetic, limitati...</td>\n",
       "      <td>[-0.14336357, 0.6692201, 0.19016878, 0.2588650...</td>\n",
       "    </tr>\n",
       "    <tr>\n",
       "      <th>2827</th>\n",
       "      <td>2827</td>\n",
       "      <td>2</td>\n",
       "      <td>TandemTester938</td>\n",
       "      <td>2020-05-03</td>\n",
       "      <td>Even though it seems like a great game with ma...</td>\n",
       "      <td>45</td>\n",
       "      <td>even though it seems like a great game with ma...</td>\n",
       "      <td>[even, though, seems, like, great, game, many,...</td>\n",
       "      <td>[-0.14229026, 0.8000876, 0.21208444, 0.1946268...</td>\n",
       "    </tr>\n",
       "    <tr>\n",
       "      <th>2828</th>\n",
       "      <td>2828</td>\n",
       "      <td>4</td>\n",
       "      <td>DwerG</td>\n",
       "      <td>2020-05-03</td>\n",
       "      <td>Game is fantastic.Nintendo deciding that you c...</td>\n",
       "      <td>20</td>\n",
       "      <td>game is fantasticnintendo deciding that you ca...</td>\n",
       "      <td>[game, fantasticnintendo, deciding, make, one,...</td>\n",
       "      <td>[-0.22523256, 1.0086894, 0.3012376, 0.42470005...</td>\n",
       "    </tr>\n",
       "  </tbody>\n",
       "</table>\n",
       "<p>2829 rows × 9 columns</p>\n",
       "</div>"
      ],
      "text/plain": [
       "      Unnamed: 0  grade        user_name        date  \\\n",
       "0              0      4         mds27272  2020-03-20   \n",
       "1              1      5         lolo2178  2020-03-20   \n",
       "2              2      0         Roachant  2020-03-20   \n",
       "3              3      0           Houndf  2020-03-20   \n",
       "4              4      0     ProfessorFox  2020-03-20   \n",
       "...          ...    ...              ...         ...   \n",
       "2824        2824      0       crazycasti  2020-05-03   \n",
       "2825        2825      1    TakezoShinmen  2020-05-03   \n",
       "2826        2826      0        Lemmeadem  2020-05-03   \n",
       "2827        2827      2  TandemTester938  2020-05-03   \n",
       "2828        2828      4            DwerG  2020-05-03   \n",
       "\n",
       "                                             final_text  word_count  \\\n",
       "0     My gf started playing before me. No option to ...          70   \n",
       "1     While the game itself is great, really relaxin...         167   \n",
       "2     My wife and I were looking forward to playing ...         185   \n",
       "3     We need equal values and opportunities for all...          56   \n",
       "4     BEWARE!  If you have multiple people in your h...         183   \n",
       "...                                                 ...         ...   \n",
       "2824  For those who say I don't understand review bo...          18   \n",
       "2825  1 Island for console limitation.I cannot play ...          25   \n",
       "2826  One island per console is a pathetic limitatio...          69   \n",
       "2827  Even though it seems like a great game with ma...          45   \n",
       "2828  Game is fantastic.Nintendo deciding that you c...          20   \n",
       "\n",
       "                                           cleaned_text  \\\n",
       "0     my gf started playing before me no option to c...   \n",
       "1     while the game itself is great really relaxing...   \n",
       "2     my wife and i were looking forward to playing ...   \n",
       "3     we need equal values and opportunities for all...   \n",
       "4     beware  if you have multiple people in your ho...   \n",
       "...                                                 ...   \n",
       "2824  for those who say i dont understand review bom...   \n",
       "2825  1 island for console limitationi cannot play t...   \n",
       "2826  one island per console is a pathetic limitatio...   \n",
       "2827  even though it seems like a great game with ma...   \n",
       "2828  game is fantasticnintendo deciding that you ca...   \n",
       "\n",
       "                                                 tokens  \\\n",
       "0     [gf, started, playing, option, create, island,...   \n",
       "1     [game, great, really, relaxing, gorgeous, cant...   \n",
       "2     [wife, looking, forward, playing, game, releas...   \n",
       "3     [need, equal, values, opportunities, players, ...   \n",
       "4     [beware, multiple, people, house, want, play, ...   \n",
       "...                                                 ...   \n",
       "2824  [say, dont, understand, review, bombing, well,...   \n",
       "2825  [1, island, console, limitationi, play, game, ...   \n",
       "2826  [one, island, per, console, pathetic, limitati...   \n",
       "2827  [even, though, seems, like, great, game, many,...   \n",
       "2828  [game, fantasticnintendo, deciding, make, one,...   \n",
       "\n",
       "                                          review_vector  \n",
       "0     [-0.18828304, 0.86031, 0.24914742, 0.23948339,...  \n",
       "1     [-0.18061243, 0.8562481, 0.23756666, 0.2535703...  \n",
       "2     [-0.21648963, 0.86569756, 0.251838, 0.18133356...  \n",
       "3     [-0.14054768, 0.78716236, 0.21677695, 0.174013...  \n",
       "4     [-0.21031998, 0.9382239, 0.25140205, 0.3343464...  \n",
       "...                                                 ...  \n",
       "2824  [-0.1137369, 0.7372973, 0.12599204, 0.07877634...  \n",
       "2825  [-0.27313885, 0.82128274, 0.2462727, 0.1242940...  \n",
       "2826  [-0.14336357, 0.6692201, 0.19016878, 0.2588650...  \n",
       "2827  [-0.14229026, 0.8000876, 0.21208444, 0.1946268...  \n",
       "2828  [-0.22523256, 1.0086894, 0.3012376, 0.42470005...  \n",
       "\n",
       "[2829 rows x 9 columns]"
      ]
     },
     "execution_count": 37,
     "metadata": {},
     "output_type": "execute_result"
    }
   ],
   "source": [
    "df_reviews_final"
   ]
  },
  {
   "cell_type": "markdown",
   "id": "20b57b23",
   "metadata": {
    "papermill": {
     "duration": 0.021078,
     "end_time": "2025-01-03T20:01:42.864132",
     "exception": false,
     "start_time": "2025-01-03T20:01:42.843054",
     "status": "completed"
    },
    "tags": []
   },
   "source": [
    "## Train Test Split"
   ]
  },
  {
   "cell_type": "code",
   "execution_count": 38,
   "id": "ccdb37a7",
   "metadata": {
    "execution": {
     "iopub.execute_input": "2025-01-03T20:01:42.975300Z",
     "iopub.status.busy": "2025-01-03T20:01:42.974837Z",
     "iopub.status.idle": "2025-01-03T20:01:42.990612Z",
     "shell.execute_reply": "2025-01-03T20:01:42.989344Z"
    },
    "papermill": {
     "duration": 0.040485,
     "end_time": "2025-01-03T20:01:42.992638",
     "exception": false,
     "start_time": "2025-01-03T20:01:42.952153",
     "status": "completed"
    },
    "tags": []
   },
   "outputs": [],
   "source": [
    "from sklearn.model_selection import train_test_split\n",
    "\n",
    "\n",
    "# Create review-level vectors\n",
    "X = np.stack(df_reviews_final['review_vector'].values)\n",
    "y = df_reviews_final['grade'].apply(lambda g: 1 if g >= 6 else 0)  # Positive sentiment: grade >= 6\n",
    "\n",
    "# Train-test split\n",
    "X_train, X_test, y_train, y_test = train_test_split(X, y, test_size=0.2, random_state=42)"
   ]
  },
  {
   "cell_type": "markdown",
   "id": "7d3fa4f0",
   "metadata": {
    "papermill": {
     "duration": 0.021041,
     "end_time": "2025-01-03T20:01:43.035766",
     "exception": false,
     "start_time": "2025-01-03T20:01:43.014725",
     "status": "completed"
    },
    "tags": []
   },
   "source": [
    "# Step-3: Model training for sentiment analysis and word clustering"
   ]
  },
  {
   "cell_type": "markdown",
   "id": "97158842",
   "metadata": {
    "papermill": {
     "duration": 0.020687,
     "end_time": "2025-01-03T20:01:43.077637",
     "exception": false,
     "start_time": "2025-01-03T20:01:43.056950",
     "status": "completed"
    },
    "tags": []
   },
   "source": [
    "### Model definition for sentiment classification"
   ]
  },
  {
   "cell_type": "code",
   "execution_count": 39,
   "id": "ebb0d39f",
   "metadata": {
    "execution": {
     "iopub.execute_input": "2025-01-03T20:01:43.124662Z",
     "iopub.status.busy": "2025-01-03T20:01:43.124226Z",
     "iopub.status.idle": "2025-01-03T20:01:43.204100Z",
     "shell.execute_reply": "2025-01-03T20:01:43.201665Z"
    },
    "papermill": {
     "duration": 0.108505,
     "end_time": "2025-01-03T20:01:43.207536",
     "exception": false,
     "start_time": "2025-01-03T20:01:43.099031",
     "status": "completed"
    },
    "tags": []
   },
   "outputs": [
    {
     "data": {
      "text/html": [
       "<style>#sk-container-id-1 {color: black;background-color: white;}#sk-container-id-1 pre{padding: 0;}#sk-container-id-1 div.sk-toggleable {background-color: white;}#sk-container-id-1 label.sk-toggleable__label {cursor: pointer;display: block;width: 100%;margin-bottom: 0;padding: 0.3em;box-sizing: border-box;text-align: center;}#sk-container-id-1 label.sk-toggleable__label-arrow:before {content: \"▸\";float: left;margin-right: 0.25em;color: #696969;}#sk-container-id-1 label.sk-toggleable__label-arrow:hover:before {color: black;}#sk-container-id-1 div.sk-estimator:hover label.sk-toggleable__label-arrow:before {color: black;}#sk-container-id-1 div.sk-toggleable__content {max-height: 0;max-width: 0;overflow: hidden;text-align: left;background-color: #f0f8ff;}#sk-container-id-1 div.sk-toggleable__content pre {margin: 0.2em;color: black;border-radius: 0.25em;background-color: #f0f8ff;}#sk-container-id-1 input.sk-toggleable__control:checked~div.sk-toggleable__content {max-height: 200px;max-width: 100%;overflow: auto;}#sk-container-id-1 input.sk-toggleable__control:checked~label.sk-toggleable__label-arrow:before {content: \"▾\";}#sk-container-id-1 div.sk-estimator input.sk-toggleable__control:checked~label.sk-toggleable__label {background-color: #d4ebff;}#sk-container-id-1 div.sk-label input.sk-toggleable__control:checked~label.sk-toggleable__label {background-color: #d4ebff;}#sk-container-id-1 input.sk-hidden--visually {border: 0;clip: rect(1px 1px 1px 1px);clip: rect(1px, 1px, 1px, 1px);height: 1px;margin: -1px;overflow: hidden;padding: 0;position: absolute;width: 1px;}#sk-container-id-1 div.sk-estimator {font-family: monospace;background-color: #f0f8ff;border: 1px dotted black;border-radius: 0.25em;box-sizing: border-box;margin-bottom: 0.5em;}#sk-container-id-1 div.sk-estimator:hover {background-color: #d4ebff;}#sk-container-id-1 div.sk-parallel-item::after {content: \"\";width: 100%;border-bottom: 1px solid gray;flex-grow: 1;}#sk-container-id-1 div.sk-label:hover label.sk-toggleable__label {background-color: #d4ebff;}#sk-container-id-1 div.sk-serial::before {content: \"\";position: absolute;border-left: 1px solid gray;box-sizing: border-box;top: 0;bottom: 0;left: 50%;z-index: 0;}#sk-container-id-1 div.sk-serial {display: flex;flex-direction: column;align-items: center;background-color: white;padding-right: 0.2em;padding-left: 0.2em;position: relative;}#sk-container-id-1 div.sk-item {position: relative;z-index: 1;}#sk-container-id-1 div.sk-parallel {display: flex;align-items: stretch;justify-content: center;background-color: white;position: relative;}#sk-container-id-1 div.sk-item::before, #sk-container-id-1 div.sk-parallel-item::before {content: \"\";position: absolute;border-left: 1px solid gray;box-sizing: border-box;top: 0;bottom: 0;left: 50%;z-index: -1;}#sk-container-id-1 div.sk-parallel-item {display: flex;flex-direction: column;z-index: 1;position: relative;background-color: white;}#sk-container-id-1 div.sk-parallel-item:first-child::after {align-self: flex-end;width: 50%;}#sk-container-id-1 div.sk-parallel-item:last-child::after {align-self: flex-start;width: 50%;}#sk-container-id-1 div.sk-parallel-item:only-child::after {width: 0;}#sk-container-id-1 div.sk-dashed-wrapped {border: 1px dashed gray;margin: 0 0.4em 0.5em 0.4em;box-sizing: border-box;padding-bottom: 0.4em;background-color: white;}#sk-container-id-1 div.sk-label label {font-family: monospace;font-weight: bold;display: inline-block;line-height: 1.2em;}#sk-container-id-1 div.sk-label-container {text-align: center;}#sk-container-id-1 div.sk-container {/* jupyter's `normalize.less` sets `[hidden] { display: none; }` but bootstrap.min.css set `[hidden] { display: none !important; }` so we also need the `!important` here to be able to override the default hidden behavior on the sphinx rendered scikit-learn.org. See: https://github.com/scikit-learn/scikit-learn/issues/21755 */display: inline-block !important;position: relative;}#sk-container-id-1 div.sk-text-repr-fallback {display: none;}</style><div id=\"sk-container-id-1\" class=\"sk-top-container\"><div class=\"sk-text-repr-fallback\"><pre>LogisticRegression()</pre><b>In a Jupyter environment, please rerun this cell to show the HTML representation or trust the notebook. <br />On GitHub, the HTML representation is unable to render, please try loading this page with nbviewer.org.</b></div><div class=\"sk-container\" hidden><div class=\"sk-item\"><div class=\"sk-estimator sk-toggleable\"><input class=\"sk-toggleable__control sk-hidden--visually\" id=\"sk-estimator-id-1\" type=\"checkbox\" checked><label for=\"sk-estimator-id-1\" class=\"sk-toggleable__label sk-toggleable__label-arrow\">LogisticRegression</label><div class=\"sk-toggleable__content\"><pre>LogisticRegression()</pre></div></div></div></div></div>"
      ],
      "text/plain": [
       "LogisticRegression()"
      ]
     },
     "execution_count": 39,
     "metadata": {},
     "output_type": "execute_result"
    }
   ],
   "source": [
    "from sklearn.linear_model import LogisticRegression\n",
    "\n",
    "# Train sentiment classifier\n",
    "model_logis = LogisticRegression()\n",
    "model_logis.fit(X_train, y_train)\n"
   ]
  },
  {
   "cell_type": "code",
   "execution_count": 40,
   "id": "04ed86f2",
   "metadata": {
    "execution": {
     "iopub.execute_input": "2025-01-03T20:01:43.318157Z",
     "iopub.status.busy": "2025-01-03T20:01:43.317701Z",
     "iopub.status.idle": "2025-01-03T20:01:43.356813Z",
     "shell.execute_reply": "2025-01-03T20:01:43.354785Z"
    },
    "papermill": {
     "duration": 0.091542,
     "end_time": "2025-01-03T20:01:43.361153",
     "exception": false,
     "start_time": "2025-01-03T20:01:43.269611",
     "status": "completed"
    },
    "tags": []
   },
   "outputs": [
    {
     "name": "stdout",
     "output_type": "stream",
     "text": [
      "              precision    recall  f1-score   support\n",
      "\n",
      "           0       0.85      0.91      0.88       372\n",
      "           1       0.80      0.70      0.75       194\n",
      "\n",
      "    accuracy                           0.84       566\n",
      "   macro avg       0.83      0.80      0.81       566\n",
      "weighted avg       0.84      0.84      0.83       566\n",
      "\n",
      "accuracy score: 0.8374558303886925\n",
      "confusion matrix: \n",
      " [[338  34]\n",
      " [ 58 136]]\n"
     ]
    }
   ],
   "source": [
    "from sklearn.metrics import classification_report\n",
    "from sklearn.metrics import accuracy_score\n",
    "from sklearn.metrics import confusion_matrix\n",
    "\n",
    "# Evaluate model\n",
    "predictions = model_logis.predict(X_test)\n",
    "print(classification_report(y_test, predictions))\n",
    "print(f\"accuracy score: {accuracy_score(y_test, predictions)}\")\n",
    "print(f\"confusion matrix: \\n {confusion_matrix(y_test, predictions)}\")"
   ]
  },
  {
   "cell_type": "markdown",
   "id": "a37542cb",
   "metadata": {
    "papermill": {
     "duration": 0.034331,
     "end_time": "2025-01-03T20:01:43.463068",
     "exception": false,
     "start_time": "2025-01-03T20:01:43.428737",
     "status": "completed"
    },
    "tags": []
   },
   "source": [
    "## Word clustring"
   ]
  },
  {
   "cell_type": "code",
   "execution_count": 41,
   "id": "a97443eb",
   "metadata": {
    "execution": {
     "iopub.execute_input": "2025-01-03T20:01:43.512601Z",
     "iopub.status.busy": "2025-01-03T20:01:43.512177Z",
     "iopub.status.idle": "2025-01-03T20:01:43.679983Z",
     "shell.execute_reply": "2025-01-03T20:01:43.678392Z"
    },
    "papermill": {
     "duration": 0.209349,
     "end_time": "2025-01-03T20:01:43.696087",
     "exception": false,
     "start_time": "2025-01-03T20:01:43.486738",
     "status": "completed"
    },
    "tags": []
   },
   "outputs": [
    {
     "name": "stdout",
     "output_type": "stream",
     "text": [
      "[[-5.01455128e-01  1.00859833e+00  3.25190187e-01 ... -2.63360769e-01\n",
      "   2.27294490e-02  3.12877059e-01]\n",
      " [-3.63617539e-01  1.50518990e+00  5.58951259e-01 ... -5.67362070e-01\n",
      "   1.78491101e-01 -9.44490254e-01]\n",
      " [-3.69685352e-01  1.66198671e+00  4.75755453e-01 ... -2.43163519e-02\n",
      "   3.29347998e-01 -4.92201090e-01]\n",
      " ...\n",
      " [ 2.21753347e-04  1.20387208e-02  8.59156530e-03 ... -1.83220860e-02\n",
      "   3.36620375e-03 -7.00970506e-03]\n",
      " [ 1.05125075e-02  4.50543687e-03  9.40639153e-03 ... -1.10077094e-02\n",
      "  -5.02172159e-03 -7.32165249e-03]\n",
      " [ 6.12401729e-03 -1.74018904e-03  1.18915702e-03 ... -3.30432830e-03\n",
      "  -5.19557018e-03 -1.19915484e-02]]\n",
      "[0 1 1 1 3 3 2 1 1 4 0 0 4 4 3 3 2 2 2 2 0 2 2 0 1 3 0 2 2 0 3 0 0 2 2 3 1\n",
      " 3 3 1 2 3 0 1 1 1 0 0 0 4 1 2 3 3 0 3 4 4 0 0 0 0 2 4 1 1 2 2 3 2 3 0 3 3\n",
      " 2 2 4 0 3 3 0 3 0 2 2 2 2 3 0 0 0 3 2 2 2 0 2 2 0 2]\n",
      "Cluster 0: ['game', 'like', 'expand', 'time', 'playing', 'games', 'fun', 'great', 'much', 'things', 'review', 'every', 'good', 'love', 'lot', 'since', 'many', 'day', 'see', 'think', 'never', 'everything', 'ever', 'amazing', 'well', 'something', 'feel']\n",
      "Cluster 1: ['island', 'one', 'switch', 'per', 'console', 'buy', '1', 'multiple', 'family', 'another', 'share', 'islands', 'fact', 'save']\n",
      "Cluster 3: ['play', 'player', 'first', 'cant', 'experience', 'make', 'second', 'players', 'person', 'progress', 'able', 'enjoy', 'bought', 'everyone', '2', 'gets', 'full', 'account', 'single', 'anything', 'wife', 'start']\n",
      "Cluster 2: ['nintendo', 'get', 'people', 'dont', 'really', 'would', 'even', 'want', 'im', 'multiplayer', 'could', 'way', 'also', 'made', 'thing', 'system', 'give', 'doesnt', 'two', 'thats', 'bad', 'youre', 'us', 'money', 'go', 'let', 'actually', 'makes', 'absolutely']\n",
      "Cluster 4: ['new', 'crossing', 'animal', 'played', 'series', 'ive', 'best', 'horizons']\n"
     ]
    },
    {
     "name": "stderr",
     "output_type": "stream",
     "text": [
      "/usr/local/lib/python3.10/dist-packages/sklearn/cluster/_kmeans.py:870: FutureWarning: The default value of `n_init` will change from 10 to 'auto' in 1.4. Set the value of `n_init` explicitly to suppress the warning\n",
      "  warnings.warn(\n"
     ]
    }
   ],
   "source": [
    "from sklearn.cluster import KMeans\n",
    "\n",
    "# Apply KMeans clustering on word vectors\n",
    "num_clusters = 5\n",
    "kmeans = KMeans(n_clusters=num_clusters, random_state=42)\n",
    "\n",
    "print(word_vectors)\n",
    "kmeans.fit(word_vectors[:100])  # Use the first 100 words for simplicity\n",
    "\n",
    "print(kmeans.labels_)\n",
    "\n",
    "# Get cluster labels for words\n",
    "clusters = kmeans.labels_\n",
    "\n",
    "# Print words grouped by cluster\n",
    "from collections import defaultdict\n",
    "cluster_map = defaultdict(list)\n",
    "for idx, label in enumerate(clusters):\n",
    "    cluster_map[label].append(words[idx])\n",
    "\n",
    "for cluster_id, word_list in cluster_map.items():\n",
    "    print(f\"Cluster {cluster_id}: {word_list}\")\n"
   ]
  },
  {
   "cell_type": "markdown",
   "id": "b69776e5",
   "metadata": {
    "papermill": {
     "duration": 0.038652,
     "end_time": "2025-01-03T20:01:43.798947",
     "exception": false,
     "start_time": "2025-01-03T20:01:43.760295",
     "status": "completed"
    },
    "tags": []
   },
   "source": [
    "### Cluster explanation"
   ]
  },
  {
   "cell_type": "markdown",
   "id": "dd24eff4",
   "metadata": {
    "papermill": {
     "duration": 0.02101,
     "end_time": "2025-01-03T20:01:43.841980",
     "exception": false,
     "start_time": "2025-01-03T20:01:43.820970",
     "status": "completed"
    },
    "tags": []
   },
   "source": [
    "- Cluster 0\n",
    "    - words : 'play', 'player', 'first', 'cant', 'experience', 'make', 'second', 'players', 'person', 'progress', 'able', 'fact', 'everyone', '2', 'gets', 'full', 'account', 'single', 'anything', 'wife'\n",
    "    - Theme : Player interactions and progress in the game\n",
    "\n",
    "- Cluster 1\n",
    "    - words: 'like', 'expand', 'really', 'time', 'playing', 'games', 'im', 'fun', 'great', 'much', 'things', 'review', 'every', 'good', 'love', 'lot', 'since', 'many', 'day', 'see', 'think', 'never', 'everything', 'ever', 'amazing', 'well', 'something', 'feel'\n",
    "    - Theme : Emotions and general sentiments about the game.\n",
    "\n",
    "- Cluster 2\n",
    "    - words: 'new', 'crossing', 'animal', 'played', 'series', 'ive', 'best', 'horizons'\n",
    "    - Theme: The \"Animal Crossing\" series and its overall reception.\n",
    "\n",
    "- Cluster 3\n",
    "    - words: 'island', 'one', 'switch', 'per', 'console', 'buy', '1', 'multiple', 'family', 'another', 'share', 'islands', 'save'\n",
    "    - Theme: Realated to game mechanics and console\n",
    "\n",
    "- Cluster 4\n",
    "    - words: 'game', 'nintendo', 'get', 'people', 'dont', 'would', 'even', 'want', 'multiplayer', 'could', 'way', 'also', 'enjoy', 'bought', 'made', 'thing', 'system', 'give', 'doesnt', 'two', 'thats', 'bad', 'youre', 'us', 'start', 'money', 'go', 'let', 'actually', 'makes', 'absolutely'\n",
    "    - Theme: General discussions and opinions about the game and its features and improvement"
   ]
  },
  {
   "cell_type": "markdown",
   "id": "a4aa7dc1",
   "metadata": {
    "papermill": {
     "duration": 0.027673,
     "end_time": "2025-01-03T20:01:43.892721",
     "exception": false,
     "start_time": "2025-01-03T20:01:43.865048",
     "status": "completed"
    },
    "tags": []
   },
   "source": [
    "## Handel imbalance train data"
   ]
  },
  {
   "cell_type": "code",
   "execution_count": 42,
   "id": "6376a185",
   "metadata": {
    "execution": {
     "iopub.execute_input": "2025-01-03T20:01:43.946143Z",
     "iopub.status.busy": "2025-01-03T20:01:43.945473Z",
     "iopub.status.idle": "2025-01-03T20:01:44.329754Z",
     "shell.execute_reply": "2025-01-03T20:01:44.328711Z"
    },
    "papermill": {
     "duration": 0.410761,
     "end_time": "2025-01-03T20:01:44.332010",
     "exception": false,
     "start_time": "2025-01-03T20:01:43.921249",
     "status": "completed"
    },
    "tags": []
   },
   "outputs": [],
   "source": [
    "from imblearn.over_sampling import SMOTE\n",
    "\n",
    "smote = SMOTE(random_state=42)\n",
    "X_train_balanced, y_train_balanced = smote.fit_resample(X_train, y_train)"
   ]
  },
  {
   "cell_type": "code",
   "execution_count": 43,
   "id": "939fb366",
   "metadata": {
    "execution": {
     "iopub.execute_input": "2025-01-03T20:01:44.389668Z",
     "iopub.status.busy": "2025-01-03T20:01:44.388688Z",
     "iopub.status.idle": "2025-01-03T20:01:44.473349Z",
     "shell.execute_reply": "2025-01-03T20:01:44.471264Z"
    },
    "papermill": {
     "duration": 0.118784,
     "end_time": "2025-01-03T20:01:44.480286",
     "exception": false,
     "start_time": "2025-01-03T20:01:44.361502",
     "status": "completed"
    },
    "tags": []
   },
   "outputs": [
    {
     "data": {
      "text/html": [
       "<style>#sk-container-id-2 {color: black;background-color: white;}#sk-container-id-2 pre{padding: 0;}#sk-container-id-2 div.sk-toggleable {background-color: white;}#sk-container-id-2 label.sk-toggleable__label {cursor: pointer;display: block;width: 100%;margin-bottom: 0;padding: 0.3em;box-sizing: border-box;text-align: center;}#sk-container-id-2 label.sk-toggleable__label-arrow:before {content: \"▸\";float: left;margin-right: 0.25em;color: #696969;}#sk-container-id-2 label.sk-toggleable__label-arrow:hover:before {color: black;}#sk-container-id-2 div.sk-estimator:hover label.sk-toggleable__label-arrow:before {color: black;}#sk-container-id-2 div.sk-toggleable__content {max-height: 0;max-width: 0;overflow: hidden;text-align: left;background-color: #f0f8ff;}#sk-container-id-2 div.sk-toggleable__content pre {margin: 0.2em;color: black;border-radius: 0.25em;background-color: #f0f8ff;}#sk-container-id-2 input.sk-toggleable__control:checked~div.sk-toggleable__content {max-height: 200px;max-width: 100%;overflow: auto;}#sk-container-id-2 input.sk-toggleable__control:checked~label.sk-toggleable__label-arrow:before {content: \"▾\";}#sk-container-id-2 div.sk-estimator input.sk-toggleable__control:checked~label.sk-toggleable__label {background-color: #d4ebff;}#sk-container-id-2 div.sk-label input.sk-toggleable__control:checked~label.sk-toggleable__label {background-color: #d4ebff;}#sk-container-id-2 input.sk-hidden--visually {border: 0;clip: rect(1px 1px 1px 1px);clip: rect(1px, 1px, 1px, 1px);height: 1px;margin: -1px;overflow: hidden;padding: 0;position: absolute;width: 1px;}#sk-container-id-2 div.sk-estimator {font-family: monospace;background-color: #f0f8ff;border: 1px dotted black;border-radius: 0.25em;box-sizing: border-box;margin-bottom: 0.5em;}#sk-container-id-2 div.sk-estimator:hover {background-color: #d4ebff;}#sk-container-id-2 div.sk-parallel-item::after {content: \"\";width: 100%;border-bottom: 1px solid gray;flex-grow: 1;}#sk-container-id-2 div.sk-label:hover label.sk-toggleable__label {background-color: #d4ebff;}#sk-container-id-2 div.sk-serial::before {content: \"\";position: absolute;border-left: 1px solid gray;box-sizing: border-box;top: 0;bottom: 0;left: 50%;z-index: 0;}#sk-container-id-2 div.sk-serial {display: flex;flex-direction: column;align-items: center;background-color: white;padding-right: 0.2em;padding-left: 0.2em;position: relative;}#sk-container-id-2 div.sk-item {position: relative;z-index: 1;}#sk-container-id-2 div.sk-parallel {display: flex;align-items: stretch;justify-content: center;background-color: white;position: relative;}#sk-container-id-2 div.sk-item::before, #sk-container-id-2 div.sk-parallel-item::before {content: \"\";position: absolute;border-left: 1px solid gray;box-sizing: border-box;top: 0;bottom: 0;left: 50%;z-index: -1;}#sk-container-id-2 div.sk-parallel-item {display: flex;flex-direction: column;z-index: 1;position: relative;background-color: white;}#sk-container-id-2 div.sk-parallel-item:first-child::after {align-self: flex-end;width: 50%;}#sk-container-id-2 div.sk-parallel-item:last-child::after {align-self: flex-start;width: 50%;}#sk-container-id-2 div.sk-parallel-item:only-child::after {width: 0;}#sk-container-id-2 div.sk-dashed-wrapped {border: 1px dashed gray;margin: 0 0.4em 0.5em 0.4em;box-sizing: border-box;padding-bottom: 0.4em;background-color: white;}#sk-container-id-2 div.sk-label label {font-family: monospace;font-weight: bold;display: inline-block;line-height: 1.2em;}#sk-container-id-2 div.sk-label-container {text-align: center;}#sk-container-id-2 div.sk-container {/* jupyter's `normalize.less` sets `[hidden] { display: none; }` but bootstrap.min.css set `[hidden] { display: none !important; }` so we also need the `!important` here to be able to override the default hidden behavior on the sphinx rendered scikit-learn.org. See: https://github.com/scikit-learn/scikit-learn/issues/21755 */display: inline-block !important;position: relative;}#sk-container-id-2 div.sk-text-repr-fallback {display: none;}</style><div id=\"sk-container-id-2\" class=\"sk-top-container\"><div class=\"sk-text-repr-fallback\"><pre>LogisticRegression(random_state=42)</pre><b>In a Jupyter environment, please rerun this cell to show the HTML representation or trust the notebook. <br />On GitHub, the HTML representation is unable to render, please try loading this page with nbviewer.org.</b></div><div class=\"sk-container\" hidden><div class=\"sk-item\"><div class=\"sk-estimator sk-toggleable\"><input class=\"sk-toggleable__control sk-hidden--visually\" id=\"sk-estimator-id-2\" type=\"checkbox\" checked><label for=\"sk-estimator-id-2\" class=\"sk-toggleable__label sk-toggleable__label-arrow\">LogisticRegression</label><div class=\"sk-toggleable__content\"><pre>LogisticRegression(random_state=42)</pre></div></div></div></div></div>"
      ],
      "text/plain": [
       "LogisticRegression(random_state=42)"
      ]
     },
     "execution_count": 43,
     "metadata": {},
     "output_type": "execute_result"
    }
   ],
   "source": [
    "from sklearn.linear_model import LogisticRegression\n",
    "\n",
    "# Train logistic regression on the balanced dataset\n",
    "model_balanced = LogisticRegression(random_state=42)\n",
    "model_balanced.fit(X_train_balanced, y_train_balanced)\n"
   ]
  },
  {
   "cell_type": "markdown",
   "id": "f5df722c",
   "metadata": {
    "papermill": {
     "duration": 0.023201,
     "end_time": "2025-01-03T20:01:44.613787",
     "exception": false,
     "start_time": "2025-01-03T20:01:44.590586",
     "status": "completed"
    },
    "tags": []
   },
   "source": [
    "## Training model with balance dataset"
   ]
  },
  {
   "cell_type": "code",
   "execution_count": 44,
   "id": "81715662",
   "metadata": {
    "execution": {
     "iopub.execute_input": "2025-01-03T20:01:44.663062Z",
     "iopub.status.busy": "2025-01-03T20:01:44.662691Z",
     "iopub.status.idle": "2025-01-03T20:01:44.698892Z",
     "shell.execute_reply": "2025-01-03T20:01:44.696830Z"
    },
    "papermill": {
     "duration": 0.06553,
     "end_time": "2025-01-03T20:01:44.704460",
     "exception": false,
     "start_time": "2025-01-03T20:01:44.638930",
     "status": "completed"
    },
    "tags": []
   },
   "outputs": [
    {
     "name": "stdout",
     "output_type": "stream",
     "text": [
      "              precision    recall  f1-score   support\n",
      "\n",
      "           0       0.89      0.87      0.88       372\n",
      "           1       0.77      0.79      0.78       194\n",
      "\n",
      "    accuracy                           0.85       566\n",
      "   macro avg       0.83      0.83      0.83       566\n",
      "weighted avg       0.85      0.85      0.85       566\n",
      "\n",
      "accuracy score: 0.8462897526501767\n",
      "confusion matrix: \n",
      " [[325  47]\n",
      " [ 40 154]]\n"
     ]
    }
   ],
   "source": [
    "\n",
    "from sklearn.metrics import classification_report\n",
    "from sklearn.metrics import accuracy_score\n",
    "from sklearn.metrics import confusion_matrix\n",
    "\n",
    "# Make predictions on the test set\n",
    "y_pred_bal = model_balanced.predict(X_test)\n",
    "\n",
    "\n",
    "\n",
    "# Evaluate balance model\n",
    "predictions = model_logis.predict(X_test)\n",
    "print(classification_report(y_test, y_pred_bal))\n",
    "print(f\"accuracy score: {accuracy_score(y_test, y_pred_bal)}\")\n",
    "print(f\"confusion matrix: \\n {confusion_matrix(y_test, y_pred_bal)}\")"
   ]
  },
  {
   "cell_type": "markdown",
   "id": "eaf57296",
   "metadata": {
    "papermill": {
     "duration": 0.021984,
     "end_time": "2025-01-03T20:01:44.819643",
     "exception": false,
     "start_time": "2025-01-03T20:01:44.797659",
     "status": "completed"
    },
    "tags": []
   },
   "source": [
    "# Step 4 :  Hyper-parameter testing"
   ]
  },
  {
   "cell_type": "code",
   "execution_count": 45,
   "id": "5c758b4f",
   "metadata": {
    "execution": {
     "iopub.execute_input": "2025-01-03T20:01:44.870244Z",
     "iopub.status.busy": "2025-01-03T20:01:44.869654Z",
     "iopub.status.idle": "2025-01-03T20:01:48.350391Z",
     "shell.execute_reply": "2025-01-03T20:01:48.347516Z"
    },
    "papermill": {
     "duration": 3.509628,
     "end_time": "2025-01-03T20:01:48.355680",
     "exception": false,
     "start_time": "2025-01-03T20:01:44.846052",
     "status": "completed"
    },
    "tags": []
   },
   "outputs": [
    {
     "data": {
      "text/plain": [
       "{'C': 10, 'solver': 'lbfgs'}"
      ]
     },
     "execution_count": 45,
     "metadata": {},
     "output_type": "execute_result"
    }
   ],
   "source": [
    "from sklearn.model_selection import GridSearchCV\n",
    "\n",
    "param_grid = {'C': [0.01, 0.1, 1, 10], 'solver': ['lbfgs', 'liblinear']}\n",
    "grid = GridSearchCV(LogisticRegression(max_iter=4000), param_grid, cv=5)\n",
    "grid.fit(X_train_balanced, y_train_balanced)\n",
    "grid.best_params_\n"
   ]
  },
  {
   "cell_type": "code",
   "execution_count": 46,
   "id": "aa1aacb6",
   "metadata": {
    "execution": {
     "iopub.execute_input": "2025-01-03T20:01:48.476697Z",
     "iopub.status.busy": "2025-01-03T20:01:48.476016Z",
     "iopub.status.idle": "2025-01-03T20:01:48.481387Z",
     "shell.execute_reply": "2025-01-03T20:01:48.480000Z"
    },
    "papermill": {
     "duration": 0.057963,
     "end_time": "2025-01-03T20:01:48.483855",
     "exception": false,
     "start_time": "2025-01-03T20:01:48.425892",
     "status": "completed"
    },
    "tags": []
   },
   "outputs": [
    {
     "name": "stdout",
     "output_type": "stream",
     "text": [
      "Best Parameters: {'C': 10, 'solver': 'lbfgs'}\n"
     ]
    }
   ],
   "source": [
    "# Get the best parameters\n",
    "best_params = grid.best_params_\n",
    "print(\"Best Parameters:\", best_params)"
   ]
  },
  {
   "cell_type": "code",
   "execution_count": 47,
   "id": "01a78946",
   "metadata": {
    "execution": {
     "iopub.execute_input": "2025-01-03T20:01:48.533375Z",
     "iopub.status.busy": "2025-01-03T20:01:48.532976Z",
     "iopub.status.idle": "2025-01-03T20:01:48.538824Z",
     "shell.execute_reply": "2025-01-03T20:01:48.537453Z"
    },
    "papermill": {
     "duration": 0.032946,
     "end_time": "2025-01-03T20:01:48.541203",
     "exception": false,
     "start_time": "2025-01-03T20:01:48.508257",
     "status": "completed"
    },
    "tags": []
   },
   "outputs": [
    {
     "name": "stdout",
     "output_type": "stream",
     "text": [
      "Best Model: LogisticRegression(C=10, max_iter=4000)\n"
     ]
    }
   ],
   "source": [
    "# Get the best estimator (model)\n",
    "best_model = grid.best_estimator_\n",
    "print(\"Best Model:\", best_model)\n"
   ]
  },
  {
   "cell_type": "code",
   "execution_count": 48,
   "id": "b406c31c",
   "metadata": {
    "execution": {
     "iopub.execute_input": "2025-01-03T20:01:48.587591Z",
     "iopub.status.busy": "2025-01-03T20:01:48.587163Z",
     "iopub.status.idle": "2025-01-03T20:01:48.595175Z",
     "shell.execute_reply": "2025-01-03T20:01:48.592807Z"
    },
    "papermill": {
     "duration": 0.035399,
     "end_time": "2025-01-03T20:01:48.598888",
     "exception": false,
     "start_time": "2025-01-03T20:01:48.563489",
     "status": "completed"
    },
    "tags": []
   },
   "outputs": [],
   "source": [
    "# Predict using the best model\n",
    "y_pred_best_model = best_model.predict(X_test)\n",
    "\n",
    "# Evaluate performance\n",
    "from sklearn.metrics import classification_report, accuracy_score"
   ]
  },
  {
   "cell_type": "markdown",
   "id": "aebb416b",
   "metadata": {
    "papermill": {
     "duration": 0.055605,
     "end_time": "2025-01-03T20:01:48.718114",
     "exception": false,
     "start_time": "2025-01-03T20:01:48.662509",
     "status": "completed"
    },
    "tags": []
   },
   "source": [
    "## Check Roc-AUC curve"
   ]
  },
  {
   "cell_type": "code",
   "execution_count": 49,
   "id": "dfd4e398",
   "metadata": {
    "execution": {
     "iopub.execute_input": "2025-01-03T20:01:48.764637Z",
     "iopub.status.busy": "2025-01-03T20:01:48.764227Z",
     "iopub.status.idle": "2025-01-03T20:01:49.096217Z",
     "shell.execute_reply": "2025-01-03T20:01:49.095016Z"
    },
    "papermill": {
     "duration": 0.357673,
     "end_time": "2025-01-03T20:01:49.098172",
     "exception": false,
     "start_time": "2025-01-03T20:01:48.740499",
     "status": "completed"
    },
    "tags": []
   },
   "outputs": [
    {
     "data": {
      "image/png": "[encoded data removed]",
      "text/plain": [
       "<Figure size 800x600 with 1 Axes>"
      ]
     },
     "metadata": {},
     "output_type": "display_data"
    }
   ],
   "source": [
    "from sklearn.metrics import roc_curve, roc_auc_score\n",
    "import matplotlib.pyplot as plt\n",
    "\n",
    "# Get predicted probabilities for the positive class\n",
    "y_probs = best_model.predict_proba(X_test)[:, 1]\n",
    "\n",
    "# Calculate ROC curve\n",
    "fpr, tpr, thresholds = roc_curve(y_test, y_probs)\n",
    "\n",
    "# Plot ROC curve\n",
    "plt.figure(figsize=(8, 6))\n",
    "plt.plot(fpr, tpr, label=f\"ROC Curve (AUC = {roc_auc_score(y_test, y_probs):.2f})\")\n",
    "plt.plot([0, 1], [0, 1], color=\"gray\", linestyle=\"--\", label=\"Random Classifier\")\n",
    "plt.title(\"Receiver Operating Characteristic (ROC) Curve\")\n",
    "plt.xlabel(\"False Positive Rate\")\n",
    "plt.ylabel(\"True Positive Rate (Recall)\")\n",
    "plt.legend()\n",
    "plt.show()\n"
   ]
  },
  {
   "cell_type": "code",
   "execution_count": 50,
   "id": "f57aa204",
   "metadata": {
    "execution": {
     "iopub.execute_input": "2025-01-03T20:01:49.153441Z",
     "iopub.status.busy": "2025-01-03T20:01:49.153032Z",
     "iopub.status.idle": "2025-01-03T20:01:49.441337Z",
     "shell.execute_reply": "2025-01-03T20:01:49.439939Z"
    },
    "papermill": {
     "duration": 0.31838,
     "end_time": "2025-01-03T20:01:49.443631",
     "exception": false,
     "start_time": "2025-01-03T20:01:49.125251",
     "status": "completed"
    },
    "tags": []
   },
   "outputs": [
    {
     "name": "stdout",
     "output_type": "stream",
     "text": [
      "Optimal Threshold: 0.5329966796163705\n",
      "Optimal Threshold - Classification Report:\n",
      "              precision    recall  f1-score   support\n",
      "\n",
      "           0       0.91      0.91      0.91       372\n",
      "           1       0.82      0.82      0.82       194\n",
      "\n",
      "    accuracy                           0.88       566\n",
      "   macro avg       0.86      0.87      0.86       566\n",
      "weighted avg       0.88      0.88      0.88       566\n",
      "\n",
      "Optimal Threshold - Accuracy: 0.8780918727915195\n"
     ]
    },
    {
     "data": {
      "image/png": "[encoded data removed]",
      "text/plain": [
       "<Figure size 800x600 with 1 Axes>"
      ]
     },
     "metadata": {},
     "output_type": "display_data"
    }
   ],
   "source": [
    "# Find the optimal threshold\n",
    "optimal_idx = np.argmax(tpr - fpr)  # Maximize TPR - FPR\n",
    "optimal_threshold = thresholds[optimal_idx]\n",
    "print(\"Optimal Threshold:\", optimal_threshold)\n",
    "\n",
    "y_pred_optimal = (y_probs >= optimal_threshold).astype(int)\n",
    "\n",
    "# Evaluate the new predictions\n",
    "print(\"Optimal Threshold - Classification Report:\")\n",
    "print(classification_report(y_test, y_pred_optimal))\n",
    "\n",
    "# Calculate accuracy\n",
    "accuracy_optimal = accuracy_score(y_test, y_pred_optimal)\n",
    "print(\"Optimal Threshold - Accuracy:\", accuracy_optimal)\n",
    "\n",
    "\n",
    "plt.figure(figsize=(8, 6))\n",
    "plt.plot(fpr, tpr, label=f\"ROC Curve (AUC = {roc_auc_score(y_test, y_probs):.2f})\")\n",
    "plt.scatter(fpr[optimal_idx], tpr[optimal_idx], color='red', label=f\"Optimal Threshold = {optimal_threshold:.2f}\")\n",
    "plt.plot([0, 1], [0, 1], color=\"gray\", linestyle=\"--\", label=\"Random Classifier\")\n",
    "plt.title(\"Receiver Operating Characteristic (ROC) Curve\")\n",
    "plt.xlabel(\"False Positive Rate\")\n",
    "plt.ylabel(\"True Positive Rate (Recall)\")\n",
    "plt.legend()\n",
    "plt.show()\n"
   ]
  },
  {
   "cell_type": "code",
   "execution_count": 51,
   "id": "9b08d97d",
   "metadata": {
    "execution": {
     "iopub.execute_input": "2025-01-03T20:01:49.494918Z",
     "iopub.status.busy": "2025-01-03T20:01:49.494458Z",
     "iopub.status.idle": "2025-01-03T20:01:49.505052Z",
     "shell.execute_reply": "2025-01-03T20:01:49.503397Z"
    },
    "papermill": {
     "duration": 0.040274,
     "end_time": "2025-01-03T20:01:49.509133",
     "exception": false,
     "start_time": "2025-01-03T20:01:49.468859",
     "status": "completed"
    },
    "tags": []
   },
   "outputs": [],
   "source": [
    "from sklearn.metrics import precision_recall_curve\n",
    "\n",
    "y_probs = best_model.predict_proba(X_test)[:, 1]\n",
    "precision, recall, thresholds = precision_recall_curve(y_test, y_probs)\n",
    "\n",
    "# Set a custom threshold (e.g., 0.4 instead of 0.5)\n",
    "optimal_threshold = 0.45\n",
    "y_pred_adjusted = (y_probs >= optimal_threshold).astype(int)\n"
   ]
  },
  {
   "cell_type": "code",
   "execution_count": 52,
   "id": "4a87d32a",
   "metadata": {
    "execution": {
     "iopub.execute_input": "2025-01-03T20:01:49.637322Z",
     "iopub.status.busy": "2025-01-03T20:01:49.636878Z",
     "iopub.status.idle": "2025-01-03T20:01:49.669470Z",
     "shell.execute_reply": "2025-01-03T20:01:49.667864Z"
    },
    "papermill": {
     "duration": 0.091233,
     "end_time": "2025-01-03T20:01:49.672193",
     "exception": false,
     "start_time": "2025-01-03T20:01:49.580960",
     "status": "completed"
    },
    "tags": []
   },
   "outputs": [
    {
     "name": "stdout",
     "output_type": "stream",
     "text": [
      "Adjusted Threshold (0.45) - Classification Report:\n",
      "              precision    recall  f1-score   support\n",
      "\n",
      "           0       0.91      0.87      0.89       372\n",
      "           1       0.78      0.84      0.80       194\n",
      "\n",
      "    accuracy                           0.86       566\n",
      "   macro avg       0.84      0.85      0.85       566\n",
      "weighted avg       0.86      0.86      0.86       566\n",
      "\n",
      "Adjusted Threshold (0.45) - Accuracy: 0.8604240282685512\n",
      "              precision    recall  f1-score   support\n",
      "\n",
      "           0       0.91      0.89      0.90       372\n",
      "           1       0.80      0.82      0.81       194\n",
      "\n",
      "    accuracy                           0.87       566\n",
      "   macro avg       0.85      0.86      0.85       566\n",
      "weighted avg       0.87      0.87      0.87       566\n",
      "\n",
      "accuracy score: 0.8674911660777385\n",
      "confusion matrix: \n",
      " [[331  41]\n",
      " [ 34 160]]\n"
     ]
    }
   ],
   "source": [
    "from sklearn.metrics import classification_report, accuracy_score\n",
    "\n",
    "# Evaluate the new predictions\n",
    "print(\"Adjusted Threshold (0.45) - Classification Report:\")\n",
    "print(classification_report(y_test, y_pred_adjusted))\n",
    "\n",
    "# Calculate accuracy\n",
    "accuracy_adjusted = accuracy_score(y_test, y_pred_adjusted)\n",
    "print(\"Adjusted Threshold (0.45) - Accuracy:\", accuracy_adjusted)\n",
    "\n",
    "print(classification_report(y_test, y_pred_best_model))\n",
    "print(f\"accuracy score: {accuracy_score(y_test, y_pred_best_model)}\")\n",
    "print(f\"confusion matrix: \\n {confusion_matrix(y_test, y_pred_best_model)}\")"
   ]
  },
  {
   "cell_type": "code",
   "execution_count": 53,
   "id": "74788e0c",
   "metadata": {
    "execution": {
     "iopub.execute_input": "2025-01-03T20:01:49.729082Z",
     "iopub.status.busy": "2025-01-03T20:01:49.728475Z",
     "iopub.status.idle": "2025-01-03T20:01:54.422375Z",
     "shell.execute_reply": "2025-01-03T20:01:54.420750Z"
    },
    "papermill": {
     "duration": 4.726124,
     "end_time": "2025-01-03T20:01:54.424889",
     "exception": false,
     "start_time": "2025-01-03T20:01:49.698765",
     "status": "completed"
    },
    "tags": []
   },
   "outputs": [
    {
     "name": "stdout",
     "output_type": "stream",
     "text": [
      "Collecting vaderSentiment\r\n",
      "  Downloading vaderSentiment-3.3.2-py2.py3-none-any.whl.metadata (572 bytes)\r\n",
      "Requirement already satisfied: requests in /usr/local/lib/python3.10/dist-packages (from vaderSentiment) (2.32.3)\r\n",
      "Requirement already satisfied: charset-normalizer<4,>=2 in /usr/local/lib/python3.10/dist-packages (from requests->vaderSentiment) (3.3.2)\r\n",
      "Requirement already satisfied: idna<4,>=2.5 in /usr/local/lib/python3.10/dist-packages (from requests->vaderSentiment) (3.10)\r\n",
      "Requirement already satisfied: urllib3<3,>=1.21.1 in /usr/local/lib/python3.10/dist-packages (from requests->vaderSentiment) (2.2.3)\r\n",
      "Requirement already satisfied: certifi>=2017.4.17 in /usr/local/lib/python3.10/dist-packages (from requests->vaderSentiment) (2024.8.30)\r\n",
      "Downloading vaderSentiment-3.3.2-py2.py3-none-any.whl (125 kB)\r\n",
      "\u001b[2K   \u001b[90m━━━━━━━━━━━━━━━━━━━━━━━━━━━━━━━━━━━━━━━━\u001b[0m \u001b[32m126.0/126.0 kB\u001b[0m \u001b[31m3.6 MB/s\u001b[0m eta \u001b[36m0:00:00\u001b[0m\r\n",
      "\u001b[?25hInstalling collected packages: vaderSentiment\r\n",
      "Successfully installed vaderSentiment-3.3.2\r\n"
     ]
    }
   ],
   "source": [
    "! pip install vaderSentiment"
   ]
  },
  {
   "cell_type": "markdown",
   "id": "e71e5fcf",
   "metadata": {
    "papermill": {
     "duration": 0.026529,
     "end_time": "2025-01-03T20:01:54.480898",
     "exception": false,
     "start_time": "2025-01-03T20:01:54.454369",
     "status": "completed"
    },
    "tags": []
   },
   "source": [
    "# Step 5: Sentiment analysis on identified Clusters"
   ]
  },
  {
   "cell_type": "code",
   "execution_count": 54,
   "id": "f513f3d9",
   "metadata": {
    "execution": {
     "iopub.execute_input": "2025-01-03T20:01:54.536357Z",
     "iopub.status.busy": "2025-01-03T20:01:54.535971Z",
     "iopub.status.idle": "2025-01-03T20:01:54.582523Z",
     "shell.execute_reply": "2025-01-03T20:01:54.580646Z"
    },
    "papermill": {
     "duration": 0.077056,
     "end_time": "2025-01-03T20:01:54.585087",
     "exception": false,
     "start_time": "2025-01-03T20:01:54.508031",
     "status": "completed"
    },
    "tags": []
   },
   "outputs": [
    {
     "name": "stdout",
     "output_type": "stream",
     "text": [
      "Cluster 3:\n",
      "  Positive Sentiment: 0.09\n",
      "  Negative Sentiment: 0.03\n",
      "  Neutral Sentiment: 0.88\n",
      "\n",
      "Cluster 2:\n",
      "  Positive Sentiment: 0.14\n",
      "  Negative Sentiment: 0.00\n",
      "  Neutral Sentiment: 0.86\n",
      "\n",
      "Cluster 0:\n",
      "  Positive Sentiment: 0.10\n",
      "  Negative Sentiment: 0.00\n",
      "  Neutral Sentiment: 0.90\n",
      "\n",
      "Cluster 1:\n",
      "  Positive Sentiment: 0.20\n",
      "  Negative Sentiment: 0.00\n",
      "  Neutral Sentiment: 0.80\n",
      "\n",
      "Cluster 4:\n",
      "  Positive Sentiment: 0.36\n",
      "  Negative Sentiment: 0.00\n",
      "  Neutral Sentiment: 0.64\n",
      "\n"
     ]
    }
   ],
   "source": [
    "from vaderSentiment.vaderSentiment import SentimentIntensityAnalyzer\n",
    "from collections import defaultdict\n",
    "\n",
    "# Initialize VADER sentiment analyzer\n",
    "analyzer = SentimentIntensityAnalyzer()\n",
    "\n",
    "# Define clusters (as provided in your example)\n",
    "clusters = {\n",
    "    3: ['game', 'nintendo', 'get', 'people', 'dont', 'really', 'would', 'even', 'playing', 'want', 'im', 'make', \n",
    "        'multiplayer', 'could', 'way', 'also', 'enjoy', 'made', 'thing', 'system', 'give', 'doesnt', 'two', \n",
    "        'think', 'thats', 'bad', 'youre', 'us', 'money', 'go', 'let', 'actually', 'makes', 'absolutely'],\n",
    "    2: ['island', 'one', 'switch', 'per', 'console', 'buy', '1', 'multiple', 'family', 'another', 'share', \n",
    "        'islands', 'fact', 'save'],\n",
    "    0: ['play', 'player', 'first', 'cant', 'experience', 'second', 'players', 'person', 'progress', 'able', \n",
    "        'bought', 'everyone', '2', 'gets', 'full', 'account', 'single', 'anything', 'wife', 'start'],\n",
    "    1: ['new', 'crossing', 'animal', 'played', 'series', 'ive', 'since', 'best', 'horizons', 'ever'],\n",
    "    4: ['like', 'expand', 'time', 'games', 'fun', 'great', 'much', 'things', 'review', 'every', 'good', 'love', \n",
    "        'lot', 'many', 'day', 'see', 'never', 'everything', 'amazing', 'well', 'something', 'feel']\n",
    "}\n",
    "\n",
    "# Calculate sentiment for each cluster\n",
    "cluster_sentiments = {}\n",
    "for cluster_id, words in clusters.items():\n",
    "    sentiment_scores = defaultdict(float)\n",
    "    for word in words:\n",
    "        sentiment = analyzer.polarity_scores(word)  # Get sentiment scores for the word\n",
    "        sentiment_scores['pos'] += sentiment['pos']  # Sum up positive scores\n",
    "        sentiment_scores['neg'] += sentiment['neg']  # Sum up negative scores\n",
    "        sentiment_scores['neu'] += sentiment['neu']  # Sum up neutral scores\n",
    "    \n",
    "    # Normalize scores by the number of words in the cluster\n",
    "    num_words = len(words)\n",
    "    cluster_sentiments[cluster_id] = {\n",
    "        'positive': sentiment_scores['pos'] / num_words,\n",
    "        'negative': sentiment_scores['neg'] / num_words,\n",
    "        'neutral': sentiment_scores['neu'] / num_words\n",
    "    }\n",
    "\n",
    "# Print sentiment analysis results\n",
    "for cluster_id, sentiments in cluster_sentiments.items():\n",
    "    print(f\"Cluster {cluster_id}:\")\n",
    "    print(f\"  Positive Sentiment: {sentiments['positive']:.2f}\")\n",
    "    print(f\"  Negative Sentiment: {sentiments['negative']:.2f}\")\n",
    "    print(f\"  Neutral Sentiment: {sentiments['neutral']:.2f}\")\n",
    "    print()\n"
   ]
  },
  {
   "cell_type": "code",
   "execution_count": null,
   "id": "70fd41f5",
   "metadata": {
    "papermill": {
     "duration": 0.028247,
     "end_time": "2025-01-03T20:01:54.640654",
     "exception": false,
     "start_time": "2025-01-03T20:01:54.612407",
     "status": "completed"
    },
    "tags": []
   },
   "outputs": [],
   "source": []
  }
 ],
 "metadata": {
  "kaggle": {
   "accelerator": "none",
   "dataSources": [
    {
     "datasetId": 635455,
     "sourceId": 1129553,
     "sourceType": "datasetVersion"
    }
   ],
   "dockerImageVersionId": 30822,
   "isGpuEnabled": false,
   "isInternetEnabled": true,
   "language": "python",
   "sourceType": "notebook"
  },
  "kernelspec": {
   "display_name": "Python 3",
   "language": "python",
   "name": "python3"
  },
  "language_info": {
   "codemirror_mode": {
    "name": "ipython",
    "version": 3
   },
   "file_extension": ".py",
   "mimetype": "text/x-python",
   "name": "python",
   "nbconvert_exporter": "python",
   "pygments_lexer": "ipython3",
   "version": "3.10.12"
  },
  "papermill": {
   "default_parameters": {},
   "duration": 104.772197,
   "end_time": "2025-01-03T20:01:57.290873",
   "environment_variables": {},
   "exception": null,
   "input_path": "__notebook__.ipynb",
   "output_path": "__notebook__.ipynb",
   "parameters": {},
   "start_time": "2025-01-03T20:00:12.518676",
   "version": "2.6.0"
  }
 },
 "nbformat": 4,
 "nbformat_minor": 5
}
