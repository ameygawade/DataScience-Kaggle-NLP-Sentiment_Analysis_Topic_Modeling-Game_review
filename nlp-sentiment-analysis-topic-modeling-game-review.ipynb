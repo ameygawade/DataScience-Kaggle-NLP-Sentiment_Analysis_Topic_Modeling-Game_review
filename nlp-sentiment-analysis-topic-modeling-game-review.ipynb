{
 "cells": [
  {
   "cell_type": "code",
   "execution_count": 1,
   "id": "52e57b7e",
   "metadata": {
    "_cell_guid": "b1076dfc-b9ad-4769-8c92-a6c4dae69d19",
    "_uuid": "8f2839f25d086af736a60e9eeb907d3b93b6e0e5",
    "execution": {
     "iopub.execute_input": "2025-01-02T20:52:27.374113Z",
     "iopub.status.busy": "2025-01-02T20:52:27.373736Z",
     "iopub.status.idle": "2025-01-02T20:52:27.772136Z",
     "shell.execute_reply": "2025-01-02T20:52:27.770836Z"
    },
    "papermill": {
     "duration": 0.414828,
     "end_time": "2025-01-02T20:52:27.774160",
     "exception": false,
     "start_time": "2025-01-02T20:52:27.359332",
     "status": "completed"
    },
    "tags": []
   },
   "outputs": [
    {
     "name": "stdout",
     "output_type": "stream",
     "text": [
      "/kaggle/input/animal-crossing/items.csv\n",
      "/kaggle/input/animal-crossing/villagers.csv\n",
      "/kaggle/input/animal-crossing/user_reviews.csv\n",
      "/kaggle/input/animal-crossing/critic.csv\n"
     ]
    }
   ],
   "source": [
    "# This Python 3 environment comes with many helpful analytics libraries installed\n",
    "# It is defined by the kaggle/python Docker image: https://github.com/kaggle/docker-python\n",
    "# For example, here's several helpful packages to load\n",
    "\n",
    "import numpy as np # linear algebra\n",
    "import pandas as pd # data processing, CSV file I/O (e.g. pd.read_csv)\n",
    "\n",
    "# Input data files are available in the read-only \"../input/\" directory\n",
    "# For example, running this (by clicking run or pressing Shift+Enter) will list all files under the input directory\n",
    "\n",
    "import os\n",
    "for dirname, _, filenames in os.walk('/kaggle/input'):\n",
    "    for filename in filenames:\n",
    "        print(os.path.join(dirname, filename))\n",
    "\n",
    "# You can write up to 20GB to the current directory (/kaggle/working/) that gets preserved as output when you create a version using \"Save & Run All\" \n",
    "# You can also write temporary files to /kaggle/temp/, but they won't be saved outside of the current session"
   ]
  },
  {
   "cell_type": "markdown",
   "id": "1b2c8e96",
   "metadata": {
    "papermill": {
     "duration": 0.011686,
     "end_time": "2025-01-02T20:52:27.798732",
     "exception": false,
     "start_time": "2025-01-02T20:52:27.787046",
     "status": "completed"
    },
    "tags": []
   },
   "source": [
    "# Understanding User Sentiments and Future Desires in Animal Crossing Reviews"
   ]
  },
  {
   "cell_type": "markdown",
   "id": "53d03bde",
   "metadata": {
    "papermill": {
     "duration": 0.01229,
     "end_time": "2025-01-02T20:52:27.823208",
     "exception": false,
     "start_time": "2025-01-02T20:52:27.810918",
     "status": "completed"
    },
    "tags": []
   },
   "source": [
    "# Step-1: Data Loading and Cleaning"
   ]
  },
  {
   "cell_type": "markdown",
   "id": "a6f6e005",
   "metadata": {
    "papermill": {
     "duration": 0.012361,
     "end_time": "2025-01-02T20:52:27.847626",
     "exception": false,
     "start_time": "2025-01-02T20:52:27.835265",
     "status": "completed"
    },
    "tags": []
   },
   "source": [
    "## Data loading"
   ]
  },
  {
   "cell_type": "code",
   "execution_count": 2,
   "id": "da073ef9",
   "metadata": {
    "execution": {
     "iopub.execute_input": "2025-01-02T20:52:27.873304Z",
     "iopub.status.busy": "2025-01-02T20:52:27.872793Z",
     "iopub.status.idle": "2025-01-02T20:52:27.973880Z",
     "shell.execute_reply": "2025-01-02T20:52:27.972829Z"
    },
    "papermill": {
     "duration": 0.115964,
     "end_time": "2025-01-02T20:52:27.975711",
     "exception": false,
     "start_time": "2025-01-02T20:52:27.859747",
     "status": "completed"
    },
    "tags": []
   },
   "outputs": [],
   "source": [
    "df_reviews = pd.read_csv('/kaggle/input/animal-crossing/user_reviews.csv')"
   ]
  },
  {
   "cell_type": "code",
   "execution_count": 3,
   "id": "d06ed820",
   "metadata": {
    "execution": {
     "iopub.execute_input": "2025-01-02T20:52:28.002282Z",
     "iopub.status.busy": "2025-01-02T20:52:28.001921Z",
     "iopub.status.idle": "2025-01-02T20:52:28.027472Z",
     "shell.execute_reply": "2025-01-02T20:52:28.026422Z"
    },
    "papermill": {
     "duration": 0.040481,
     "end_time": "2025-01-02T20:52:28.029273",
     "exception": false,
     "start_time": "2025-01-02T20:52:27.988792",
     "status": "completed"
    },
    "tags": []
   },
   "outputs": [
    {
     "data": {
      "text/html": [
       "<div>\n",
       "<style scoped>\n",
       "    .dataframe tbody tr th:only-of-type {\n",
       "        vertical-align: middle;\n",
       "    }\n",
       "\n",
       "    .dataframe tbody tr th {\n",
       "        vertical-align: top;\n",
       "    }\n",
       "\n",
       "    .dataframe thead th {\n",
       "        text-align: right;\n",
       "    }\n",
       "</style>\n",
       "<table border=\"1\" class=\"dataframe\">\n",
       "  <thead>\n",
       "    <tr style=\"text-align: right;\">\n",
       "      <th></th>\n",
       "      <th>grade</th>\n",
       "      <th>user_name</th>\n",
       "      <th>text</th>\n",
       "      <th>date</th>\n",
       "    </tr>\n",
       "  </thead>\n",
       "  <tbody>\n",
       "    <tr>\n",
       "      <th>0</th>\n",
       "      <td>4</td>\n",
       "      <td>mds27272</td>\n",
       "      <td>My gf started playing before me. No option to ...</td>\n",
       "      <td>2020-03-20</td>\n",
       "    </tr>\n",
       "    <tr>\n",
       "      <th>1</th>\n",
       "      <td>5</td>\n",
       "      <td>lolo2178</td>\n",
       "      <td>While the game itself is great, really relaxin...</td>\n",
       "      <td>2020-03-20</td>\n",
       "    </tr>\n",
       "    <tr>\n",
       "      <th>2</th>\n",
       "      <td>0</td>\n",
       "      <td>Roachant</td>\n",
       "      <td>My wife and I were looking forward to playing ...</td>\n",
       "      <td>2020-03-20</td>\n",
       "    </tr>\n",
       "    <tr>\n",
       "      <th>3</th>\n",
       "      <td>0</td>\n",
       "      <td>Houndf</td>\n",
       "      <td>We need equal values and opportunities for all...</td>\n",
       "      <td>2020-03-20</td>\n",
       "    </tr>\n",
       "    <tr>\n",
       "      <th>4</th>\n",
       "      <td>0</td>\n",
       "      <td>ProfessorFox</td>\n",
       "      <td>BEWARE!  If you have multiple people in your h...</td>\n",
       "      <td>2020-03-20</td>\n",
       "    </tr>\n",
       "    <tr>\n",
       "      <th>...</th>\n",
       "      <td>...</td>\n",
       "      <td>...</td>\n",
       "      <td>...</td>\n",
       "      <td>...</td>\n",
       "    </tr>\n",
       "    <tr>\n",
       "      <th>2994</th>\n",
       "      <td>1</td>\n",
       "      <td>TakezoShinmen</td>\n",
       "      <td>1 Island for console limitation.I cannot play ...</td>\n",
       "      <td>2020-05-03</td>\n",
       "    </tr>\n",
       "    <tr>\n",
       "      <th>2995</th>\n",
       "      <td>1</td>\n",
       "      <td>Pikey17</td>\n",
       "      <td>Per giocare con figli o fidanzate, mogli o per...</td>\n",
       "      <td>2020-05-03</td>\n",
       "    </tr>\n",
       "    <tr>\n",
       "      <th>2996</th>\n",
       "      <td>0</td>\n",
       "      <td>Lemmeadem</td>\n",
       "      <td>One island per console is a pathetic limitatio...</td>\n",
       "      <td>2020-05-03</td>\n",
       "    </tr>\n",
       "    <tr>\n",
       "      <th>2997</th>\n",
       "      <td>2</td>\n",
       "      <td>TandemTester938</td>\n",
       "      <td>Even though it seems like a great game with ma...</td>\n",
       "      <td>2020-05-03</td>\n",
       "    </tr>\n",
       "    <tr>\n",
       "      <th>2998</th>\n",
       "      <td>4</td>\n",
       "      <td>DwerG</td>\n",
       "      <td>Game is fantastic.Nintendo deciding that you c...</td>\n",
       "      <td>2020-05-03</td>\n",
       "    </tr>\n",
       "  </tbody>\n",
       "</table>\n",
       "<p>2999 rows × 4 columns</p>\n",
       "</div>"
      ],
      "text/plain": [
       "      grade        user_name  \\\n",
       "0         4         mds27272   \n",
       "1         5         lolo2178   \n",
       "2         0         Roachant   \n",
       "3         0           Houndf   \n",
       "4         0     ProfessorFox   \n",
       "...     ...              ...   \n",
       "2994      1    TakezoShinmen   \n",
       "2995      1          Pikey17   \n",
       "2996      0        Lemmeadem   \n",
       "2997      2  TandemTester938   \n",
       "2998      4            DwerG   \n",
       "\n",
       "                                                   text        date  \n",
       "0     My gf started playing before me. No option to ...  2020-03-20  \n",
       "1     While the game itself is great, really relaxin...  2020-03-20  \n",
       "2     My wife and I were looking forward to playing ...  2020-03-20  \n",
       "3     We need equal values and opportunities for all...  2020-03-20  \n",
       "4     BEWARE!  If you have multiple people in your h...  2020-03-20  \n",
       "...                                                 ...         ...  \n",
       "2994  1 Island for console limitation.I cannot play ...  2020-05-03  \n",
       "2995  Per giocare con figli o fidanzate, mogli o per...  2020-05-03  \n",
       "2996  One island per console is a pathetic limitatio...  2020-05-03  \n",
       "2997  Even though it seems like a great game with ma...  2020-05-03  \n",
       "2998  Game is fantastic.Nintendo deciding that you c...  2020-05-03  \n",
       "\n",
       "[2999 rows x 4 columns]"
      ]
     },
     "execution_count": 3,
     "metadata": {},
     "output_type": "execute_result"
    }
   ],
   "source": [
    "df_reviews"
   ]
  },
  {
   "cell_type": "code",
   "execution_count": 4,
   "id": "e4a20d68",
   "metadata": {
    "execution": {
     "iopub.execute_input": "2025-01-02T20:52:28.057556Z",
     "iopub.status.busy": "2025-01-02T20:52:28.057118Z",
     "iopub.status.idle": "2025-01-02T20:52:28.082276Z",
     "shell.execute_reply": "2025-01-02T20:52:28.080966Z"
    },
    "papermill": {
     "duration": 0.041601,
     "end_time": "2025-01-02T20:52:28.083879",
     "exception": false,
     "start_time": "2025-01-02T20:52:28.042278",
     "status": "completed"
    },
    "tags": []
   },
   "outputs": [
    {
     "name": "stdout",
     "output_type": "stream",
     "text": [
      "<class 'pandas.core.frame.DataFrame'>\n",
      "RangeIndex: 2999 entries, 0 to 2998\n",
      "Data columns (total 4 columns):\n",
      " #   Column     Non-Null Count  Dtype \n",
      "---  ------     --------------  ----- \n",
      " 0   grade      2999 non-null   int64 \n",
      " 1   user_name  2999 non-null   object\n",
      " 2   text       2999 non-null   object\n",
      " 3   date       2999 non-null   object\n",
      "dtypes: int64(1), object(3)\n",
      "memory usage: 93.8+ KB\n"
     ]
    }
   ],
   "source": [
    "df_reviews.info()"
   ]
  },
  {
   "cell_type": "code",
   "execution_count": 5,
   "id": "f7576177",
   "metadata": {
    "execution": {
     "iopub.execute_input": "2025-01-02T20:52:28.110751Z",
     "iopub.status.busy": "2025-01-02T20:52:28.110320Z",
     "iopub.status.idle": "2025-01-02T20:52:28.118269Z",
     "shell.execute_reply": "2025-01-02T20:52:28.117284Z"
    },
    "papermill": {
     "duration": 0.023357,
     "end_time": "2025-01-02T20:52:28.119862",
     "exception": false,
     "start_time": "2025-01-02T20:52:28.096505",
     "status": "completed"
    },
    "tags": []
   },
   "outputs": [
    {
     "data": {
      "text/plain": [
       "grade        0\n",
       "user_name    0\n",
       "text         0\n",
       "date         0\n",
       "dtype: int64"
      ]
     },
     "execution_count": 5,
     "metadata": {},
     "output_type": "execute_result"
    }
   ],
   "source": [
    "df_reviews.isnull().sum()"
   ]
  },
  {
   "cell_type": "markdown",
   "id": "c3b9bee9",
   "metadata": {
    "papermill": {
     "duration": 0.012704,
     "end_time": "2025-01-02T20:52:28.145648",
     "exception": false,
     "start_time": "2025-01-02T20:52:28.132944",
     "status": "completed"
    },
    "tags": []
   },
   "source": [
    "## Correct date format"
   ]
  },
  {
   "cell_type": "code",
   "execution_count": 6,
   "id": "53154957",
   "metadata": {
    "execution": {
     "iopub.execute_input": "2025-01-02T20:52:28.173956Z",
     "iopub.status.busy": "2025-01-02T20:52:28.173520Z",
     "iopub.status.idle": "2025-01-02T20:52:28.187229Z",
     "shell.execute_reply": "2025-01-02T20:52:28.186105Z"
    },
    "papermill": {
     "duration": 0.030794,
     "end_time": "2025-01-02T20:52:28.189159",
     "exception": false,
     "start_time": "2025-01-02T20:52:28.158365",
     "status": "completed"
    },
    "tags": []
   },
   "outputs": [],
   "source": [
    "df_reviews['date'] = pd.to_datetime(df_reviews['date'])"
   ]
  },
  {
   "cell_type": "code",
   "execution_count": 7,
   "id": "a3c98868",
   "metadata": {
    "execution": {
     "iopub.execute_input": "2025-01-02T20:52:28.215833Z",
     "iopub.status.busy": "2025-01-02T20:52:28.215479Z",
     "iopub.status.idle": "2025-01-02T20:52:28.226466Z",
     "shell.execute_reply": "2025-01-02T20:52:28.225291Z"
    },
    "papermill": {
     "duration": 0.026197,
     "end_time": "2025-01-02T20:52:28.228246",
     "exception": false,
     "start_time": "2025-01-02T20:52:28.202049",
     "status": "completed"
    },
    "tags": []
   },
   "outputs": [
    {
     "name": "stdout",
     "output_type": "stream",
     "text": [
      "<class 'pandas.core.frame.DataFrame'>\n",
      "RangeIndex: 2999 entries, 0 to 2998\n",
      "Data columns (total 4 columns):\n",
      " #   Column     Non-Null Count  Dtype         \n",
      "---  ------     --------------  -----         \n",
      " 0   grade      2999 non-null   int64         \n",
      " 1   user_name  2999 non-null   object        \n",
      " 2   text       2999 non-null   object        \n",
      " 3   date       2999 non-null   datetime64[ns]\n",
      "dtypes: datetime64[ns](1), int64(1), object(2)\n",
      "memory usage: 93.8+ KB\n"
     ]
    }
   ],
   "source": [
    "df_reviews.info()"
   ]
  },
  {
   "cell_type": "markdown",
   "id": "17f5ea5f",
   "metadata": {
    "papermill": {
     "duration": 0.012107,
     "end_time": "2025-01-02T20:52:28.252950",
     "exception": false,
     "start_time": "2025-01-02T20:52:28.240843",
     "status": "completed"
    },
    "tags": []
   },
   "source": [
    "# Step-2: Data Exploration and Preprocessing"
   ]
  },
  {
   "cell_type": "markdown",
   "id": "00e83ece",
   "metadata": {
    "papermill": {
     "duration": 0.012382,
     "end_time": "2025-01-02T20:52:28.277801",
     "exception": false,
     "start_time": "2025-01-02T20:52:28.265419",
     "status": "completed"
    },
    "tags": []
   },
   "source": [
    "## Language Detection"
   ]
  },
  {
   "cell_type": "code",
   "execution_count": 8,
   "id": "1578d5fb",
   "metadata": {
    "execution": {
     "iopub.execute_input": "2025-01-02T20:52:28.304275Z",
     "iopub.status.busy": "2025-01-02T20:52:28.303887Z",
     "iopub.status.idle": "2025-01-02T20:52:36.727459Z",
     "shell.execute_reply": "2025-01-02T20:52:36.726364Z"
    },
    "papermill": {
     "duration": 8.438999,
     "end_time": "2025-01-02T20:52:36.729329",
     "exception": false,
     "start_time": "2025-01-02T20:52:28.290330",
     "status": "completed"
    },
    "tags": []
   },
   "outputs": [
    {
     "name": "stdout",
     "output_type": "stream",
     "text": [
      "Collecting langdetect\r\n",
      "  Downloading langdetect-1.0.9.tar.gz (981 kB)\r\n",
      "\u001b[2K     \u001b[90m━━━━━━━━━━━━━━━━━━━━━━━━━━━━━━━━━━━━━━━━\u001b[0m \u001b[32m981.5/981.5 kB\u001b[0m \u001b[31m16.4 MB/s\u001b[0m eta \u001b[36m0:00:00\u001b[0m\r\n",
      "\u001b[?25h  Preparing metadata (setup.py) ... \u001b[?25l\u001b[?25hdone\r\n",
      "Requirement already satisfied: six in /usr/local/lib/python3.10/dist-packages (from langdetect) (1.16.0)\r\n",
      "Building wheels for collected packages: langdetect\r\n",
      "  Building wheel for langdetect (setup.py) ... \u001b[?25l\u001b[?25hdone\r\n",
      "  Created wheel for langdetect: filename=langdetect-1.0.9-py3-none-any.whl size=993221 sha256=a3c1df731083b52ea25548a9cf8e4b4f2a8a607b39b27d69031568fa604991c5\r\n",
      "  Stored in directory: /root/.cache/pip/wheels/95/03/7d/59ea870c70ce4e5a370638b5462a7711ab78fba2f655d05106\r\n",
      "Successfully built langdetect\r\n",
      "Installing collected packages: langdetect\r\n",
      "Successfully installed langdetect-1.0.9\r\n"
     ]
    }
   ],
   "source": [
    "! pip install langdetect"
   ]
  },
  {
   "cell_type": "code",
   "execution_count": 9,
   "id": "6114c404",
   "metadata": {
    "execution": {
     "iopub.execute_input": "2025-01-02T20:52:36.757402Z",
     "iopub.status.busy": "2025-01-02T20:52:36.756993Z",
     "iopub.status.idle": "2025-01-02T20:52:53.062984Z",
     "shell.execute_reply": "2025-01-02T20:52:53.061926Z"
    },
    "papermill": {
     "duration": 16.322088,
     "end_time": "2025-01-02T20:52:53.064849",
     "exception": false,
     "start_time": "2025-01-02T20:52:36.742761",
     "status": "completed"
    },
    "tags": []
   },
   "outputs": [],
   "source": [
    "from langdetect import detect\n",
    "\n",
    "df_reviews['language'] = df_reviews['text'].apply(detect)"
   ]
  },
  {
   "cell_type": "code",
   "execution_count": 10,
   "id": "bc30f5c9",
   "metadata": {
    "execution": {
     "iopub.execute_input": "2025-01-02T20:52:53.092682Z",
     "iopub.status.busy": "2025-01-02T20:52:53.092351Z",
     "iopub.status.idle": "2025-01-02T20:52:53.099777Z",
     "shell.execute_reply": "2025-01-02T20:52:53.098749Z"
    },
    "papermill": {
     "duration": 0.023246,
     "end_time": "2025-01-02T20:52:53.101465",
     "exception": false,
     "start_time": "2025-01-02T20:52:53.078219",
     "status": "completed"
    },
    "tags": []
   },
   "outputs": [
    {
     "data": {
      "text/plain": [
       "language\n",
       "en       2829\n",
       "es        108\n",
       "fr         18\n",
       "pt         11\n",
       "ru         11\n",
       "it         10\n",
       "de          4\n",
       "pl          2\n",
       "th          1\n",
       "so          1\n",
       "no          1\n",
       "ko          1\n",
       "zh-cn       1\n",
       "fi          1\n",
       "Name: count, dtype: int64"
      ]
     },
     "execution_count": 10,
     "metadata": {},
     "output_type": "execute_result"
    }
   ],
   "source": [
    "df_reviews.language.value_counts()"
   ]
  },
  {
   "cell_type": "markdown",
   "id": "92d18a18",
   "metadata": {
    "papermill": {
     "duration": 0.012739,
     "end_time": "2025-01-02T20:52:53.127769",
     "exception": false,
     "start_time": "2025-01-02T20:52:53.115030",
     "status": "completed"
    },
    "tags": []
   },
   "source": [
    "As majoirity of reviews are in english language. Thus, we can either ignore or translate the respective reviews to english"
   ]
  },
  {
   "cell_type": "markdown",
   "id": "04fad4b3",
   "metadata": {
    "papermill": {
     "duration": 0.01274,
     "end_time": "2025-01-02T20:52:53.153451",
     "exception": false,
     "start_time": "2025-01-02T20:52:53.140711",
     "status": "completed"
    },
    "tags": []
   },
   "source": [
    "## Multilingual Translation"
   ]
  },
  {
   "cell_type": "markdown",
   "id": "0e5e2342",
   "metadata": {
    "papermill": {
     "duration": 0.01259,
     "end_time": "2025-01-02T20:52:53.179009",
     "exception": false,
     "start_time": "2025-01-02T20:52:53.166419",
     "status": "completed"
    },
    "tags": []
   },
   "source": [
    "### Install Deepl for multilingual translation support"
   ]
  },
  {
   "cell_type": "code",
   "execution_count": 11,
   "id": "80849644",
   "metadata": {
    "execution": {
     "iopub.execute_input": "2025-01-02T20:52:53.206336Z",
     "iopub.status.busy": "2025-01-02T20:52:53.205943Z",
     "iopub.status.idle": "2025-01-02T20:52:57.432437Z",
     "shell.execute_reply": "2025-01-02T20:52:57.431034Z"
    },
    "papermill": {
     "duration": 4.242366,
     "end_time": "2025-01-02T20:52:57.434431",
     "exception": false,
     "start_time": "2025-01-02T20:52:53.192065",
     "status": "completed"
    },
    "tags": []
   },
   "outputs": [
    {
     "name": "stdout",
     "output_type": "stream",
     "text": [
      "Collecting deepl\r\n",
      "  Downloading deepl-1.20.0-py3-none-any.whl.metadata (28 kB)\r\n",
      "Requirement already satisfied: requests<3,>=2 in /usr/local/lib/python3.10/dist-packages (from deepl) (2.32.3)\r\n",
      "Requirement already satisfied: charset-normalizer<4,>=2 in /usr/local/lib/python3.10/dist-packages (from requests<3,>=2->deepl) (3.3.2)\r\n",
      "Requirement already satisfied: idna<4,>=2.5 in /usr/local/lib/python3.10/dist-packages (from requests<3,>=2->deepl) (3.10)\r\n",
      "Requirement already satisfied: urllib3<3,>=1.21.1 in /usr/local/lib/python3.10/dist-packages (from requests<3,>=2->deepl) (2.2.3)\r\n",
      "Requirement already satisfied: certifi>=2017.4.17 in /usr/local/lib/python3.10/dist-packages (from requests<3,>=2->deepl) (2024.8.30)\r\n",
      "Downloading deepl-1.20.0-py3-none-any.whl (36 kB)\r\n",
      "Installing collected packages: deepl\r\n",
      "Successfully installed deepl-1.20.0\r\n"
     ]
    }
   ],
   "source": [
    "! pip install deepl"
   ]
  },
  {
   "cell_type": "markdown",
   "id": "c09c2679",
   "metadata": {
    "papermill": {
     "duration": 0.013329,
     "end_time": "2025-01-02T20:52:57.461732",
     "exception": false,
     "start_time": "2025-01-02T20:52:57.448403",
     "status": "completed"
    },
    "tags": []
   },
   "source": [
    "## Translate non-english reviews"
   ]
  },
  {
   "cell_type": "code",
   "execution_count": 12,
   "id": "07f70c27",
   "metadata": {
    "execution": {
     "iopub.execute_input": "2025-01-02T20:52:57.491597Z",
     "iopub.status.busy": "2025-01-02T20:52:57.491099Z",
     "iopub.status.idle": "2025-01-02T20:53:29.339381Z",
     "shell.execute_reply": "2025-01-02T20:53:29.338220Z"
    },
    "papermill": {
     "duration": 31.865997,
     "end_time": "2025-01-02T20:53:29.341436",
     "exception": false,
     "start_time": "2025-01-02T20:52:57.475439",
     "status": "completed"
    },
    "tags": []
   },
   "outputs": [],
   "source": [
    "import deepl\n",
    "\n",
    "# Replace with your DeepL API key\n",
    "auth_key = \"53ccd28c-8ff3-44e5-9459-7cf4699f0cee:fx\"#\"your_deepl_api_key\"\n",
    "translator = deepl.Translator(auth_key)\n",
    "\n",
    "# Translate non-English reviews\n",
    "def translate_text(text, source_lang, target_lang=\"EN-GB\"):\n",
    "    try:\n",
    "        result = translator.translate_text(text, source_lang=source_lang, target_lang=target_lang)\n",
    "        return result.text\n",
    "    except Exception as e:\n",
    "        return f\"Translation error: {e}\"\n",
    "\n",
    "# Filter non-English reviews\n",
    "non_english_reviews = df_reviews[df_reviews['language'] != 'en'].copy()\n",
    "\n",
    "# Translate non-English reviews\n",
    "non_english_reviews['translated_text'] = non_english_reviews.apply(\n",
    "    lambda row: translate_text(row['text'], source_lang=row['language'].upper()), axis=1\n",
    ")\n",
    "\n",
    "# Filter English reviews\n",
    "english_reviews = df_reviews[df_reviews['language'] == 'en']\n",
    "\n",
    "# Combine English and translated reviews\n",
    "df_reviews = pd.concat([english_reviews, non_english_reviews], ignore_index=True)\n",
    "\n"
   ]
  },
  {
   "cell_type": "code",
   "execution_count": 13,
   "id": "0518206a",
   "metadata": {
    "execution": {
     "iopub.execute_input": "2025-01-02T20:53:29.370043Z",
     "iopub.status.busy": "2025-01-02T20:53:29.369649Z",
     "iopub.status.idle": "2025-01-02T20:53:29.377884Z",
     "shell.execute_reply": "2025-01-02T20:53:29.376784Z"
    },
    "papermill": {
     "duration": 0.024154,
     "end_time": "2025-01-02T20:53:29.379524",
     "exception": false,
     "start_time": "2025-01-02T20:53:29.355370",
     "status": "completed"
    },
    "tags": []
   },
   "outputs": [
    {
     "data": {
      "text/plain": [
       "translated_text\n",
       "Translation error: Quota for this billing period has been exceeded, message: Quota Exceeded    166\n",
       "Translation error: Bad request, message: Value for 'source_lang' not supported.                  4\n",
       "Name: count, dtype: int64"
      ]
     },
     "execution_count": 13,
     "metadata": {},
     "output_type": "execute_result"
    }
   ],
   "source": [
    "non_english_reviews.translated_text.value_counts()"
   ]
  },
  {
   "cell_type": "markdown",
   "id": "65e5893f",
   "metadata": {
    "papermill": {
     "duration": 0.013147,
     "end_time": "2025-01-02T20:53:29.406326",
     "exception": false,
     "start_time": "2025-01-02T20:53:29.393179",
     "status": "completed"
    },
    "tags": []
   },
   "source": [
    "## Combine original and translated text"
   ]
  },
  {
   "cell_type": "code",
   "execution_count": 14,
   "id": "8c4f2f36",
   "metadata": {
    "execution": {
     "iopub.execute_input": "2025-01-02T20:53:29.434144Z",
     "iopub.status.busy": "2025-01-02T20:53:29.433813Z",
     "iopub.status.idle": "2025-01-02T20:53:29.467642Z",
     "shell.execute_reply": "2025-01-02T20:53:29.466765Z"
    },
    "papermill": {
     "duration": 0.049691,
     "end_time": "2025-01-02T20:53:29.469362",
     "exception": false,
     "start_time": "2025-01-02T20:53:29.419671",
     "status": "completed"
    },
    "tags": []
   },
   "outputs": [],
   "source": [
    "# Combine original and translated text\n",
    "df_reviews['final_text'] = df_reviews.apply(\n",
    "    lambda row: row['text'] if row['language'] == 'en' else row['translated_text'], axis=1\n",
    ")"
   ]
  },
  {
   "cell_type": "code",
   "execution_count": 15,
   "id": "a3fe20a5",
   "metadata": {
    "execution": {
     "iopub.execute_input": "2025-01-02T20:53:29.497431Z",
     "iopub.status.busy": "2025-01-02T20:53:29.497061Z",
     "iopub.status.idle": "2025-01-02T20:53:29.511744Z",
     "shell.execute_reply": "2025-01-02T20:53:29.510461Z"
    },
    "papermill": {
     "duration": 0.030389,
     "end_time": "2025-01-02T20:53:29.513279",
     "exception": false,
     "start_time": "2025-01-02T20:53:29.482890",
     "status": "completed"
    },
    "tags": []
   },
   "outputs": [
    {
     "data": {
      "text/html": [
       "<div>\n",
       "<style scoped>\n",
       "    .dataframe tbody tr th:only-of-type {\n",
       "        vertical-align: middle;\n",
       "    }\n",
       "\n",
       "    .dataframe tbody tr th {\n",
       "        vertical-align: top;\n",
       "    }\n",
       "\n",
       "    .dataframe thead th {\n",
       "        text-align: right;\n",
       "    }\n",
       "</style>\n",
       "<table border=\"1\" class=\"dataframe\">\n",
       "  <thead>\n",
       "    <tr style=\"text-align: right;\">\n",
       "      <th></th>\n",
       "      <th>grade</th>\n",
       "      <th>user_name</th>\n",
       "      <th>text</th>\n",
       "      <th>date</th>\n",
       "      <th>language</th>\n",
       "      <th>translated_text</th>\n",
       "      <th>final_text</th>\n",
       "    </tr>\n",
       "  </thead>\n",
       "  <tbody>\n",
       "    <tr>\n",
       "      <th>0</th>\n",
       "      <td>4</td>\n",
       "      <td>mds27272</td>\n",
       "      <td>My gf started playing before me. No option to ...</td>\n",
       "      <td>2020-03-20</td>\n",
       "      <td>en</td>\n",
       "      <td>NaN</td>\n",
       "      <td>My gf started playing before me. No option to ...</td>\n",
       "    </tr>\n",
       "    <tr>\n",
       "      <th>1</th>\n",
       "      <td>5</td>\n",
       "      <td>lolo2178</td>\n",
       "      <td>While the game itself is great, really relaxin...</td>\n",
       "      <td>2020-03-20</td>\n",
       "      <td>en</td>\n",
       "      <td>NaN</td>\n",
       "      <td>While the game itself is great, really relaxin...</td>\n",
       "    </tr>\n",
       "    <tr>\n",
       "      <th>2</th>\n",
       "      <td>0</td>\n",
       "      <td>Roachant</td>\n",
       "      <td>My wife and I were looking forward to playing ...</td>\n",
       "      <td>2020-03-20</td>\n",
       "      <td>en</td>\n",
       "      <td>NaN</td>\n",
       "      <td>My wife and I were looking forward to playing ...</td>\n",
       "    </tr>\n",
       "    <tr>\n",
       "      <th>3</th>\n",
       "      <td>0</td>\n",
       "      <td>Houndf</td>\n",
       "      <td>We need equal values and opportunities for all...</td>\n",
       "      <td>2020-03-20</td>\n",
       "      <td>en</td>\n",
       "      <td>NaN</td>\n",
       "      <td>We need equal values and opportunities for all...</td>\n",
       "    </tr>\n",
       "    <tr>\n",
       "      <th>4</th>\n",
       "      <td>0</td>\n",
       "      <td>ProfessorFox</td>\n",
       "      <td>BEWARE!  If you have multiple people in your h...</td>\n",
       "      <td>2020-03-20</td>\n",
       "      <td>en</td>\n",
       "      <td>NaN</td>\n",
       "      <td>BEWARE!  If you have multiple people in your h...</td>\n",
       "    </tr>\n",
       "    <tr>\n",
       "      <th>...</th>\n",
       "      <td>...</td>\n",
       "      <td>...</td>\n",
       "      <td>...</td>\n",
       "      <td>...</td>\n",
       "      <td>...</td>\n",
       "      <td>...</td>\n",
       "      <td>...</td>\n",
       "    </tr>\n",
       "    <tr>\n",
       "      <th>2994</th>\n",
       "      <td>10</td>\n",
       "      <td>ArisLink</td>\n",
       "      <td>Es el mejor Animal crossing de la historia y m...</td>\n",
       "      <td>2020-04-28</td>\n",
       "      <td>es</td>\n",
       "      <td>Translation error: Quota for this billing peri...</td>\n",
       "      <td>Translation error: Quota for this billing peri...</td>\n",
       "    </tr>\n",
       "    <tr>\n",
       "      <th>2995</th>\n",
       "      <td>7</td>\n",
       "      <td>Gemmo</td>\n",
       "      <td>Trovo che il gioco sia ben strutturato e lasci...</td>\n",
       "      <td>2020-04-28</td>\n",
       "      <td>it</td>\n",
       "      <td>Translation error: Quota for this billing peri...</td>\n",
       "      <td>Translation error: Quota for this billing peri...</td>\n",
       "    </tr>\n",
       "    <tr>\n",
       "      <th>2996</th>\n",
       "      <td>10</td>\n",
       "      <td>Jhonpo</td>\n",
       "      <td>El juego es maravilloso y que bien esta jugarl...</td>\n",
       "      <td>2020-04-29</td>\n",
       "      <td>es</td>\n",
       "      <td>Translation error: Quota for this billing peri...</td>\n",
       "      <td>Translation error: Quota for this billing peri...</td>\n",
       "    </tr>\n",
       "    <tr>\n",
       "      <th>2997</th>\n",
       "      <td>10</td>\n",
       "      <td>Dabaru</td>\n",
       "      <td>Me hacen gracia las notas bajas intentando des...</td>\n",
       "      <td>2020-05-02</td>\n",
       "      <td>es</td>\n",
       "      <td>Translation error: Quota for this billing peri...</td>\n",
       "      <td>Translation error: Quota for this billing peri...</td>\n",
       "    </tr>\n",
       "    <tr>\n",
       "      <th>2998</th>\n",
       "      <td>1</td>\n",
       "      <td>Pikey17</td>\n",
       "      <td>Per giocare con figli o fidanzate, mogli o per...</td>\n",
       "      <td>2020-05-03</td>\n",
       "      <td>it</td>\n",
       "      <td>Translation error: Quota for this billing peri...</td>\n",
       "      <td>Translation error: Quota for this billing peri...</td>\n",
       "    </tr>\n",
       "  </tbody>\n",
       "</table>\n",
       "<p>2999 rows × 7 columns</p>\n",
       "</div>"
      ],
      "text/plain": [
       "      grade     user_name                                               text  \\\n",
       "0         4      mds27272  My gf started playing before me. No option to ...   \n",
       "1         5      lolo2178  While the game itself is great, really relaxin...   \n",
       "2         0      Roachant  My wife and I were looking forward to playing ...   \n",
       "3         0        Houndf  We need equal values and opportunities for all...   \n",
       "4         0  ProfessorFox  BEWARE!  If you have multiple people in your h...   \n",
       "...     ...           ...                                                ...   \n",
       "2994     10      ArisLink  Es el mejor Animal crossing de la historia y m...   \n",
       "2995      7         Gemmo  Trovo che il gioco sia ben strutturato e lasci...   \n",
       "2996     10        Jhonpo  El juego es maravilloso y que bien esta jugarl...   \n",
       "2997     10        Dabaru  Me hacen gracia las notas bajas intentando des...   \n",
       "2998      1       Pikey17  Per giocare con figli o fidanzate, mogli o per...   \n",
       "\n",
       "           date language                                    translated_text  \\\n",
       "0    2020-03-20       en                                                NaN   \n",
       "1    2020-03-20       en                                                NaN   \n",
       "2    2020-03-20       en                                                NaN   \n",
       "3    2020-03-20       en                                                NaN   \n",
       "4    2020-03-20       en                                                NaN   \n",
       "...         ...      ...                                                ...   \n",
       "2994 2020-04-28       es  Translation error: Quota for this billing peri...   \n",
       "2995 2020-04-28       it  Translation error: Quota for this billing peri...   \n",
       "2996 2020-04-29       es  Translation error: Quota for this billing peri...   \n",
       "2997 2020-05-02       es  Translation error: Quota for this billing peri...   \n",
       "2998 2020-05-03       it  Translation error: Quota for this billing peri...   \n",
       "\n",
       "                                             final_text  \n",
       "0     My gf started playing before me. No option to ...  \n",
       "1     While the game itself is great, really relaxin...  \n",
       "2     My wife and I were looking forward to playing ...  \n",
       "3     We need equal values and opportunities for all...  \n",
       "4     BEWARE!  If you have multiple people in your h...  \n",
       "...                                                 ...  \n",
       "2994  Translation error: Quota for this billing peri...  \n",
       "2995  Translation error: Quota for this billing peri...  \n",
       "2996  Translation error: Quota for this billing peri...  \n",
       "2997  Translation error: Quota for this billing peri...  \n",
       "2998  Translation error: Quota for this billing peri...  \n",
       "\n",
       "[2999 rows x 7 columns]"
      ]
     },
     "execution_count": 15,
     "metadata": {},
     "output_type": "execute_result"
    }
   ],
   "source": [
    "df_reviews"
   ]
  },
  {
   "cell_type": "markdown",
   "id": "8f48d7db",
   "metadata": {
    "papermill": {
     "duration": 0.013569,
     "end_time": "2025-01-02T20:53:29.540834",
     "exception": false,
     "start_time": "2025-01-02T20:53:29.527265",
     "status": "completed"
    },
    "tags": []
   },
   "source": [
    "## Filter out rows with translation errors"
   ]
  },
  {
   "cell_type": "code",
   "execution_count": 16,
   "id": "0b7c4726",
   "metadata": {
    "execution": {
     "iopub.execute_input": "2025-01-02T20:53:29.570755Z",
     "iopub.status.busy": "2025-01-02T20:53:29.570304Z",
     "iopub.status.idle": "2025-01-02T20:53:29.578229Z",
     "shell.execute_reply": "2025-01-02T20:53:29.577327Z"
    },
    "papermill": {
     "duration": 0.025036,
     "end_time": "2025-01-02T20:53:29.579769",
     "exception": false,
     "start_time": "2025-01-02T20:53:29.554733",
     "status": "completed"
    },
    "tags": []
   },
   "outputs": [],
   "source": [
    "# Filter out rows with translation errors\n",
    "df_reviews = df_reviews[~df_reviews['translated_text'].str.contains(\"Translation error\", na=False)]\n",
    "\n",
    "# Reset the index after filtering\n",
    "df_reviews.reset_index(drop=True, inplace=True)\n"
   ]
  },
  {
   "cell_type": "code",
   "execution_count": 17,
   "id": "dece64e1",
   "metadata": {
    "execution": {
     "iopub.execute_input": "2025-01-02T20:53:29.610090Z",
     "iopub.status.busy": "2025-01-02T20:53:29.609712Z",
     "iopub.status.idle": "2025-01-02T20:53:29.616562Z",
     "shell.execute_reply": "2025-01-02T20:53:29.615583Z"
    },
    "papermill": {
     "duration": 0.024482,
     "end_time": "2025-01-02T20:53:29.618114",
     "exception": false,
     "start_time": "2025-01-02T20:53:29.593632",
     "status": "completed"
    },
    "tags": []
   },
   "outputs": [
    {
     "data": {
      "text/plain": [
       "0"
      ]
     },
     "execution_count": 17,
     "metadata": {},
     "output_type": "execute_result"
    }
   ],
   "source": [
    "df_reviews['translated_text'].str.contains(\"Translation error\", na=False).sum()"
   ]
  },
  {
   "cell_type": "code",
   "execution_count": 18,
   "id": "a8859abe",
   "metadata": {
    "execution": {
     "iopub.execute_input": "2025-01-02T20:53:29.647218Z",
     "iopub.status.busy": "2025-01-02T20:53:29.646816Z",
     "iopub.status.idle": "2025-01-02T20:53:29.654236Z",
     "shell.execute_reply": "2025-01-02T20:53:29.653145Z"
    },
    "papermill": {
     "duration": 0.02389,
     "end_time": "2025-01-02T20:53:29.655827",
     "exception": false,
     "start_time": "2025-01-02T20:53:29.631937",
     "status": "completed"
    },
    "tags": []
   },
   "outputs": [
    {
     "data": {
      "text/plain": [
       "Series([], Name: count, dtype: int64)"
      ]
     },
     "execution_count": 18,
     "metadata": {},
     "output_type": "execute_result"
    }
   ],
   "source": [
    "df_reviews.translated_text.value_counts()"
   ]
  },
  {
   "cell_type": "code",
   "execution_count": 19,
   "id": "b7cd39d8",
   "metadata": {
    "execution": {
     "iopub.execute_input": "2025-01-02T20:53:29.685305Z",
     "iopub.status.busy": "2025-01-02T20:53:29.684909Z",
     "iopub.status.idle": "2025-01-02T20:53:29.690498Z",
     "shell.execute_reply": "2025-01-02T20:53:29.689529Z"
    },
    "papermill": {
     "duration": 0.022074,
     "end_time": "2025-01-02T20:53:29.692113",
     "exception": false,
     "start_time": "2025-01-02T20:53:29.670039",
     "status": "completed"
    },
    "tags": []
   },
   "outputs": [
    {
     "data": {
      "text/plain": [
       "(2829, 7)"
      ]
     },
     "execution_count": 19,
     "metadata": {},
     "output_type": "execute_result"
    }
   ],
   "source": [
    "df_reviews.shape"
   ]
  },
  {
   "cell_type": "code",
   "execution_count": 20,
   "id": "c47583bf",
   "metadata": {
    "execution": {
     "iopub.execute_input": "2025-01-02T20:53:29.722050Z",
     "iopub.status.busy": "2025-01-02T20:53:29.721693Z",
     "iopub.status.idle": "2025-01-02T20:53:29.730126Z",
     "shell.execute_reply": "2025-01-02T20:53:29.729126Z"
    },
    "papermill": {
     "duration": 0.025492,
     "end_time": "2025-01-02T20:53:29.732213",
     "exception": false,
     "start_time": "2025-01-02T20:53:29.706721",
     "status": "completed"
    },
    "tags": []
   },
   "outputs": [
    {
     "data": {
      "text/plain": [
       "grade                 0\n",
       "user_name             0\n",
       "text                  0\n",
       "date                  0\n",
       "language              0\n",
       "translated_text    2829\n",
       "final_text            0\n",
       "dtype: int64"
      ]
     },
     "execution_count": 20,
     "metadata": {},
     "output_type": "execute_result"
    }
   ],
   "source": [
    "df_reviews.isnull().sum()"
   ]
  },
  {
   "cell_type": "code",
   "execution_count": 21,
   "id": "e8201793",
   "metadata": {
    "execution": {
     "iopub.execute_input": "2025-01-02T20:53:29.761822Z",
     "iopub.status.busy": "2025-01-02T20:53:29.761463Z",
     "iopub.status.idle": "2025-01-02T20:53:29.767140Z",
     "shell.execute_reply": "2025-01-02T20:53:29.766237Z"
    },
    "papermill": {
     "duration": 0.022275,
     "end_time": "2025-01-02T20:53:29.768770",
     "exception": false,
     "start_time": "2025-01-02T20:53:29.746495",
     "status": "completed"
    },
    "tags": []
   },
   "outputs": [
    {
     "data": {
      "text/plain": [
       "Index(['grade', 'user_name', 'text', 'date', 'language', 'translated_text',\n",
       "       'final_text'],\n",
       "      dtype='object')"
      ]
     },
     "execution_count": 21,
     "metadata": {},
     "output_type": "execute_result"
    }
   ],
   "source": [
    "df_reviews.columns"
   ]
  },
  {
   "cell_type": "markdown",
   "id": "30daa081",
   "metadata": {
    "papermill": {
     "duration": 0.014149,
     "end_time": "2025-01-02T20:53:29.797316",
     "exception": false,
     "start_time": "2025-01-02T20:53:29.783167",
     "status": "completed"
    },
    "tags": []
   },
   "source": [
    "## Final dataset for preprocessing"
   ]
  },
  {
   "cell_type": "code",
   "execution_count": 22,
   "id": "8a0c925e",
   "metadata": {
    "execution": {
     "iopub.execute_input": "2025-01-02T20:53:29.827149Z",
     "iopub.status.busy": "2025-01-02T20:53:29.826791Z",
     "iopub.status.idle": "2025-01-02T20:53:29.832561Z",
     "shell.execute_reply": "2025-01-02T20:53:29.831576Z"
    },
    "papermill": {
     "duration": 0.022777,
     "end_time": "2025-01-02T20:53:29.834327",
     "exception": false,
     "start_time": "2025-01-02T20:53:29.811550",
     "status": "completed"
    },
    "tags": []
   },
   "outputs": [],
   "source": [
    "df_reviews_final = df_reviews[['grade', 'user_name', 'date', 'final_text']]\n"
   ]
  },
  {
   "cell_type": "code",
   "execution_count": 23,
   "id": "b0a3537f",
   "metadata": {
    "execution": {
     "iopub.execute_input": "2025-01-02T20:53:29.864910Z",
     "iopub.status.busy": "2025-01-02T20:53:29.864530Z",
     "iopub.status.idle": "2025-01-02T20:53:29.876998Z",
     "shell.execute_reply": "2025-01-02T20:53:29.875907Z"
    },
    "papermill": {
     "duration": 0.030112,
     "end_time": "2025-01-02T20:53:29.878764",
     "exception": false,
     "start_time": "2025-01-02T20:53:29.848652",
     "status": "completed"
    },
    "tags": []
   },
   "outputs": [
    {
     "data": {
      "text/html": [
       "<div>\n",
       "<style scoped>\n",
       "    .dataframe tbody tr th:only-of-type {\n",
       "        vertical-align: middle;\n",
       "    }\n",
       "\n",
       "    .dataframe tbody tr th {\n",
       "        vertical-align: top;\n",
       "    }\n",
       "\n",
       "    .dataframe thead th {\n",
       "        text-align: right;\n",
       "    }\n",
       "</style>\n",
       "<table border=\"1\" class=\"dataframe\">\n",
       "  <thead>\n",
       "    <tr style=\"text-align: right;\">\n",
       "      <th></th>\n",
       "      <th>grade</th>\n",
       "      <th>user_name</th>\n",
       "      <th>date</th>\n",
       "      <th>final_text</th>\n",
       "    </tr>\n",
       "  </thead>\n",
       "  <tbody>\n",
       "    <tr>\n",
       "      <th>0</th>\n",
       "      <td>4</td>\n",
       "      <td>mds27272</td>\n",
       "      <td>2020-03-20</td>\n",
       "      <td>My gf started playing before me. No option to ...</td>\n",
       "    </tr>\n",
       "    <tr>\n",
       "      <th>1</th>\n",
       "      <td>5</td>\n",
       "      <td>lolo2178</td>\n",
       "      <td>2020-03-20</td>\n",
       "      <td>While the game itself is great, really relaxin...</td>\n",
       "    </tr>\n",
       "    <tr>\n",
       "      <th>2</th>\n",
       "      <td>0</td>\n",
       "      <td>Roachant</td>\n",
       "      <td>2020-03-20</td>\n",
       "      <td>My wife and I were looking forward to playing ...</td>\n",
       "    </tr>\n",
       "    <tr>\n",
       "      <th>3</th>\n",
       "      <td>0</td>\n",
       "      <td>Houndf</td>\n",
       "      <td>2020-03-20</td>\n",
       "      <td>We need equal values and opportunities for all...</td>\n",
       "    </tr>\n",
       "    <tr>\n",
       "      <th>4</th>\n",
       "      <td>0</td>\n",
       "      <td>ProfessorFox</td>\n",
       "      <td>2020-03-20</td>\n",
       "      <td>BEWARE!  If you have multiple people in your h...</td>\n",
       "    </tr>\n",
       "    <tr>\n",
       "      <th>...</th>\n",
       "      <td>...</td>\n",
       "      <td>...</td>\n",
       "      <td>...</td>\n",
       "      <td>...</td>\n",
       "    </tr>\n",
       "    <tr>\n",
       "      <th>2824</th>\n",
       "      <td>0</td>\n",
       "      <td>crazycasti</td>\n",
       "      <td>2020-05-03</td>\n",
       "      <td>For those who say I don't understand review bo...</td>\n",
       "    </tr>\n",
       "    <tr>\n",
       "      <th>2825</th>\n",
       "      <td>1</td>\n",
       "      <td>TakezoShinmen</td>\n",
       "      <td>2020-05-03</td>\n",
       "      <td>1 Island for console limitation.I cannot play ...</td>\n",
       "    </tr>\n",
       "    <tr>\n",
       "      <th>2826</th>\n",
       "      <td>0</td>\n",
       "      <td>Lemmeadem</td>\n",
       "      <td>2020-05-03</td>\n",
       "      <td>One island per console is a pathetic limitatio...</td>\n",
       "    </tr>\n",
       "    <tr>\n",
       "      <th>2827</th>\n",
       "      <td>2</td>\n",
       "      <td>TandemTester938</td>\n",
       "      <td>2020-05-03</td>\n",
       "      <td>Even though it seems like a great game with ma...</td>\n",
       "    </tr>\n",
       "    <tr>\n",
       "      <th>2828</th>\n",
       "      <td>4</td>\n",
       "      <td>DwerG</td>\n",
       "      <td>2020-05-03</td>\n",
       "      <td>Game is fantastic.Nintendo deciding that you c...</td>\n",
       "    </tr>\n",
       "  </tbody>\n",
       "</table>\n",
       "<p>2829 rows × 4 columns</p>\n",
       "</div>"
      ],
      "text/plain": [
       "      grade        user_name       date  \\\n",
       "0         4         mds27272 2020-03-20   \n",
       "1         5         lolo2178 2020-03-20   \n",
       "2         0         Roachant 2020-03-20   \n",
       "3         0           Houndf 2020-03-20   \n",
       "4         0     ProfessorFox 2020-03-20   \n",
       "...     ...              ...        ...   \n",
       "2824      0       crazycasti 2020-05-03   \n",
       "2825      1    TakezoShinmen 2020-05-03   \n",
       "2826      0        Lemmeadem 2020-05-03   \n",
       "2827      2  TandemTester938 2020-05-03   \n",
       "2828      4            DwerG 2020-05-03   \n",
       "\n",
       "                                             final_text  \n",
       "0     My gf started playing before me. No option to ...  \n",
       "1     While the game itself is great, really relaxin...  \n",
       "2     My wife and I were looking forward to playing ...  \n",
       "3     We need equal values and opportunities for all...  \n",
       "4     BEWARE!  If you have multiple people in your h...  \n",
       "...                                                 ...  \n",
       "2824  For those who say I don't understand review bo...  \n",
       "2825  1 Island for console limitation.I cannot play ...  \n",
       "2826  One island per console is a pathetic limitatio...  \n",
       "2827  Even though it seems like a great game with ma...  \n",
       "2828  Game is fantastic.Nintendo deciding that you c...  \n",
       "\n",
       "[2829 rows x 4 columns]"
      ]
     },
     "execution_count": 23,
     "metadata": {},
     "output_type": "execute_result"
    }
   ],
   "source": [
    "df_reviews_final"
   ]
  },
  {
   "cell_type": "code",
   "execution_count": 24,
   "id": "8891307d",
   "metadata": {
    "execution": {
     "iopub.execute_input": "2025-01-02T20:53:29.910024Z",
     "iopub.status.busy": "2025-01-02T20:53:29.909688Z",
     "iopub.status.idle": "2025-01-02T20:53:29.972653Z",
     "shell.execute_reply": "2025-01-02T20:53:29.971663Z"
    },
    "papermill": {
     "duration": 0.081046,
     "end_time": "2025-01-02T20:53:29.974606",
     "exception": false,
     "start_time": "2025-01-02T20:53:29.893560",
     "status": "completed"
    },
    "tags": []
   },
   "outputs": [],
   "source": [
    "df_reviews_final.to_csv('final_traslate.csv')"
   ]
  },
  {
   "cell_type": "markdown",
   "id": "b8ae89d9",
   "metadata": {
    "papermill": {
     "duration": 0.014659,
     "end_time": "2025-01-02T20:53:30.004098",
     "exception": false,
     "start_time": "2025-01-02T20:53:29.989439",
     "status": "completed"
    },
    "tags": []
   },
   "source": [
    "## Check grade distribution"
   ]
  },
  {
   "cell_type": "code",
   "execution_count": 25,
   "id": "09f7b46c",
   "metadata": {
    "execution": {
     "iopub.execute_input": "2025-01-02T20:53:30.034916Z",
     "iopub.status.busy": "2025-01-02T20:53:30.034434Z",
     "iopub.status.idle": "2025-01-02T20:53:30.373083Z",
     "shell.execute_reply": "2025-01-02T20:53:30.371977Z"
    },
    "papermill": {
     "duration": 0.355958,
     "end_time": "2025-01-02T20:53:30.374847",
     "exception": false,
     "start_time": "2025-01-02T20:53:30.018889",
     "status": "completed"
    },
    "tags": []
   },
   "outputs": [
    {
     "data": {
      "text/plain": [
       "<Axes: title={'center': 'Grade Distribution'}, xlabel='grade'>"
      ]
     },
     "execution_count": 25,
     "metadata": {},
     "output_type": "execute_result"
    },
    {
     "data": {
      "image/png": "[encoded data removed]",
      "text/plain": [
       "<Figure size 640x480 with 1 Axes>"
      ]
     },
     "metadata": {},
     "output_type": "display_data"
    }
   ],
   "source": [
    "# Grade distribution\n",
    "df_reviews_final['grade'].value_counts().plot(kind='bar', title='Grade Distribution')"
   ]
  },
  {
   "cell_type": "markdown",
   "id": "1d42a0dc",
   "metadata": {
    "papermill": {
     "duration": 0.014811,
     "end_time": "2025-01-02T20:53:30.404791",
     "exception": false,
     "start_time": "2025-01-02T20:53:30.389980",
     "status": "completed"
    },
    "tags": []
   },
   "source": [
    "## Word count distribution"
   ]
  },
  {
   "cell_type": "code",
   "execution_count": 26,
   "id": "cc5e4655",
   "metadata": {
    "execution": {
     "iopub.execute_input": "2025-01-02T20:53:30.436037Z",
     "iopub.status.busy": "2025-01-02T20:53:30.435699Z",
     "iopub.status.idle": "2025-01-02T20:53:30.799089Z",
     "shell.execute_reply": "2025-01-02T20:53:30.797844Z"
    },
    "papermill": {
     "duration": 0.381306,
     "end_time": "2025-01-02T20:53:30.801031",
     "exception": false,
     "start_time": "2025-01-02T20:53:30.419725",
     "status": "completed"
    },
    "tags": []
   },
   "outputs": [
    {
     "name": "stderr",
     "output_type": "stream",
     "text": [
      "<ipython-input-26-509d50a529d6>:2: SettingWithCopyWarning: \n",
      "A value is trying to be set on a copy of a slice from a DataFrame.\n",
      "Try using .loc[row_indexer,col_indexer] = value instead\n",
      "\n",
      "See the caveats in the documentation: https://pandas.pydata.org/pandas-docs/stable/user_guide/indexing.html#returning-a-view-versus-a-copy\n",
      "  df_reviews_final['word_count'] = df_reviews_final['final_text'].str.split().apply(len)\n"
     ]
    },
    {
     "data": {
      "text/plain": [
       "<Axes: title={'center': 'Word Count Distribution'}, ylabel='Frequency'>"
      ]
     },
     "execution_count": 26,
     "metadata": {},
     "output_type": "execute_result"
    },
    {
     "data": {
      "image/png": "[encoded data removed]",
      "text/plain": [
       "<Figure size 640x480 with 1 Axes>"
      ]
     },
     "metadata": {},
     "output_type": "display_data"
    }
   ],
   "source": [
    "# Word count distribution\n",
    "df_reviews_final['word_count'] = df_reviews_final['final_text'].str.split().apply(len)\n",
    "df_reviews_final['word_count'].plot(kind='hist', bins=20, title='Word Count Distribution')"
   ]
  },
  {
   "cell_type": "markdown",
   "id": "e9c68a40",
   "metadata": {
    "papermill": {
     "duration": 0.015023,
     "end_time": "2025-01-02T20:53:30.831730",
     "exception": false,
     "start_time": "2025-01-02T20:53:30.816707",
     "status": "completed"
    },
    "tags": []
   },
   "source": [
    "## Text Preprocessing"
   ]
  },
  {
   "cell_type": "markdown",
   "id": "d1106bed",
   "metadata": {
    "papermill": {
     "duration": 0.015162,
     "end_time": "2025-01-02T20:53:30.862079",
     "exception": false,
     "start_time": "2025-01-02T20:53:30.846917",
     "status": "completed"
    },
    "tags": []
   },
   "source": [
    "### Cleaning reviews"
   ]
  },
  {
   "cell_type": "code",
   "execution_count": 27,
   "id": "7c6c9963",
   "metadata": {
    "execution": {
     "iopub.execute_input": "2025-01-02T20:53:30.894339Z",
     "iopub.status.busy": "2025-01-02T20:53:30.893906Z",
     "iopub.status.idle": "2025-01-02T20:53:30.975261Z",
     "shell.execute_reply": "2025-01-02T20:53:30.974117Z"
    },
    "papermill": {
     "duration": 0.09958,
     "end_time": "2025-01-02T20:53:30.977096",
     "exception": false,
     "start_time": "2025-01-02T20:53:30.877516",
     "status": "completed"
    },
    "tags": []
   },
   "outputs": [
    {
     "name": "stderr",
     "output_type": "stream",
     "text": [
      "<ipython-input-27-66fea8d60acb>:15: SettingWithCopyWarning: \n",
      "A value is trying to be set on a copy of a slice from a DataFrame.\n",
      "Try using .loc[row_indexer,col_indexer] = value instead\n",
      "\n",
      "See the caveats in the documentation: https://pandas.pydata.org/pandas-docs/stable/user_guide/indexing.html#returning-a-view-versus-a-copy\n",
      "  df_reviews_final.loc[:, 'cleaned_text'] = df_reviews_final['final_text'].apply(clean_text)\n"
     ]
    }
   ],
   "source": [
    "import re\n",
    "\n",
    "def clean_text(text):\n",
    "    # Remove URLs, HTML tags, and special characters\n",
    "    text = re.sub(r\"http\\S+|www\\S+|https\\S+\", '', text, flags=re.MULTILINE)\n",
    "    text = re.sub(r'<.*?>', '', text)\n",
    "    text = re.sub(r'[^a-zA-Z0-9\\s]', '', text)\n",
    "    \n",
    "    # Convert to lowercase\n",
    "    text = text.lower()\n",
    "    \n",
    "    return text.strip()\n",
    "\n",
    "    \n",
    "df_reviews_final.loc[:, 'cleaned_text'] = df_reviews_final['final_text'].apply(clean_text)\n",
    "\n"
   ]
  },
  {
   "cell_type": "code",
   "execution_count": 28,
   "id": "5e2d4466",
   "metadata": {
    "execution": {
     "iopub.execute_input": "2025-01-02T20:53:31.010684Z",
     "iopub.status.busy": "2025-01-02T20:53:31.010313Z",
     "iopub.status.idle": "2025-01-02T20:53:31.024427Z",
     "shell.execute_reply": "2025-01-02T20:53:31.023314Z"
    },
    "papermill": {
     "duration": 0.032406,
     "end_time": "2025-01-02T20:53:31.026037",
     "exception": false,
     "start_time": "2025-01-02T20:53:30.993631",
     "status": "completed"
    },
    "tags": []
   },
   "outputs": [
    {
     "data": {
      "text/html": [
       "<div>\n",
       "<style scoped>\n",
       "    .dataframe tbody tr th:only-of-type {\n",
       "        vertical-align: middle;\n",
       "    }\n",
       "\n",
       "    .dataframe tbody tr th {\n",
       "        vertical-align: top;\n",
       "    }\n",
       "\n",
       "    .dataframe thead th {\n",
       "        text-align: right;\n",
       "    }\n",
       "</style>\n",
       "<table border=\"1\" class=\"dataframe\">\n",
       "  <thead>\n",
       "    <tr style=\"text-align: right;\">\n",
       "      <th></th>\n",
       "      <th>grade</th>\n",
       "      <th>user_name</th>\n",
       "      <th>date</th>\n",
       "      <th>final_text</th>\n",
       "      <th>word_count</th>\n",
       "      <th>cleaned_text</th>\n",
       "    </tr>\n",
       "  </thead>\n",
       "  <tbody>\n",
       "    <tr>\n",
       "      <th>0</th>\n",
       "      <td>4</td>\n",
       "      <td>mds27272</td>\n",
       "      <td>2020-03-20</td>\n",
       "      <td>My gf started playing before me. No option to ...</td>\n",
       "      <td>70</td>\n",
       "      <td>my gf started playing before me no option to c...</td>\n",
       "    </tr>\n",
       "    <tr>\n",
       "      <th>1</th>\n",
       "      <td>5</td>\n",
       "      <td>lolo2178</td>\n",
       "      <td>2020-03-20</td>\n",
       "      <td>While the game itself is great, really relaxin...</td>\n",
       "      <td>167</td>\n",
       "      <td>while the game itself is great really relaxing...</td>\n",
       "    </tr>\n",
       "    <tr>\n",
       "      <th>2</th>\n",
       "      <td>0</td>\n",
       "      <td>Roachant</td>\n",
       "      <td>2020-03-20</td>\n",
       "      <td>My wife and I were looking forward to playing ...</td>\n",
       "      <td>185</td>\n",
       "      <td>my wife and i were looking forward to playing ...</td>\n",
       "    </tr>\n",
       "    <tr>\n",
       "      <th>3</th>\n",
       "      <td>0</td>\n",
       "      <td>Houndf</td>\n",
       "      <td>2020-03-20</td>\n",
       "      <td>We need equal values and opportunities for all...</td>\n",
       "      <td>56</td>\n",
       "      <td>we need equal values and opportunities for all...</td>\n",
       "    </tr>\n",
       "    <tr>\n",
       "      <th>4</th>\n",
       "      <td>0</td>\n",
       "      <td>ProfessorFox</td>\n",
       "      <td>2020-03-20</td>\n",
       "      <td>BEWARE!  If you have multiple people in your h...</td>\n",
       "      <td>183</td>\n",
       "      <td>beware  if you have multiple people in your ho...</td>\n",
       "    </tr>\n",
       "    <tr>\n",
       "      <th>...</th>\n",
       "      <td>...</td>\n",
       "      <td>...</td>\n",
       "      <td>...</td>\n",
       "      <td>...</td>\n",
       "      <td>...</td>\n",
       "      <td>...</td>\n",
       "    </tr>\n",
       "    <tr>\n",
       "      <th>2824</th>\n",
       "      <td>0</td>\n",
       "      <td>crazycasti</td>\n",
       "      <td>2020-05-03</td>\n",
       "      <td>For those who say I don't understand review bo...</td>\n",
       "      <td>18</td>\n",
       "      <td>for those who say i dont understand review bom...</td>\n",
       "    </tr>\n",
       "    <tr>\n",
       "      <th>2825</th>\n",
       "      <td>1</td>\n",
       "      <td>TakezoShinmen</td>\n",
       "      <td>2020-05-03</td>\n",
       "      <td>1 Island for console limitation.I cannot play ...</td>\n",
       "      <td>25</td>\n",
       "      <td>1 island for console limitationi cannot play t...</td>\n",
       "    </tr>\n",
       "    <tr>\n",
       "      <th>2826</th>\n",
       "      <td>0</td>\n",
       "      <td>Lemmeadem</td>\n",
       "      <td>2020-05-03</td>\n",
       "      <td>One island per console is a pathetic limitatio...</td>\n",
       "      <td>69</td>\n",
       "      <td>one island per console is a pathetic limitatio...</td>\n",
       "    </tr>\n",
       "    <tr>\n",
       "      <th>2827</th>\n",
       "      <td>2</td>\n",
       "      <td>TandemTester938</td>\n",
       "      <td>2020-05-03</td>\n",
       "      <td>Even though it seems like a great game with ma...</td>\n",
       "      <td>45</td>\n",
       "      <td>even though it seems like a great game with ma...</td>\n",
       "    </tr>\n",
       "    <tr>\n",
       "      <th>2828</th>\n",
       "      <td>4</td>\n",
       "      <td>DwerG</td>\n",
       "      <td>2020-05-03</td>\n",
       "      <td>Game is fantastic.Nintendo deciding that you c...</td>\n",
       "      <td>20</td>\n",
       "      <td>game is fantasticnintendo deciding that you ca...</td>\n",
       "    </tr>\n",
       "  </tbody>\n",
       "</table>\n",
       "<p>2829 rows × 6 columns</p>\n",
       "</div>"
      ],
      "text/plain": [
       "      grade        user_name       date  \\\n",
       "0         4         mds27272 2020-03-20   \n",
       "1         5         lolo2178 2020-03-20   \n",
       "2         0         Roachant 2020-03-20   \n",
       "3         0           Houndf 2020-03-20   \n",
       "4         0     ProfessorFox 2020-03-20   \n",
       "...     ...              ...        ...   \n",
       "2824      0       crazycasti 2020-05-03   \n",
       "2825      1    TakezoShinmen 2020-05-03   \n",
       "2826      0        Lemmeadem 2020-05-03   \n",
       "2827      2  TandemTester938 2020-05-03   \n",
       "2828      4            DwerG 2020-05-03   \n",
       "\n",
       "                                             final_text  word_count  \\\n",
       "0     My gf started playing before me. No option to ...          70   \n",
       "1     While the game itself is great, really relaxin...         167   \n",
       "2     My wife and I were looking forward to playing ...         185   \n",
       "3     We need equal values and opportunities for all...          56   \n",
       "4     BEWARE!  If you have multiple people in your h...         183   \n",
       "...                                                 ...         ...   \n",
       "2824  For those who say I don't understand review bo...          18   \n",
       "2825  1 Island for console limitation.I cannot play ...          25   \n",
       "2826  One island per console is a pathetic limitatio...          69   \n",
       "2827  Even though it seems like a great game with ma...          45   \n",
       "2828  Game is fantastic.Nintendo deciding that you c...          20   \n",
       "\n",
       "                                           cleaned_text  \n",
       "0     my gf started playing before me no option to c...  \n",
       "1     while the game itself is great really relaxing...  \n",
       "2     my wife and i were looking forward to playing ...  \n",
       "3     we need equal values and opportunities for all...  \n",
       "4     beware  if you have multiple people in your ho...  \n",
       "...                                                 ...  \n",
       "2824  for those who say i dont understand review bom...  \n",
       "2825  1 island for console limitationi cannot play t...  \n",
       "2826  one island per console is a pathetic limitatio...  \n",
       "2827  even though it seems like a great game with ma...  \n",
       "2828  game is fantasticnintendo deciding that you ca...  \n",
       "\n",
       "[2829 rows x 6 columns]"
      ]
     },
     "execution_count": 28,
     "metadata": {},
     "output_type": "execute_result"
    }
   ],
   "source": [
    "df_reviews_final"
   ]
  },
  {
   "cell_type": "markdown",
   "id": "6223e5b4",
   "metadata": {
    "papermill": {
     "duration": 0.015913,
     "end_time": "2025-01-02T20:53:31.058480",
     "exception": false,
     "start_time": "2025-01-02T20:53:31.042567",
     "status": "completed"
    },
    "tags": []
   },
   "source": [
    "## Tokenisation"
   ]
  },
  {
   "cell_type": "code",
   "execution_count": 29,
   "id": "beb7c43f",
   "metadata": {
    "execution": {
     "iopub.execute_input": "2025-01-02T20:53:31.092155Z",
     "iopub.status.busy": "2025-01-02T20:53:31.091798Z",
     "iopub.status.idle": "2025-01-02T20:53:34.676324Z",
     "shell.execute_reply": "2025-01-02T20:53:34.675133Z"
    },
    "papermill": {
     "duration": 3.604158,
     "end_time": "2025-01-02T20:53:34.678786",
     "exception": false,
     "start_time": "2025-01-02T20:53:31.074628",
     "status": "completed"
    },
    "tags": []
   },
   "outputs": [],
   "source": [
    "from nltk.tokenize import word_tokenize\n",
    "\n",
    "df_reviews_final['tokens'] = df_reviews_final['cleaned_text'].apply(word_tokenize)\n"
   ]
  },
  {
   "cell_type": "code",
   "execution_count": 30,
   "id": "4a2af0d9",
   "metadata": {
    "execution": {
     "iopub.execute_input": "2025-01-02T20:53:34.739059Z",
     "iopub.status.busy": "2025-01-02T20:53:34.738504Z",
     "iopub.status.idle": "2025-01-02T20:53:34.758780Z",
     "shell.execute_reply": "2025-01-02T20:53:34.757756Z"
    },
    "papermill": {
     "duration": 0.054961,
     "end_time": "2025-01-02T20:53:34.761203",
     "exception": false,
     "start_time": "2025-01-02T20:53:34.706242",
     "status": "completed"
    },
    "tags": []
   },
   "outputs": [
    {
     "data": {
      "text/html": [
       "<div>\n",
       "<style scoped>\n",
       "    .dataframe tbody tr th:only-of-type {\n",
       "        vertical-align: middle;\n",
       "    }\n",
       "\n",
       "    .dataframe tbody tr th {\n",
       "        vertical-align: top;\n",
       "    }\n",
       "\n",
       "    .dataframe thead th {\n",
       "        text-align: right;\n",
       "    }\n",
       "</style>\n",
       "<table border=\"1\" class=\"dataframe\">\n",
       "  <thead>\n",
       "    <tr style=\"text-align: right;\">\n",
       "      <th></th>\n",
       "      <th>grade</th>\n",
       "      <th>user_name</th>\n",
       "      <th>date</th>\n",
       "      <th>final_text</th>\n",
       "      <th>word_count</th>\n",
       "      <th>cleaned_text</th>\n",
       "      <th>tokens</th>\n",
       "    </tr>\n",
       "  </thead>\n",
       "  <tbody>\n",
       "    <tr>\n",
       "      <th>0</th>\n",
       "      <td>4</td>\n",
       "      <td>mds27272</td>\n",
       "      <td>2020-03-20</td>\n",
       "      <td>My gf started playing before me. No option to ...</td>\n",
       "      <td>70</td>\n",
       "      <td>my gf started playing before me no option to c...</td>\n",
       "      <td>[my, gf, started, playing, before, me, no, opt...</td>\n",
       "    </tr>\n",
       "    <tr>\n",
       "      <th>1</th>\n",
       "      <td>5</td>\n",
       "      <td>lolo2178</td>\n",
       "      <td>2020-03-20</td>\n",
       "      <td>While the game itself is great, really relaxin...</td>\n",
       "      <td>167</td>\n",
       "      <td>while the game itself is great really relaxing...</td>\n",
       "      <td>[while, the, game, itself, is, great, really, ...</td>\n",
       "    </tr>\n",
       "    <tr>\n",
       "      <th>2</th>\n",
       "      <td>0</td>\n",
       "      <td>Roachant</td>\n",
       "      <td>2020-03-20</td>\n",
       "      <td>My wife and I were looking forward to playing ...</td>\n",
       "      <td>185</td>\n",
       "      <td>my wife and i were looking forward to playing ...</td>\n",
       "      <td>[my, wife, and, i, were, looking, forward, to,...</td>\n",
       "    </tr>\n",
       "    <tr>\n",
       "      <th>3</th>\n",
       "      <td>0</td>\n",
       "      <td>Houndf</td>\n",
       "      <td>2020-03-20</td>\n",
       "      <td>We need equal values and opportunities for all...</td>\n",
       "      <td>56</td>\n",
       "      <td>we need equal values and opportunities for all...</td>\n",
       "      <td>[we, need, equal, values, and, opportunities, ...</td>\n",
       "    </tr>\n",
       "    <tr>\n",
       "      <th>4</th>\n",
       "      <td>0</td>\n",
       "      <td>ProfessorFox</td>\n",
       "      <td>2020-03-20</td>\n",
       "      <td>BEWARE!  If you have multiple people in your h...</td>\n",
       "      <td>183</td>\n",
       "      <td>beware  if you have multiple people in your ho...</td>\n",
       "      <td>[beware, if, you, have, multiple, people, in, ...</td>\n",
       "    </tr>\n",
       "    <tr>\n",
       "      <th>...</th>\n",
       "      <td>...</td>\n",
       "      <td>...</td>\n",
       "      <td>...</td>\n",
       "      <td>...</td>\n",
       "      <td>...</td>\n",
       "      <td>...</td>\n",
       "      <td>...</td>\n",
       "    </tr>\n",
       "    <tr>\n",
       "      <th>2824</th>\n",
       "      <td>0</td>\n",
       "      <td>crazycasti</td>\n",
       "      <td>2020-05-03</td>\n",
       "      <td>For those who say I don't understand review bo...</td>\n",
       "      <td>18</td>\n",
       "      <td>for those who say i dont understand review bom...</td>\n",
       "      <td>[for, those, who, say, i, dont, understand, re...</td>\n",
       "    </tr>\n",
       "    <tr>\n",
       "      <th>2825</th>\n",
       "      <td>1</td>\n",
       "      <td>TakezoShinmen</td>\n",
       "      <td>2020-05-03</td>\n",
       "      <td>1 Island for console limitation.I cannot play ...</td>\n",
       "      <td>25</td>\n",
       "      <td>1 island for console limitationi cannot play t...</td>\n",
       "      <td>[1, island, for, console, limitationi, can, no...</td>\n",
       "    </tr>\n",
       "    <tr>\n",
       "      <th>2826</th>\n",
       "      <td>0</td>\n",
       "      <td>Lemmeadem</td>\n",
       "      <td>2020-05-03</td>\n",
       "      <td>One island per console is a pathetic limitatio...</td>\n",
       "      <td>69</td>\n",
       "      <td>one island per console is a pathetic limitatio...</td>\n",
       "      <td>[one, island, per, console, is, a, pathetic, l...</td>\n",
       "    </tr>\n",
       "    <tr>\n",
       "      <th>2827</th>\n",
       "      <td>2</td>\n",
       "      <td>TandemTester938</td>\n",
       "      <td>2020-05-03</td>\n",
       "      <td>Even though it seems like a great game with ma...</td>\n",
       "      <td>45</td>\n",
       "      <td>even though it seems like a great game with ma...</td>\n",
       "      <td>[even, though, it, seems, like, a, great, game...</td>\n",
       "    </tr>\n",
       "    <tr>\n",
       "      <th>2828</th>\n",
       "      <td>4</td>\n",
       "      <td>DwerG</td>\n",
       "      <td>2020-05-03</td>\n",
       "      <td>Game is fantastic.Nintendo deciding that you c...</td>\n",
       "      <td>20</td>\n",
       "      <td>game is fantasticnintendo deciding that you ca...</td>\n",
       "      <td>[game, is, fantasticnintendo, deciding, that, ...</td>\n",
       "    </tr>\n",
       "  </tbody>\n",
       "</table>\n",
       "<p>2829 rows × 7 columns</p>\n",
       "</div>"
      ],
      "text/plain": [
       "      grade        user_name       date  \\\n",
       "0         4         mds27272 2020-03-20   \n",
       "1         5         lolo2178 2020-03-20   \n",
       "2         0         Roachant 2020-03-20   \n",
       "3         0           Houndf 2020-03-20   \n",
       "4         0     ProfessorFox 2020-03-20   \n",
       "...     ...              ...        ...   \n",
       "2824      0       crazycasti 2020-05-03   \n",
       "2825      1    TakezoShinmen 2020-05-03   \n",
       "2826      0        Lemmeadem 2020-05-03   \n",
       "2827      2  TandemTester938 2020-05-03   \n",
       "2828      4            DwerG 2020-05-03   \n",
       "\n",
       "                                             final_text  word_count  \\\n",
       "0     My gf started playing before me. No option to ...          70   \n",
       "1     While the game itself is great, really relaxin...         167   \n",
       "2     My wife and I were looking forward to playing ...         185   \n",
       "3     We need equal values and opportunities for all...          56   \n",
       "4     BEWARE!  If you have multiple people in your h...         183   \n",
       "...                                                 ...         ...   \n",
       "2824  For those who say I don't understand review bo...          18   \n",
       "2825  1 Island for console limitation.I cannot play ...          25   \n",
       "2826  One island per console is a pathetic limitatio...          69   \n",
       "2827  Even though it seems like a great game with ma...          45   \n",
       "2828  Game is fantastic.Nintendo deciding that you c...          20   \n",
       "\n",
       "                                           cleaned_text  \\\n",
       "0     my gf started playing before me no option to c...   \n",
       "1     while the game itself is great really relaxing...   \n",
       "2     my wife and i were looking forward to playing ...   \n",
       "3     we need equal values and opportunities for all...   \n",
       "4     beware  if you have multiple people in your ho...   \n",
       "...                                                 ...   \n",
       "2824  for those who say i dont understand review bom...   \n",
       "2825  1 island for console limitationi cannot play t...   \n",
       "2826  one island per console is a pathetic limitatio...   \n",
       "2827  even though it seems like a great game with ma...   \n",
       "2828  game is fantasticnintendo deciding that you ca...   \n",
       "\n",
       "                                                 tokens  \n",
       "0     [my, gf, started, playing, before, me, no, opt...  \n",
       "1     [while, the, game, itself, is, great, really, ...  \n",
       "2     [my, wife, and, i, were, looking, forward, to,...  \n",
       "3     [we, need, equal, values, and, opportunities, ...  \n",
       "4     [beware, if, you, have, multiple, people, in, ...  \n",
       "...                                                 ...  \n",
       "2824  [for, those, who, say, i, dont, understand, re...  \n",
       "2825  [1, island, for, console, limitationi, can, no...  \n",
       "2826  [one, island, per, console, is, a, pathetic, l...  \n",
       "2827  [even, though, it, seems, like, a, great, game...  \n",
       "2828  [game, is, fantasticnintendo, deciding, that, ...  \n",
       "\n",
       "[2829 rows x 7 columns]"
      ]
     },
     "execution_count": 30,
     "metadata": {},
     "output_type": "execute_result"
    }
   ],
   "source": [
    "df_reviews_final"
   ]
  },
  {
   "cell_type": "markdown",
   "id": "1db3b64a",
   "metadata": {
    "papermill": {
     "duration": 0.016327,
     "end_time": "2025-01-02T20:53:34.801933",
     "exception": false,
     "start_time": "2025-01-02T20:53:34.785606",
     "status": "completed"
    },
    "tags": []
   },
   "source": [
    "## Remove stop words"
   ]
  },
  {
   "cell_type": "code",
   "execution_count": 31,
   "id": "7aaed339",
   "metadata": {
    "execution": {
     "iopub.execute_input": "2025-01-02T20:53:34.836020Z",
     "iopub.status.busy": "2025-01-02T20:53:34.835647Z",
     "iopub.status.idle": "2025-01-02T20:53:34.967257Z",
     "shell.execute_reply": "2025-01-02T20:53:34.966096Z"
    },
    "papermill": {
     "duration": 0.150929,
     "end_time": "2025-01-02T20:53:34.969274",
     "exception": false,
     "start_time": "2025-01-02T20:53:34.818345",
     "status": "completed"
    },
    "tags": []
   },
   "outputs": [
    {
     "name": "stdout",
     "output_type": "stream",
     "text": [
      "[nltk_data] Downloading package stopwords to /usr/share/nltk_data...\n",
      "[nltk_data]   Package stopwords is already up-to-date!\n"
     ]
    }
   ],
   "source": [
    "from nltk.corpus import stopwords\n",
    "from nltk.tokenize import word_tokenize\n",
    "\n",
    "# Download stopwords\n",
    "import nltk\n",
    "nltk.download('stopwords')\n",
    "stop_words = set(stopwords.words('english'))\n",
    "\n",
    "# Remove stopwords from tokens\n",
    "def remove_stopwords(tokens):\n",
    "    return [word for word in tokens if word not in stop_words]\n",
    "\n",
    "# Apply to your tokenized column\n",
    "df_reviews_final['tokens'] = df_reviews_final['tokens'].apply(remove_stopwords)\n"
   ]
  },
  {
   "cell_type": "markdown",
   "id": "7bb958a3",
   "metadata": {
    "papermill": {
     "duration": 0.015967,
     "end_time": "2025-01-02T20:53:35.010471",
     "exception": false,
     "start_time": "2025-01-02T20:53:34.994504",
     "status": "completed"
    },
    "tags": []
   },
   "source": [
    "## Check word similarity"
   ]
  },
  {
   "cell_type": "markdown",
   "id": "7be61c59",
   "metadata": {
    "papermill": {
     "duration": 0.015944,
     "end_time": "2025-01-02T20:53:35.042788",
     "exception": false,
     "start_time": "2025-01-02T20:53:35.026844",
     "status": "completed"
    },
    "tags": []
   },
   "source": [
    "### Define model"
   ]
  },
  {
   "cell_type": "code",
   "execution_count": 32,
   "id": "26bf0d87",
   "metadata": {
    "execution": {
     "iopub.execute_input": "2025-01-02T20:53:35.077180Z",
     "iopub.status.busy": "2025-01-02T20:53:35.076802Z",
     "iopub.status.idle": "2025-01-02T20:53:47.301243Z",
     "shell.execute_reply": "2025-01-02T20:53:47.300205Z"
    },
    "papermill": {
     "duration": 12.244128,
     "end_time": "2025-01-02T20:53:47.303143",
     "exception": false,
     "start_time": "2025-01-02T20:53:35.059015",
     "status": "completed"
    },
    "tags": []
   },
   "outputs": [],
   "source": [
    "from gensim.models import Word2Vec\n",
    "\n",
    "model = Word2Vec(sentences=df_reviews_final['tokens'], vector_size=100, window=5, min_count=1)\n",
    "word_vectors = model.wv\n"
   ]
  },
  {
   "cell_type": "code",
   "execution_count": 33,
   "id": "337c28e4",
   "metadata": {
    "execution": {
     "iopub.execute_input": "2025-01-02T20:53:47.337518Z",
     "iopub.status.busy": "2025-01-02T20:53:47.336902Z",
     "iopub.status.idle": "2025-01-02T20:53:47.353063Z",
     "shell.execute_reply": "2025-01-02T20:53:47.351761Z"
    },
    "papermill": {
     "duration": 0.036861,
     "end_time": "2025-01-02T20:53:47.356744",
     "exception": false,
     "start_time": "2025-01-02T20:53:47.319883",
     "status": "completed"
    },
    "tags": []
   },
   "outputs": [
    {
     "name": "stdout",
     "output_type": "stream",
     "text": [
      "[('basic', 0.9981985092163086), ('complete', 0.9975488185882568), ('objectives', 0.997532069683075), ('villager', 0.9974581599235535), ('plot', 0.9974412322044373), ('around', 0.9974185228347778), ('homes', 0.9972619414329529), ('certain', 0.9972269535064697), ('watch', 0.9972006678581238), ('participate', 0.9971415996551514)]\n"
     ]
    }
   ],
   "source": [
    "# Check the most similar words for a given word\n",
    "similar_words = word_vectors.most_similar('improve', topn=10)\n",
    "print(similar_words)\n"
   ]
  },
  {
   "cell_type": "markdown",
   "id": "f5947e29",
   "metadata": {
    "papermill": {
     "duration": 0.048376,
     "end_time": "2025-01-02T20:53:47.454663",
     "exception": false,
     "start_time": "2025-01-02T20:53:47.406287",
     "status": "completed"
    },
    "tags": []
   },
   "source": [
    "##  visualize word embeddings"
   ]
  },
  {
   "cell_type": "code",
   "execution_count": 34,
   "id": "20012858",
   "metadata": {
    "execution": {
     "iopub.execute_input": "2025-01-02T20:53:47.498536Z",
     "iopub.status.busy": "2025-01-02T20:53:47.498177Z",
     "iopub.status.idle": "2025-01-02T20:53:49.377875Z",
     "shell.execute_reply": "2025-01-02T20:53:49.376688Z"
    },
    "papermill": {
     "duration": 1.899141,
     "end_time": "2025-01-02T20:53:49.379495",
     "exception": false,
     "start_time": "2025-01-02T20:53:47.480354",
     "status": "completed"
    },
    "tags": []
   },
   "outputs": [
    {
     "data": {
      "image/png": "[encoded data removed]",
      "text/plain": [
       "<Figure size 1000x1000 with 1 Axes>"
      ]
     },
     "metadata": {},
     "output_type": "display_data"
    }
   ],
   "source": [
    "from sklearn.manifold import TSNE\n",
    "import matplotlib.pyplot as plt\n",
    "\n",
    "# Get word vectors and their corresponding words\n",
    "words = list(model.wv.index_to_key)\n",
    "word_vectors = model.wv[words]\n",
    "\n",
    "# Use t-SNE to reduce dimensionality\n",
    "tsne = TSNE(n_components=2, random_state=42)\n",
    "reduced_vectors = tsne.fit_transform(word_vectors[:100])  # Use the first 100 words for visualization\n",
    "\n",
    "# Plot the embeddings\n",
    "plt.figure(figsize=(10, 10))\n",
    "for i, word in enumerate(words[:100]):\n",
    "    plt.scatter(reduced_vectors[i, 0], reduced_vectors[i, 1])\n",
    "    plt.text(reduced_vectors[i, 0], reduced_vectors[i, 1], word)\n",
    "plt.title(\"Word Embeddings Visualization\")\n",
    "plt.show()\n"
   ]
  },
  {
   "cell_type": "markdown",
   "id": "dcad0831",
   "metadata": {
    "papermill": {
     "duration": 0.01884,
     "end_time": "2025-01-02T20:53:49.417727",
     "exception": false,
     "start_time": "2025-01-02T20:53:49.398887",
     "status": "completed"
    },
    "tags": []
   },
   "source": [
    "\n",
    "* Clustering:\n",
    "    * Words that are semantically or contextually similar are placed closer together.\n",
    "        * For example:Words like animal, crossing, and game may cluster near each other if they frequently appear in similar contexts in the reviews.\n",
    "* Spread:\n",
    "    * Common words like the, is, and may be scattered because they don't carry much contextual meaning (stopwords).\n",
    "    * We might consider removing them for certain tasks.\n",
    "\n",
    "* Domain-Specific Relationships:\n",
    "    * Words like multiplayer, Nintendo, and games likely form a distinct cluster related to gaming concepts\n",
    "\n"
   ]
  },
  {
   "cell_type": "markdown",
   "id": "03233a65",
   "metadata": {
    "papermill": {
     "duration": 0.018971,
     "end_time": "2025-01-02T20:53:49.455859",
     "exception": false,
     "start_time": "2025-01-02T20:53:49.436888",
     "status": "completed"
    },
    "tags": []
   },
   "source": [
    "## Convert tokens to Vector"
   ]
  },
  {
   "cell_type": "code",
   "execution_count": 35,
   "id": "55d0cafd",
   "metadata": {
    "execution": {
     "iopub.execute_input": "2025-01-02T20:53:49.495392Z",
     "iopub.status.busy": "2025-01-02T20:53:49.494979Z",
     "iopub.status.idle": "2025-01-02T20:53:49.953958Z",
     "shell.execute_reply": "2025-01-02T20:53:49.952812Z"
    },
    "papermill": {
     "duration": 0.481162,
     "end_time": "2025-01-02T20:53:49.956044",
     "exception": false,
     "start_time": "2025-01-02T20:53:49.474882",
     "status": "completed"
    },
    "tags": []
   },
   "outputs": [],
   "source": [
    "import numpy as np\n",
    "\n",
    "def get_review_vector(review_tokens, model):\n",
    "    vectors = [model.wv[word] for word in review_tokens if word in model.wv]\n",
    "    if len(vectors) > 0:\n",
    "        return np.mean(vectors, axis=0)  # Average the vectors\n",
    "    else:\n",
    "        return np.zeros(model.vector_size)  # Return a zero vector if no words are in the model\n",
    "\n",
    "df_reviews_final['review_vector'] = df_reviews_final['tokens'].apply(lambda x: get_review_vector(x, model))\n"
   ]
  },
  {
   "cell_type": "code",
   "execution_count": 36,
   "id": "3f5fb6e7",
   "metadata": {
    "execution": {
     "iopub.execute_input": "2025-01-02T20:53:49.996003Z",
     "iopub.status.busy": "2025-01-02T20:53:49.995653Z",
     "iopub.status.idle": "2025-01-02T20:53:50.022951Z",
     "shell.execute_reply": "2025-01-02T20:53:50.021977Z"
    },
    "papermill": {
     "duration": 0.049232,
     "end_time": "2025-01-02T20:53:50.024684",
     "exception": false,
     "start_time": "2025-01-02T20:53:49.975452",
     "status": "completed"
    },
    "tags": []
   },
   "outputs": [
    {
     "data": {
      "text/html": [
       "<div>\n",
       "<style scoped>\n",
       "    .dataframe tbody tr th:only-of-type {\n",
       "        vertical-align: middle;\n",
       "    }\n",
       "\n",
       "    .dataframe tbody tr th {\n",
       "        vertical-align: top;\n",
       "    }\n",
       "\n",
       "    .dataframe thead th {\n",
       "        text-align: right;\n",
       "    }\n",
       "</style>\n",
       "<table border=\"1\" class=\"dataframe\">\n",
       "  <thead>\n",
       "    <tr style=\"text-align: right;\">\n",
       "      <th></th>\n",
       "      <th>grade</th>\n",
       "      <th>user_name</th>\n",
       "      <th>date</th>\n",
       "      <th>final_text</th>\n",
       "      <th>word_count</th>\n",
       "      <th>cleaned_text</th>\n",
       "      <th>tokens</th>\n",
       "      <th>review_vector</th>\n",
       "    </tr>\n",
       "  </thead>\n",
       "  <tbody>\n",
       "    <tr>\n",
       "      <th>0</th>\n",
       "      <td>4</td>\n",
       "      <td>mds27272</td>\n",
       "      <td>2020-03-20</td>\n",
       "      <td>My gf started playing before me. No option to ...</td>\n",
       "      <td>70</td>\n",
       "      <td>my gf started playing before me no option to c...</td>\n",
       "      <td>[gf, started, playing, option, create, island,...</td>\n",
       "      <td>[-0.19421259, 0.860286, 0.23960596, 0.228408, ...</td>\n",
       "    </tr>\n",
       "    <tr>\n",
       "      <th>1</th>\n",
       "      <td>5</td>\n",
       "      <td>lolo2178</td>\n",
       "      <td>2020-03-20</td>\n",
       "      <td>While the game itself is great, really relaxin...</td>\n",
       "      <td>167</td>\n",
       "      <td>while the game itself is great really relaxing...</td>\n",
       "      <td>[game, great, really, relaxing, gorgeous, cant...</td>\n",
       "      <td>[-0.18614417, 0.8581665, 0.22891173, 0.2367275...</td>\n",
       "    </tr>\n",
       "    <tr>\n",
       "      <th>2</th>\n",
       "      <td>0</td>\n",
       "      <td>Roachant</td>\n",
       "      <td>2020-03-20</td>\n",
       "      <td>My wife and I were looking forward to playing ...</td>\n",
       "      <td>185</td>\n",
       "      <td>my wife and i were looking forward to playing ...</td>\n",
       "      <td>[wife, looking, forward, playing, game, releas...</td>\n",
       "      <td>[-0.21803197, 0.87188035, 0.24274069, 0.174347...</td>\n",
       "    </tr>\n",
       "    <tr>\n",
       "      <th>3</th>\n",
       "      <td>0</td>\n",
       "      <td>Houndf</td>\n",
       "      <td>2020-03-20</td>\n",
       "      <td>We need equal values and opportunities for all...</td>\n",
       "      <td>56</td>\n",
       "      <td>we need equal values and opportunities for all...</td>\n",
       "      <td>[need, equal, values, opportunities, players, ...</td>\n",
       "      <td>[-0.13632287, 0.78523326, 0.20189515, 0.173158...</td>\n",
       "    </tr>\n",
       "    <tr>\n",
       "      <th>4</th>\n",
       "      <td>0</td>\n",
       "      <td>ProfessorFox</td>\n",
       "      <td>2020-03-20</td>\n",
       "      <td>BEWARE!  If you have multiple people in your h...</td>\n",
       "      <td>183</td>\n",
       "      <td>beware  if you have multiple people in your ho...</td>\n",
       "      <td>[beware, multiple, people, house, want, play, ...</td>\n",
       "      <td>[-0.2153666, 0.95088106, 0.24356441, 0.3275605...</td>\n",
       "    </tr>\n",
       "    <tr>\n",
       "      <th>...</th>\n",
       "      <td>...</td>\n",
       "      <td>...</td>\n",
       "      <td>...</td>\n",
       "      <td>...</td>\n",
       "      <td>...</td>\n",
       "      <td>...</td>\n",
       "      <td>...</td>\n",
       "      <td>...</td>\n",
       "    </tr>\n",
       "    <tr>\n",
       "      <th>2824</th>\n",
       "      <td>0</td>\n",
       "      <td>crazycasti</td>\n",
       "      <td>2020-05-03</td>\n",
       "      <td>For those who say I don't understand review bo...</td>\n",
       "      <td>18</td>\n",
       "      <td>for those who say i dont understand review bom...</td>\n",
       "      <td>[say, dont, understand, review, bombing, well,...</td>\n",
       "      <td>[-0.11041844, 0.7342689, 0.11153702, 0.0807973...</td>\n",
       "    </tr>\n",
       "    <tr>\n",
       "      <th>2825</th>\n",
       "      <td>1</td>\n",
       "      <td>TakezoShinmen</td>\n",
       "      <td>2020-05-03</td>\n",
       "      <td>1 Island for console limitation.I cannot play ...</td>\n",
       "      <td>25</td>\n",
       "      <td>1 island for console limitationi cannot play t...</td>\n",
       "      <td>[1, island, console, limitationi, play, game, ...</td>\n",
       "      <td>[-0.2757766, 0.8229759, 0.24452816, 0.10707664...</td>\n",
       "    </tr>\n",
       "    <tr>\n",
       "      <th>2826</th>\n",
       "      <td>0</td>\n",
       "      <td>Lemmeadem</td>\n",
       "      <td>2020-05-03</td>\n",
       "      <td>One island per console is a pathetic limitatio...</td>\n",
       "      <td>69</td>\n",
       "      <td>one island per console is a pathetic limitatio...</td>\n",
       "      <td>[one, island, per, console, pathetic, limitati...</td>\n",
       "      <td>[-0.14660455, 0.67964697, 0.18678223, 0.257133...</td>\n",
       "    </tr>\n",
       "    <tr>\n",
       "      <th>2827</th>\n",
       "      <td>2</td>\n",
       "      <td>TandemTester938</td>\n",
       "      <td>2020-05-03</td>\n",
       "      <td>Even though it seems like a great game with ma...</td>\n",
       "      <td>45</td>\n",
       "      <td>even though it seems like a great game with ma...</td>\n",
       "      <td>[even, though, seems, like, great, game, many,...</td>\n",
       "      <td>[-0.1411488, 0.80573756, 0.21100615, 0.1827630...</td>\n",
       "    </tr>\n",
       "    <tr>\n",
       "      <th>2828</th>\n",
       "      <td>4</td>\n",
       "      <td>DwerG</td>\n",
       "      <td>2020-05-03</td>\n",
       "      <td>Game is fantastic.Nintendo deciding that you c...</td>\n",
       "      <td>20</td>\n",
       "      <td>game is fantasticnintendo deciding that you ca...</td>\n",
       "      <td>[game, fantasticnintendo, deciding, make, one,...</td>\n",
       "      <td>[-0.2367059, 1.0124861, 0.29035762, 0.40594116...</td>\n",
       "    </tr>\n",
       "  </tbody>\n",
       "</table>\n",
       "<p>2829 rows × 8 columns</p>\n",
       "</div>"
      ],
      "text/plain": [
       "      grade        user_name       date  \\\n",
       "0         4         mds27272 2020-03-20   \n",
       "1         5         lolo2178 2020-03-20   \n",
       "2         0         Roachant 2020-03-20   \n",
       "3         0           Houndf 2020-03-20   \n",
       "4         0     ProfessorFox 2020-03-20   \n",
       "...     ...              ...        ...   \n",
       "2824      0       crazycasti 2020-05-03   \n",
       "2825      1    TakezoShinmen 2020-05-03   \n",
       "2826      0        Lemmeadem 2020-05-03   \n",
       "2827      2  TandemTester938 2020-05-03   \n",
       "2828      4            DwerG 2020-05-03   \n",
       "\n",
       "                                             final_text  word_count  \\\n",
       "0     My gf started playing before me. No option to ...          70   \n",
       "1     While the game itself is great, really relaxin...         167   \n",
       "2     My wife and I were looking forward to playing ...         185   \n",
       "3     We need equal values and opportunities for all...          56   \n",
       "4     BEWARE!  If you have multiple people in your h...         183   \n",
       "...                                                 ...         ...   \n",
       "2824  For those who say I don't understand review bo...          18   \n",
       "2825  1 Island for console limitation.I cannot play ...          25   \n",
       "2826  One island per console is a pathetic limitatio...          69   \n",
       "2827  Even though it seems like a great game with ma...          45   \n",
       "2828  Game is fantastic.Nintendo deciding that you c...          20   \n",
       "\n",
       "                                           cleaned_text  \\\n",
       "0     my gf started playing before me no option to c...   \n",
       "1     while the game itself is great really relaxing...   \n",
       "2     my wife and i were looking forward to playing ...   \n",
       "3     we need equal values and opportunities for all...   \n",
       "4     beware  if you have multiple people in your ho...   \n",
       "...                                                 ...   \n",
       "2824  for those who say i dont understand review bom...   \n",
       "2825  1 island for console limitationi cannot play t...   \n",
       "2826  one island per console is a pathetic limitatio...   \n",
       "2827  even though it seems like a great game with ma...   \n",
       "2828  game is fantasticnintendo deciding that you ca...   \n",
       "\n",
       "                                                 tokens  \\\n",
       "0     [gf, started, playing, option, create, island,...   \n",
       "1     [game, great, really, relaxing, gorgeous, cant...   \n",
       "2     [wife, looking, forward, playing, game, releas...   \n",
       "3     [need, equal, values, opportunities, players, ...   \n",
       "4     [beware, multiple, people, house, want, play, ...   \n",
       "...                                                 ...   \n",
       "2824  [say, dont, understand, review, bombing, well,...   \n",
       "2825  [1, island, console, limitationi, play, game, ...   \n",
       "2826  [one, island, per, console, pathetic, limitati...   \n",
       "2827  [even, though, seems, like, great, game, many,...   \n",
       "2828  [game, fantasticnintendo, deciding, make, one,...   \n",
       "\n",
       "                                          review_vector  \n",
       "0     [-0.19421259, 0.860286, 0.23960596, 0.228408, ...  \n",
       "1     [-0.18614417, 0.8581665, 0.22891173, 0.2367275...  \n",
       "2     [-0.21803197, 0.87188035, 0.24274069, 0.174347...  \n",
       "3     [-0.13632287, 0.78523326, 0.20189515, 0.173158...  \n",
       "4     [-0.2153666, 0.95088106, 0.24356441, 0.3275605...  \n",
       "...                                                 ...  \n",
       "2824  [-0.11041844, 0.7342689, 0.11153702, 0.0807973...  \n",
       "2825  [-0.2757766, 0.8229759, 0.24452816, 0.10707664...  \n",
       "2826  [-0.14660455, 0.67964697, 0.18678223, 0.257133...  \n",
       "2827  [-0.1411488, 0.80573756, 0.21100615, 0.1827630...  \n",
       "2828  [-0.2367059, 1.0124861, 0.29035762, 0.40594116...  \n",
       "\n",
       "[2829 rows x 8 columns]"
      ]
     },
     "execution_count": 36,
     "metadata": {},
     "output_type": "execute_result"
    }
   ],
   "source": [
    "df_reviews_final"
   ]
  },
  {
   "cell_type": "markdown",
   "id": "2d0745f5",
   "metadata": {
    "papermill": {
     "duration": 0.019121,
     "end_time": "2025-01-02T20:53:50.063343",
     "exception": false,
     "start_time": "2025-01-02T20:53:50.044222",
     "status": "completed"
    },
    "tags": []
   },
   "source": [
    "## Train Test Split"
   ]
  },
  {
   "cell_type": "code",
   "execution_count": 37,
   "id": "0ad3939a",
   "metadata": {
    "execution": {
     "iopub.execute_input": "2025-01-02T20:53:50.102846Z",
     "iopub.status.busy": "2025-01-02T20:53:50.102511Z",
     "iopub.status.idle": "2025-01-02T20:53:50.115913Z",
     "shell.execute_reply": "2025-01-02T20:53:50.115046Z"
    },
    "papermill": {
     "duration": 0.035232,
     "end_time": "2025-01-02T20:53:50.117660",
     "exception": false,
     "start_time": "2025-01-02T20:53:50.082428",
     "status": "completed"
    },
    "tags": []
   },
   "outputs": [],
   "source": [
    "from sklearn.model_selection import train_test_split\n",
    "\n",
    "\n",
    "# Create review-level vectors\n",
    "X = np.stack(df_reviews_final['review_vector'].values)\n",
    "y = df_reviews_final['grade'].apply(lambda g: 1 if g >= 6 else 0)  # Positive sentiment: grade >= 6\n",
    "\n",
    "# Train-test split\n",
    "X_train, X_test, y_train, y_test = train_test_split(X, y, test_size=0.2, random_state=42)"
   ]
  },
  {
   "cell_type": "markdown",
   "id": "d21bc29d",
   "metadata": {
    "papermill": {
     "duration": 0.019392,
     "end_time": "2025-01-02T20:53:50.156544",
     "exception": false,
     "start_time": "2025-01-02T20:53:50.137152",
     "status": "completed"
    },
    "tags": []
   },
   "source": [
    "# Step-3: Model training for sentiment analysis and word clustering"
   ]
  },
  {
   "cell_type": "markdown",
   "id": "d20a0234",
   "metadata": {
    "papermill": {
     "duration": 0.019161,
     "end_time": "2025-01-02T20:53:50.195443",
     "exception": false,
     "start_time": "2025-01-02T20:53:50.176282",
     "status": "completed"
    },
    "tags": []
   },
   "source": [
    "### Model defination"
   ]
  },
  {
   "cell_type": "code",
   "execution_count": 38,
   "id": "2cc04f6b",
   "metadata": {
    "execution": {
     "iopub.execute_input": "2025-01-02T20:53:50.235617Z",
     "iopub.status.busy": "2025-01-02T20:53:50.235257Z",
     "iopub.status.idle": "2025-01-02T20:53:50.315497Z",
     "shell.execute_reply": "2025-01-02T20:53:50.313555Z"
    },
    "papermill": {
     "duration": 0.10393,
     "end_time": "2025-01-02T20:53:50.318723",
     "exception": false,
     "start_time": "2025-01-02T20:53:50.214793",
     "status": "completed"
    },
    "tags": []
   },
   "outputs": [
    {
     "data": {
      "text/html": [
       "<style>#sk-container-id-1 {color: black;background-color: white;}#sk-container-id-1 pre{padding: 0;}#sk-container-id-1 div.sk-toggleable {background-color: white;}#sk-container-id-1 label.sk-toggleable__label {cursor: pointer;display: block;width: 100%;margin-bottom: 0;padding: 0.3em;box-sizing: border-box;text-align: center;}#sk-container-id-1 label.sk-toggleable__label-arrow:before {content: \"▸\";float: left;margin-right: 0.25em;color: #696969;}#sk-container-id-1 label.sk-toggleable__label-arrow:hover:before {color: black;}#sk-container-id-1 div.sk-estimator:hover label.sk-toggleable__label-arrow:before {color: black;}#sk-container-id-1 div.sk-toggleable__content {max-height: 0;max-width: 0;overflow: hidden;text-align: left;background-color: #f0f8ff;}#sk-container-id-1 div.sk-toggleable__content pre {margin: 0.2em;color: black;border-radius: 0.25em;background-color: #f0f8ff;}#sk-container-id-1 input.sk-toggleable__control:checked~div.sk-toggleable__content {max-height: 200px;max-width: 100%;overflow: auto;}#sk-container-id-1 input.sk-toggleable__control:checked~label.sk-toggleable__label-arrow:before {content: \"▾\";}#sk-container-id-1 div.sk-estimator input.sk-toggleable__control:checked~label.sk-toggleable__label {background-color: #d4ebff;}#sk-container-id-1 div.sk-label input.sk-toggleable__control:checked~label.sk-toggleable__label {background-color: #d4ebff;}#sk-container-id-1 input.sk-hidden--visually {border: 0;clip: rect(1px 1px 1px 1px);clip: rect(1px, 1px, 1px, 1px);height: 1px;margin: -1px;overflow: hidden;padding: 0;position: absolute;width: 1px;}#sk-container-id-1 div.sk-estimator {font-family: monospace;background-color: #f0f8ff;border: 1px dotted black;border-radius: 0.25em;box-sizing: border-box;margin-bottom: 0.5em;}#sk-container-id-1 div.sk-estimator:hover {background-color: #d4ebff;}#sk-container-id-1 div.sk-parallel-item::after {content: \"\";width: 100%;border-bottom: 1px solid gray;flex-grow: 1;}#sk-container-id-1 div.sk-label:hover label.sk-toggleable__label {background-color: #d4ebff;}#sk-container-id-1 div.sk-serial::before {content: \"\";position: absolute;border-left: 1px solid gray;box-sizing: border-box;top: 0;bottom: 0;left: 50%;z-index: 0;}#sk-container-id-1 div.sk-serial {display: flex;flex-direction: column;align-items: center;background-color: white;padding-right: 0.2em;padding-left: 0.2em;position: relative;}#sk-container-id-1 div.sk-item {position: relative;z-index: 1;}#sk-container-id-1 div.sk-parallel {display: flex;align-items: stretch;justify-content: center;background-color: white;position: relative;}#sk-container-id-1 div.sk-item::before, #sk-container-id-1 div.sk-parallel-item::before {content: \"\";position: absolute;border-left: 1px solid gray;box-sizing: border-box;top: 0;bottom: 0;left: 50%;z-index: -1;}#sk-container-id-1 div.sk-parallel-item {display: flex;flex-direction: column;z-index: 1;position: relative;background-color: white;}#sk-container-id-1 div.sk-parallel-item:first-child::after {align-self: flex-end;width: 50%;}#sk-container-id-1 div.sk-parallel-item:last-child::after {align-self: flex-start;width: 50%;}#sk-container-id-1 div.sk-parallel-item:only-child::after {width: 0;}#sk-container-id-1 div.sk-dashed-wrapped {border: 1px dashed gray;margin: 0 0.4em 0.5em 0.4em;box-sizing: border-box;padding-bottom: 0.4em;background-color: white;}#sk-container-id-1 div.sk-label label {font-family: monospace;font-weight: bold;display: inline-block;line-height: 1.2em;}#sk-container-id-1 div.sk-label-container {text-align: center;}#sk-container-id-1 div.sk-container {/* jupyter's `normalize.less` sets `[hidden] { display: none; }` but bootstrap.min.css set `[hidden] { display: none !important; }` so we also need the `!important` here to be able to override the default hidden behavior on the sphinx rendered scikit-learn.org. See: https://github.com/scikit-learn/scikit-learn/issues/21755 */display: inline-block !important;position: relative;}#sk-container-id-1 div.sk-text-repr-fallback {display: none;}</style><div id=\"sk-container-id-1\" class=\"sk-top-container\"><div class=\"sk-text-repr-fallback\"><pre>LogisticRegression()</pre><b>In a Jupyter environment, please rerun this cell to show the HTML representation or trust the notebook. <br />On GitHub, the HTML representation is unable to render, please try loading this page with nbviewer.org.</b></div><div class=\"sk-container\" hidden><div class=\"sk-item\"><div class=\"sk-estimator sk-toggleable\"><input class=\"sk-toggleable__control sk-hidden--visually\" id=\"sk-estimator-id-1\" type=\"checkbox\" checked><label for=\"sk-estimator-id-1\" class=\"sk-toggleable__label sk-toggleable__label-arrow\">LogisticRegression</label><div class=\"sk-toggleable__content\"><pre>LogisticRegression()</pre></div></div></div></div></div>"
      ],
      "text/plain": [
       "LogisticRegression()"
      ]
     },
     "execution_count": 38,
     "metadata": {},
     "output_type": "execute_result"
    }
   ],
   "source": [
    "from sklearn.linear_model import LogisticRegression\n",
    "\n",
    "# Train sentiment classifier\n",
    "model_logis = LogisticRegression()\n",
    "model_logis.fit(X_train, y_train)\n"
   ]
  },
  {
   "cell_type": "code",
   "execution_count": 39,
   "id": "55e177d2",
   "metadata": {
    "execution": {
     "iopub.execute_input": "2025-01-02T20:53:50.425283Z",
     "iopub.status.busy": "2025-01-02T20:53:50.424931Z",
     "iopub.status.idle": "2025-01-02T20:53:50.456151Z",
     "shell.execute_reply": "2025-01-02T20:53:50.452673Z"
    },
    "papermill": {
     "duration": 0.085325,
     "end_time": "2025-01-02T20:53:50.459338",
     "exception": false,
     "start_time": "2025-01-02T20:53:50.374013",
     "status": "completed"
    },
    "tags": []
   },
   "outputs": [
    {
     "name": "stdout",
     "output_type": "stream",
     "text": [
      "              precision    recall  f1-score   support\n",
      "\n",
      "           0       0.86      0.91      0.88       372\n",
      "           1       0.80      0.71      0.75       194\n",
      "\n",
      "    accuracy                           0.84       566\n",
      "   macro avg       0.83      0.81      0.82       566\n",
      "weighted avg       0.84      0.84      0.84       566\n",
      "\n",
      "accuracy score: 0.8392226148409894\n",
      "confusion matrix: \n",
      " [[338  34]\n",
      " [ 57 137]]\n"
     ]
    }
   ],
   "source": [
    "from sklearn.metrics import classification_report\n",
    "from sklearn.metrics import accuracy_score\n",
    "from sklearn.metrics import confusion_matrix\n",
    "\n",
    "# Evaluate model\n",
    "predictions = model_logis.predict(X_test)\n",
    "print(classification_report(y_test, predictions))\n",
    "print(f\"accuracy score: {accuracy_score(y_test, predictions)}\")\n",
    "print(f\"confusion matrix: \\n {confusion_matrix(y_test, predictions)}\")"
   ]
  },
  {
   "cell_type": "markdown",
   "id": "ae2095f9",
   "metadata": {
    "papermill": {
     "duration": 0.043083,
     "end_time": "2025-01-02T20:53:50.557910",
     "exception": false,
     "start_time": "2025-01-02T20:53:50.514827",
     "status": "completed"
    },
    "tags": []
   },
   "source": [
    "## Word clustring"
   ]
  },
  {
   "cell_type": "code",
   "execution_count": 40,
   "id": "c3d664e4",
   "metadata": {
    "execution": {
     "iopub.execute_input": "2025-01-02T20:53:50.598798Z",
     "iopub.status.busy": "2025-01-02T20:53:50.598443Z",
     "iopub.status.idle": "2025-01-02T20:53:50.920180Z",
     "shell.execute_reply": "2025-01-02T20:53:50.919390Z"
    },
    "papermill": {
     "duration": 0.346972,
     "end_time": "2025-01-02T20:53:50.924470",
     "exception": false,
     "start_time": "2025-01-02T20:53:50.577498",
     "status": "completed"
    },
    "tags": []
   },
   "outputs": [
    {
     "name": "stderr",
     "output_type": "stream",
     "text": [
      "/usr/local/lib/python3.10/dist-packages/sklearn/cluster/_kmeans.py:870: FutureWarning: The default value of `n_init` will change from 10 to 'auto' in 1.4. Set the value of `n_init` explicitly to suppress the warning\n",
      "  warnings.warn(\n"
     ]
    },
    {
     "name": "stdout",
     "output_type": "stream",
     "text": [
      "Cluster 0: ['game', 'nintendo', 'get', 'people', 'dont', 'really', 'would', 'even', 'playing', 'experience', 'want', 'im', 'multiplayer', 'could', 'way', 'also', 'enjoy', 'bought', 'made', 'thing', 'system', 'give', 'doesnt', 'single', 'thats', 'bad', 'youre', 'us', 'wife', 'start', 'money', 'go', 'let', 'actually', 'makes', 'absolutely']\n",
      "Cluster 3: ['island', 'one', 'switch', 'per', 'console', 'buy', '1', 'multiple', 'family', 'another', 'share', 'islands', 'fact', 'save']\n",
      "Cluster 2: ['play', 'player', 'first', 'cant', 'make', 'second', 'players', 'person', 'progress', 'able', 'everyone', '2', 'gets', 'full', 'two', 'account', 'anything']\n",
      "Cluster 4: ['new', 'crossing', 'animal', 'played', 'series', 'ive', 'since', 'best', 'horizons', 'ever']\n",
      "Cluster 1: ['like', 'expand', 'time', 'games', 'fun', 'great', 'much', 'things', 'review', 'every', 'good', 'love', 'lot', 'many', 'day', 'see', 'think', 'never', 'everything', 'amazing', 'well', 'something', 'feel']\n"
     ]
    }
   ],
   "source": [
    "from sklearn.cluster import KMeans\n",
    "\n",
    "# Apply KMeans clustering on word vectors\n",
    "num_clusters = 5\n",
    "kmeans = KMeans(n_clusters=num_clusters, random_state=42)\n",
    "kmeans.fit(word_vectors[:100])  # Use the first 100 words for simplicity\n",
    "\n",
    "# Get cluster labels for words\n",
    "clusters = kmeans.labels_\n",
    "\n",
    "# Print words grouped by cluster\n",
    "from collections import defaultdict\n",
    "cluster_map = defaultdict(list)\n",
    "for idx, label in enumerate(clusters):\n",
    "    cluster_map[label].append(words[idx])\n",
    "\n",
    "for cluster_id, word_list in cluster_map.items():\n",
    "    print(f\"Cluster {cluster_id}: {word_list}\")\n"
   ]
  },
  {
   "cell_type": "code",
   "execution_count": 41,
   "id": "918c188e",
   "metadata": {
    "execution": {
     "iopub.execute_input": "2025-01-02T20:53:51.010832Z",
     "iopub.status.busy": "2025-01-02T20:53:51.010004Z",
     "iopub.status.idle": "2025-01-02T20:53:51.220700Z",
     "shell.execute_reply": "2025-01-02T20:53:51.219808Z"
    },
    "papermill": {
     "duration": 0.241304,
     "end_time": "2025-01-02T20:53:51.222908",
     "exception": false,
     "start_time": "2025-01-02T20:53:50.981604",
     "status": "completed"
    },
    "tags": []
   },
   "outputs": [],
   "source": [
    "from imblearn.over_sampling import SMOTE\n",
    "\n",
    "smote = SMOTE(random_state=42)\n",
    "X_train_balanced, y_train_balanced = smote.fit_resample(X_train, y_train)\n"
   ]
  },
  {
   "cell_type": "code",
   "execution_count": 42,
   "id": "e4fa2a0c",
   "metadata": {
    "execution": {
     "iopub.execute_input": "2025-01-02T20:53:51.267419Z",
     "iopub.status.busy": "2025-01-02T20:53:51.266783Z",
     "iopub.status.idle": "2025-01-02T20:53:51.355204Z",
     "shell.execute_reply": "2025-01-02T20:53:51.353863Z"
    },
    "papermill": {
     "duration": 0.113717,
     "end_time": "2025-01-02T20:53:51.359318",
     "exception": false,
     "start_time": "2025-01-02T20:53:51.245601",
     "status": "completed"
    },
    "tags": []
   },
   "outputs": [
    {
     "data": {
      "text/html": [
       "<style>#sk-container-id-2 {color: black;background-color: white;}#sk-container-id-2 pre{padding: 0;}#sk-container-id-2 div.sk-toggleable {background-color: white;}#sk-container-id-2 label.sk-toggleable__label {cursor: pointer;display: block;width: 100%;margin-bottom: 0;padding: 0.3em;box-sizing: border-box;text-align: center;}#sk-container-id-2 label.sk-toggleable__label-arrow:before {content: \"▸\";float: left;margin-right: 0.25em;color: #696969;}#sk-container-id-2 label.sk-toggleable__label-arrow:hover:before {color: black;}#sk-container-id-2 div.sk-estimator:hover label.sk-toggleable__label-arrow:before {color: black;}#sk-container-id-2 div.sk-toggleable__content {max-height: 0;max-width: 0;overflow: hidden;text-align: left;background-color: #f0f8ff;}#sk-container-id-2 div.sk-toggleable__content pre {margin: 0.2em;color: black;border-radius: 0.25em;background-color: #f0f8ff;}#sk-container-id-2 input.sk-toggleable__control:checked~div.sk-toggleable__content {max-height: 200px;max-width: 100%;overflow: auto;}#sk-container-id-2 input.sk-toggleable__control:checked~label.sk-toggleable__label-arrow:before {content: \"▾\";}#sk-container-id-2 div.sk-estimator input.sk-toggleable__control:checked~label.sk-toggleable__label {background-color: #d4ebff;}#sk-container-id-2 div.sk-label input.sk-toggleable__control:checked~label.sk-toggleable__label {background-color: #d4ebff;}#sk-container-id-2 input.sk-hidden--visually {border: 0;clip: rect(1px 1px 1px 1px);clip: rect(1px, 1px, 1px, 1px);height: 1px;margin: -1px;overflow: hidden;padding: 0;position: absolute;width: 1px;}#sk-container-id-2 div.sk-estimator {font-family: monospace;background-color: #f0f8ff;border: 1px dotted black;border-radius: 0.25em;box-sizing: border-box;margin-bottom: 0.5em;}#sk-container-id-2 div.sk-estimator:hover {background-color: #d4ebff;}#sk-container-id-2 div.sk-parallel-item::after {content: \"\";width: 100%;border-bottom: 1px solid gray;flex-grow: 1;}#sk-container-id-2 div.sk-label:hover label.sk-toggleable__label {background-color: #d4ebff;}#sk-container-id-2 div.sk-serial::before {content: \"\";position: absolute;border-left: 1px solid gray;box-sizing: border-box;top: 0;bottom: 0;left: 50%;z-index: 0;}#sk-container-id-2 div.sk-serial {display: flex;flex-direction: column;align-items: center;background-color: white;padding-right: 0.2em;padding-left: 0.2em;position: relative;}#sk-container-id-2 div.sk-item {position: relative;z-index: 1;}#sk-container-id-2 div.sk-parallel {display: flex;align-items: stretch;justify-content: center;background-color: white;position: relative;}#sk-container-id-2 div.sk-item::before, #sk-container-id-2 div.sk-parallel-item::before {content: \"\";position: absolute;border-left: 1px solid gray;box-sizing: border-box;top: 0;bottom: 0;left: 50%;z-index: -1;}#sk-container-id-2 div.sk-parallel-item {display: flex;flex-direction: column;z-index: 1;position: relative;background-color: white;}#sk-container-id-2 div.sk-parallel-item:first-child::after {align-self: flex-end;width: 50%;}#sk-container-id-2 div.sk-parallel-item:last-child::after {align-self: flex-start;width: 50%;}#sk-container-id-2 div.sk-parallel-item:only-child::after {width: 0;}#sk-container-id-2 div.sk-dashed-wrapped {border: 1px dashed gray;margin: 0 0.4em 0.5em 0.4em;box-sizing: border-box;padding-bottom: 0.4em;background-color: white;}#sk-container-id-2 div.sk-label label {font-family: monospace;font-weight: bold;display: inline-block;line-height: 1.2em;}#sk-container-id-2 div.sk-label-container {text-align: center;}#sk-container-id-2 div.sk-container {/* jupyter's `normalize.less` sets `[hidden] { display: none; }` but bootstrap.min.css set `[hidden] { display: none !important; }` so we also need the `!important` here to be able to override the default hidden behavior on the sphinx rendered scikit-learn.org. See: https://github.com/scikit-learn/scikit-learn/issues/21755 */display: inline-block !important;position: relative;}#sk-container-id-2 div.sk-text-repr-fallback {display: none;}</style><div id=\"sk-container-id-2\" class=\"sk-top-container\"><div class=\"sk-text-repr-fallback\"><pre>LogisticRegression(random_state=42)</pre><b>In a Jupyter environment, please rerun this cell to show the HTML representation or trust the notebook. <br />On GitHub, the HTML representation is unable to render, please try loading this page with nbviewer.org.</b></div><div class=\"sk-container\" hidden><div class=\"sk-item\"><div class=\"sk-estimator sk-toggleable\"><input class=\"sk-toggleable__control sk-hidden--visually\" id=\"sk-estimator-id-2\" type=\"checkbox\" checked><label for=\"sk-estimator-id-2\" class=\"sk-toggleable__label sk-toggleable__label-arrow\">LogisticRegression</label><div class=\"sk-toggleable__content\"><pre>LogisticRegression(random_state=42)</pre></div></div></div></div></div>"
      ],
      "text/plain": [
       "LogisticRegression(random_state=42)"
      ]
     },
     "execution_count": 42,
     "metadata": {},
     "output_type": "execute_result"
    }
   ],
   "source": [
    "from sklearn.linear_model import LogisticRegression\n",
    "\n",
    "# Train logistic regression on the balanced dataset\n",
    "model_balanced = LogisticRegression(random_state=42)\n",
    "model_balanced.fit(X_train_balanced, y_train_balanced)\n"
   ]
  },
  {
   "cell_type": "code",
   "execution_count": 43,
   "id": "f7566435",
   "metadata": {
    "execution": {
     "iopub.execute_input": "2025-01-02T20:53:51.470438Z",
     "iopub.status.busy": "2025-01-02T20:53:51.470066Z",
     "iopub.status.idle": "2025-01-02T20:53:51.485737Z",
     "shell.execute_reply": "2025-01-02T20:53:51.484056Z"
    },
    "papermill": {
     "duration": 0.073492,
     "end_time": "2025-01-02T20:53:51.488457",
     "exception": false,
     "start_time": "2025-01-02T20:53:51.414965",
     "status": "completed"
    },
    "tags": []
   },
   "outputs": [
    {
     "name": "stdout",
     "output_type": "stream",
     "text": [
      "Accuracy: 0.8445229681978799\n",
      "Classification Report:\n",
      "              precision    recall  f1-score   support\n",
      "\n",
      "           0       0.89      0.87      0.88       372\n",
      "           1       0.76      0.79      0.78       194\n",
      "\n",
      "    accuracy                           0.84       566\n",
      "   macro avg       0.83      0.83      0.83       566\n",
      "weighted avg       0.85      0.84      0.85       566\n",
      "\n"
     ]
    }
   ],
   "source": [
    "from sklearn.metrics import classification_report, accuracy_score\n",
    "\n",
    "# Make predictions on the test set\n",
    "y_pred = model_balanced.predict(X_test)\n",
    "\n",
    "# Evaluate performance\n",
    "print(\"Accuracy:\", accuracy_score(y_test, y_pred))\n",
    "print(\"Classification Report:\")\n",
    "print(classification_report(y_test, y_pred))\n"
   ]
  },
  {
   "cell_type": "code",
   "execution_count": 44,
   "id": "c383fca2",
   "metadata": {
    "execution": {
     "iopub.execute_input": "2025-01-02T20:53:51.599014Z",
     "iopub.status.busy": "2025-01-02T20:53:51.598283Z",
     "iopub.status.idle": "2025-01-02T20:53:51.604859Z",
     "shell.execute_reply": "2025-01-02T20:53:51.603499Z"
    },
    "papermill": {
     "duration": 0.06243,
     "end_time": "2025-01-02T20:53:51.607006",
     "exception": false,
     "start_time": "2025-01-02T20:53:51.544576",
     "status": "completed"
    },
    "tags": []
   },
   "outputs": [],
   "source": [
    "y_probs = model_balanced.predict_proba(X_test)[:, 1]\n",
    "optimal_threshold = 0.4  # Example threshold\n",
    "y_pred_adjusted = (y_probs >= optimal_threshold).astype(int)\n"
   ]
  },
  {
   "cell_type": "code",
   "execution_count": 45,
   "id": "b93c8b8d",
   "metadata": {
    "execution": {
     "iopub.execute_input": "2025-01-02T20:53:51.724568Z",
     "iopub.status.busy": "2025-01-02T20:53:51.723996Z",
     "iopub.status.idle": "2025-01-02T20:53:54.462303Z",
     "shell.execute_reply": "2025-01-02T20:53:54.461231Z"
    },
    "papermill": {
     "duration": 2.801653,
     "end_time": "2025-01-02T20:53:54.464063",
     "exception": false,
     "start_time": "2025-01-02T20:53:51.662410",
     "status": "completed"
    },
    "tags": []
   },
   "outputs": [
    {
     "data": {
      "text/plain": [
       "{'C': 10, 'solver': 'liblinear'}"
      ]
     },
     "execution_count": 45,
     "metadata": {},
     "output_type": "execute_result"
    }
   ],
   "source": [
    "from sklearn.model_selection import GridSearchCV\n",
    "\n",
    "param_grid = {'C': [0.01, 0.1, 1, 10], 'solver': ['lbfgs', 'liblinear']}\n",
    "grid = GridSearchCV(LogisticRegression(max_iter=4000), param_grid, cv=5)\n",
    "grid.fit(X_train_balanced, y_train_balanced)\n",
    "grid.best_params_\n"
   ]
  },
  {
   "cell_type": "code",
   "execution_count": 46,
   "id": "127e3fce",
   "metadata": {
    "execution": {
     "iopub.execute_input": "2025-01-02T20:53:54.505570Z",
     "iopub.status.busy": "2025-01-02T20:53:54.505131Z",
     "iopub.status.idle": "2025-01-02T20:53:54.510548Z",
     "shell.execute_reply": "2025-01-02T20:53:54.509486Z"
    },
    "papermill": {
     "duration": 0.027638,
     "end_time": "2025-01-02T20:53:54.512025",
     "exception": false,
     "start_time": "2025-01-02T20:53:54.484387",
     "status": "completed"
    },
    "tags": []
   },
   "outputs": [
    {
     "name": "stdout",
     "output_type": "stream",
     "text": [
      "Best Parameters: {'C': 10, 'solver': 'liblinear'}\n"
     ]
    }
   ],
   "source": [
    "# Get the best parameters\n",
    "best_params = grid.best_params_\n",
    "print(\"Best Parameters:\", best_params)"
   ]
  },
  {
   "cell_type": "code",
   "execution_count": 47,
   "id": "2ed0143b",
   "metadata": {
    "execution": {
     "iopub.execute_input": "2025-01-02T20:53:54.553161Z",
     "iopub.status.busy": "2025-01-02T20:53:54.552797Z",
     "iopub.status.idle": "2025-01-02T20:53:54.558498Z",
     "shell.execute_reply": "2025-01-02T20:53:54.557476Z"
    },
    "papermill": {
     "duration": 0.027837,
     "end_time": "2025-01-02T20:53:54.559940",
     "exception": false,
     "start_time": "2025-01-02T20:53:54.532103",
     "status": "completed"
    },
    "tags": []
   },
   "outputs": [
    {
     "name": "stdout",
     "output_type": "stream",
     "text": [
      "Best Model: LogisticRegression(C=10, max_iter=4000, solver='liblinear')\n"
     ]
    }
   ],
   "source": [
    "# Get the best estimator (model)\n",
    "best_model = grid.best_estimator_\n",
    "print(\"Best Model:\", best_model)\n"
   ]
  },
  {
   "cell_type": "code",
   "execution_count": 48,
   "id": "43b12fbf",
   "metadata": {
    "execution": {
     "iopub.execute_input": "2025-01-02T20:53:54.601715Z",
     "iopub.status.busy": "2025-01-02T20:53:54.601344Z",
     "iopub.status.idle": "2025-01-02T20:53:54.620028Z",
     "shell.execute_reply": "2025-01-02T20:53:54.616797Z"
    },
    "papermill": {
     "duration": 0.043139,
     "end_time": "2025-01-02T20:53:54.623278",
     "exception": false,
     "start_time": "2025-01-02T20:53:54.580139",
     "status": "completed"
    },
    "tags": []
   },
   "outputs": [
    {
     "name": "stdout",
     "output_type": "stream",
     "text": [
      "Test Set Accuracy: 0.8692579505300353\n",
      "Classification Report:\n",
      "              precision    recall  f1-score   support\n",
      "\n",
      "           0       0.91      0.89      0.90       372\n",
      "           1       0.80      0.82      0.81       194\n",
      "\n",
      "    accuracy                           0.87       566\n",
      "   macro avg       0.85      0.86      0.86       566\n",
      "weighted avg       0.87      0.87      0.87       566\n",
      "\n"
     ]
    }
   ],
   "source": [
    "# Predict using the best model\n",
    "y_pred = best_model.predict(X_test)\n",
    "\n",
    "# Evaluate performance\n",
    "from sklearn.metrics import classification_report, accuracy_score\n",
    "\n",
    "print(\"Test Set Accuracy:\", accuracy_score(y_test, y_pred))\n",
    "print(\"Classification Report:\")\n",
    "print(classification_report(y_test, y_pred))\n"
   ]
  },
  {
   "cell_type": "code",
   "execution_count": 49,
   "id": "485ba0c1",
   "metadata": {
    "execution": {
     "iopub.execute_input": "2025-01-02T20:53:54.733542Z",
     "iopub.status.busy": "2025-01-02T20:53:54.733099Z",
     "iopub.status.idle": "2025-01-02T20:53:54.742315Z",
     "shell.execute_reply": "2025-01-02T20:53:54.740816Z"
    },
    "papermill": {
     "duration": 0.06531,
     "end_time": "2025-01-02T20:53:54.744729",
     "exception": false,
     "start_time": "2025-01-02T20:53:54.679419",
     "status": "completed"
    },
    "tags": []
   },
   "outputs": [],
   "source": [
    "from sklearn.metrics import precision_recall_curve\n",
    "\n",
    "y_probs = best_model.predict_proba(X_test)[:, 1]\n",
    "precision, recall, thresholds = precision_recall_curve(y_test, y_probs)\n",
    "\n",
    "# Set a custom threshold (e.g., 0.4 instead of 0.5)\n",
    "optimal_threshold = 0.4\n",
    "y_pred_adjusted = (y_probs >= optimal_threshold).astype(int)\n"
   ]
  },
  {
   "cell_type": "code",
   "execution_count": 50,
   "id": "09a4597d",
   "metadata": {
    "execution": {
     "iopub.execute_input": "2025-01-02T20:53:54.860471Z",
     "iopub.status.busy": "2025-01-02T20:53:54.860092Z",
     "iopub.status.idle": "2025-01-02T20:53:54.874595Z",
     "shell.execute_reply": "2025-01-02T20:53:54.873460Z"
    },
    "papermill": {
     "duration": 0.072921,
     "end_time": "2025-01-02T20:53:54.876299",
     "exception": false,
     "start_time": "2025-01-02T20:53:54.803378",
     "status": "completed"
    },
    "tags": []
   },
   "outputs": [
    {
     "name": "stdout",
     "output_type": "stream",
     "text": [
      "Adjusted Threshold (0.4) - Classification Report:\n",
      "              precision    recall  f1-score   support\n",
      "\n",
      "           0       0.93      0.85      0.89       372\n",
      "           1       0.76      0.87      0.81       194\n",
      "\n",
      "    accuracy                           0.86       566\n",
      "   macro avg       0.84      0.86      0.85       566\n",
      "weighted avg       0.87      0.86      0.86       566\n",
      "\n",
      "Adjusted Threshold (0.4) - Accuracy: 0.8604240282685512\n"
     ]
    }
   ],
   "source": [
    "from sklearn.metrics import classification_report, accuracy_score\n",
    "\n",
    "# Evaluate the new predictions\n",
    "print(\"Adjusted Threshold (0.4) - Classification Report:\")\n",
    "print(classification_report(y_test, y_pred_adjusted))\n",
    "\n",
    "# Calculate accuracy\n",
    "accuracy_adjusted = accuracy_score(y_test, y_pred_adjusted)\n",
    "print(\"Adjusted Threshold (0.4) - Accuracy:\", accuracy_adjusted)\n"
   ]
  },
  {
   "cell_type": "code",
   "execution_count": null,
   "id": "b7f0f107",
   "metadata": {
    "papermill": {
     "duration": 0.020284,
     "end_time": "2025-01-02T20:53:54.917337",
     "exception": false,
     "start_time": "2025-01-02T20:53:54.897053",
     "status": "completed"
    },
    "tags": []
   },
   "outputs": [],
   "source": []
  }
 ],
 "metadata": {
  "kaggle": {
   "accelerator": "none",
   "dataSources": [
    {
     "datasetId": 635455,
     "sourceId": 1129553,
     "sourceType": "datasetVersion"
    }
   ],
   "dockerImageVersionId": 30822,
   "isGpuEnabled": false,
   "isInternetEnabled": true,
   "language": "python",
   "sourceType": "notebook"
  },
  "kernelspec": {
   "display_name": "Python 3",
   "language": "python",
   "name": "python3"
  },
  "language_info": {
   "codemirror_mode": {
    "name": "ipython",
    "version": 3
   },
   "file_extension": ".py",
   "mimetype": "text/x-python",
   "name": "python",
   "nbconvert_exporter": "python",
   "pygments_lexer": "ipython3",
   "version": "3.10.12"
  },
  "papermill": {
   "default_parameters": {},
   "duration": 91.542647,
   "end_time": "2025-01-02T20:53:56.663050",
   "environment_variables": {},
   "exception": null,
   "input_path": "__notebook__.ipynb",
   "output_path": "__notebook__.ipynb",
   "parameters": {},
   "start_time": "2025-01-02T20:52:25.120403",
   "version": "2.6.0"
  }
 },
 "nbformat": 4,
 "nbformat_minor": 5
}
