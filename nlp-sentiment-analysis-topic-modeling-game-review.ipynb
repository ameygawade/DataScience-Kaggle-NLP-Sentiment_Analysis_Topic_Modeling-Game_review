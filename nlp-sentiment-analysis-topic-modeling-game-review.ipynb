{
 "cells": [
  {
   "cell_type": "code",
   "execution_count": 1,
   "id": "637b5e60",
   "metadata": {
    "_cell_guid": "b1076dfc-b9ad-4769-8c92-a6c4dae69d19",
    "_uuid": "8f2839f25d086af736a60e9eeb907d3b93b6e0e5",
    "execution": {
     "iopub.execute_input": "2025-01-01T19:23:28.587555Z",
     "iopub.status.busy": "2025-01-01T19:23:28.587187Z",
     "iopub.status.idle": "2025-01-01T19:23:29.604966Z",
     "shell.execute_reply": "2025-01-01T19:23:29.603754Z"
    },
    "papermill": {
     "duration": 1.030965,
     "end_time": "2025-01-01T19:23:29.606762",
     "exception": false,
     "start_time": "2025-01-01T19:23:28.575797",
     "status": "completed"
    },
    "tags": []
   },
   "outputs": [
    {
     "name": "stdout",
     "output_type": "stream",
     "text": [
      "/kaggle/input/animal-crossing/items.csv\n",
      "/kaggle/input/animal-crossing/villagers.csv\n",
      "/kaggle/input/animal-crossing/user_reviews.csv\n",
      "/kaggle/input/animal-crossing/critic.csv\n"
     ]
    }
   ],
   "source": [
    "# This Python 3 environment comes with many helpful analytics libraries installed\n",
    "# It is defined by the kaggle/python Docker image: https://github.com/kaggle/docker-python\n",
    "# For example, here's several helpful packages to load\n",
    "\n",
    "import numpy as np # linear algebra\n",
    "import pandas as pd # data processing, CSV file I/O (e.g. pd.read_csv)\n",
    "\n",
    "# Input data files are available in the read-only \"../input/\" directory\n",
    "# For example, running this (by clicking run or pressing Shift+Enter) will list all files under the input directory\n",
    "\n",
    "import os\n",
    "for dirname, _, filenames in os.walk('/kaggle/input'):\n",
    "    for filename in filenames:\n",
    "        print(os.path.join(dirname, filename))\n",
    "\n",
    "# You can write up to 20GB to the current directory (/kaggle/working/) that gets preserved as output when you create a version using \"Save & Run All\" \n",
    "# You can also write temporary files to /kaggle/temp/, but they won't be saved outside of the current session"
   ]
  },
  {
   "cell_type": "markdown",
   "id": "ab101584",
   "metadata": {
    "papermill": {
     "duration": 0.009289,
     "end_time": "2025-01-01T19:23:29.626426",
     "exception": false,
     "start_time": "2025-01-01T19:23:29.617137",
     "status": "completed"
    },
    "tags": []
   },
   "source": [
    "# Understanding User Sentiments and Future Desires in Animal Crossing Reviews"
   ]
  },
  {
   "cell_type": "markdown",
   "id": "4c8a5b70",
   "metadata": {
    "papermill": {
     "duration": 0.009287,
     "end_time": "2025-01-01T19:23:29.645365",
     "exception": false,
     "start_time": "2025-01-01T19:23:29.636078",
     "status": "completed"
    },
    "tags": []
   },
   "source": [
    "# Step-1: Data Loading and Cleaning"
   ]
  },
  {
   "cell_type": "code",
   "execution_count": 2,
   "id": "b1f3430a",
   "metadata": {
    "execution": {
     "iopub.execute_input": "2025-01-01T19:23:29.666278Z",
     "iopub.status.busy": "2025-01-01T19:23:29.665770Z",
     "iopub.status.idle": "2025-01-01T19:23:29.749707Z",
     "shell.execute_reply": "2025-01-01T19:23:29.748484Z"
    },
    "papermill": {
     "duration": 0.096506,
     "end_time": "2025-01-01T19:23:29.751725",
     "exception": false,
     "start_time": "2025-01-01T19:23:29.655219",
     "status": "completed"
    },
    "tags": []
   },
   "outputs": [],
   "source": [
    "df_reviews = pd.read_csv('/kaggle/input/animal-crossing/user_reviews.csv')"
   ]
  },
  {
   "cell_type": "code",
   "execution_count": 3,
   "id": "0d57f553",
   "metadata": {
    "execution": {
     "iopub.execute_input": "2025-01-01T19:23:29.772761Z",
     "iopub.status.busy": "2025-01-01T19:23:29.772401Z",
     "iopub.status.idle": "2025-01-01T19:23:29.795826Z",
     "shell.execute_reply": "2025-01-01T19:23:29.794771Z"
    },
    "papermill": {
     "duration": 0.035658,
     "end_time": "2025-01-01T19:23:29.797537",
     "exception": false,
     "start_time": "2025-01-01T19:23:29.761879",
     "status": "completed"
    },
    "tags": []
   },
   "outputs": [
    {
     "data": {
      "text/html": [
       "<div>\n",
       "<style scoped>\n",
       "    .dataframe tbody tr th:only-of-type {\n",
       "        vertical-align: middle;\n",
       "    }\n",
       "\n",
       "    .dataframe tbody tr th {\n",
       "        vertical-align: top;\n",
       "    }\n",
       "\n",
       "    .dataframe thead th {\n",
       "        text-align: right;\n",
       "    }\n",
       "</style>\n",
       "<table border=\"1\" class=\"dataframe\">\n",
       "  <thead>\n",
       "    <tr style=\"text-align: right;\">\n",
       "      <th></th>\n",
       "      <th>grade</th>\n",
       "      <th>user_name</th>\n",
       "      <th>text</th>\n",
       "      <th>date</th>\n",
       "    </tr>\n",
       "  </thead>\n",
       "  <tbody>\n",
       "    <tr>\n",
       "      <th>0</th>\n",
       "      <td>4</td>\n",
       "      <td>mds27272</td>\n",
       "      <td>My gf started playing before me. No option to ...</td>\n",
       "      <td>2020-03-20</td>\n",
       "    </tr>\n",
       "    <tr>\n",
       "      <th>1</th>\n",
       "      <td>5</td>\n",
       "      <td>lolo2178</td>\n",
       "      <td>While the game itself is great, really relaxin...</td>\n",
       "      <td>2020-03-20</td>\n",
       "    </tr>\n",
       "    <tr>\n",
       "      <th>2</th>\n",
       "      <td>0</td>\n",
       "      <td>Roachant</td>\n",
       "      <td>My wife and I were looking forward to playing ...</td>\n",
       "      <td>2020-03-20</td>\n",
       "    </tr>\n",
       "    <tr>\n",
       "      <th>3</th>\n",
       "      <td>0</td>\n",
       "      <td>Houndf</td>\n",
       "      <td>We need equal values and opportunities for all...</td>\n",
       "      <td>2020-03-20</td>\n",
       "    </tr>\n",
       "    <tr>\n",
       "      <th>4</th>\n",
       "      <td>0</td>\n",
       "      <td>ProfessorFox</td>\n",
       "      <td>BEWARE!  If you have multiple people in your h...</td>\n",
       "      <td>2020-03-20</td>\n",
       "    </tr>\n",
       "    <tr>\n",
       "      <th>...</th>\n",
       "      <td>...</td>\n",
       "      <td>...</td>\n",
       "      <td>...</td>\n",
       "      <td>...</td>\n",
       "    </tr>\n",
       "    <tr>\n",
       "      <th>2994</th>\n",
       "      <td>1</td>\n",
       "      <td>TakezoShinmen</td>\n",
       "      <td>1 Island for console limitation.I cannot play ...</td>\n",
       "      <td>2020-05-03</td>\n",
       "    </tr>\n",
       "    <tr>\n",
       "      <th>2995</th>\n",
       "      <td>1</td>\n",
       "      <td>Pikey17</td>\n",
       "      <td>Per giocare con figli o fidanzate, mogli o per...</td>\n",
       "      <td>2020-05-03</td>\n",
       "    </tr>\n",
       "    <tr>\n",
       "      <th>2996</th>\n",
       "      <td>0</td>\n",
       "      <td>Lemmeadem</td>\n",
       "      <td>One island per console is a pathetic limitatio...</td>\n",
       "      <td>2020-05-03</td>\n",
       "    </tr>\n",
       "    <tr>\n",
       "      <th>2997</th>\n",
       "      <td>2</td>\n",
       "      <td>TandemTester938</td>\n",
       "      <td>Even though it seems like a great game with ma...</td>\n",
       "      <td>2020-05-03</td>\n",
       "    </tr>\n",
       "    <tr>\n",
       "      <th>2998</th>\n",
       "      <td>4</td>\n",
       "      <td>DwerG</td>\n",
       "      <td>Game is fantastic.Nintendo deciding that you c...</td>\n",
       "      <td>2020-05-03</td>\n",
       "    </tr>\n",
       "  </tbody>\n",
       "</table>\n",
       "<p>2999 rows × 4 columns</p>\n",
       "</div>"
      ],
      "text/plain": [
       "      grade        user_name  \\\n",
       "0         4         mds27272   \n",
       "1         5         lolo2178   \n",
       "2         0         Roachant   \n",
       "3         0           Houndf   \n",
       "4         0     ProfessorFox   \n",
       "...     ...              ...   \n",
       "2994      1    TakezoShinmen   \n",
       "2995      1          Pikey17   \n",
       "2996      0        Lemmeadem   \n",
       "2997      2  TandemTester938   \n",
       "2998      4            DwerG   \n",
       "\n",
       "                                                   text        date  \n",
       "0     My gf started playing before me. No option to ...  2020-03-20  \n",
       "1     While the game itself is great, really relaxin...  2020-03-20  \n",
       "2     My wife and I were looking forward to playing ...  2020-03-20  \n",
       "3     We need equal values and opportunities for all...  2020-03-20  \n",
       "4     BEWARE!  If you have multiple people in your h...  2020-03-20  \n",
       "...                                                 ...         ...  \n",
       "2994  1 Island for console limitation.I cannot play ...  2020-05-03  \n",
       "2995  Per giocare con figli o fidanzate, mogli o per...  2020-05-03  \n",
       "2996  One island per console is a pathetic limitatio...  2020-05-03  \n",
       "2997  Even though it seems like a great game with ma...  2020-05-03  \n",
       "2998  Game is fantastic.Nintendo deciding that you c...  2020-05-03  \n",
       "\n",
       "[2999 rows x 4 columns]"
      ]
     },
     "execution_count": 3,
     "metadata": {},
     "output_type": "execute_result"
    }
   ],
   "source": [
    "df_reviews"
   ]
  },
  {
   "cell_type": "code",
   "execution_count": 4,
   "id": "c7bf088c",
   "metadata": {
    "execution": {
     "iopub.execute_input": "2025-01-01T19:23:29.818768Z",
     "iopub.status.busy": "2025-01-01T19:23:29.818404Z",
     "iopub.status.idle": "2025-01-01T19:23:29.847270Z",
     "shell.execute_reply": "2025-01-01T19:23:29.846165Z"
    },
    "papermill": {
     "duration": 0.041429,
     "end_time": "2025-01-01T19:23:29.849065",
     "exception": false,
     "start_time": "2025-01-01T19:23:29.807636",
     "status": "completed"
    },
    "tags": []
   },
   "outputs": [
    {
     "name": "stdout",
     "output_type": "stream",
     "text": [
      "<class 'pandas.core.frame.DataFrame'>\n",
      "RangeIndex: 2999 entries, 0 to 2998\n",
      "Data columns (total 4 columns):\n",
      " #   Column     Non-Null Count  Dtype \n",
      "---  ------     --------------  ----- \n",
      " 0   grade      2999 non-null   int64 \n",
      " 1   user_name  2999 non-null   object\n",
      " 2   text       2999 non-null   object\n",
      " 3   date       2999 non-null   object\n",
      "dtypes: int64(1), object(3)\n",
      "memory usage: 93.8+ KB\n"
     ]
    }
   ],
   "source": [
    "df_reviews.info()"
   ]
  },
  {
   "cell_type": "code",
   "execution_count": 5,
   "id": "999e0e30",
   "metadata": {
    "execution": {
     "iopub.execute_input": "2025-01-01T19:23:29.870319Z",
     "iopub.status.busy": "2025-01-01T19:23:29.869869Z",
     "iopub.status.idle": "2025-01-01T19:23:29.878183Z",
     "shell.execute_reply": "2025-01-01T19:23:29.877085Z"
    },
    "papermill": {
     "duration": 0.020781,
     "end_time": "2025-01-01T19:23:29.879914",
     "exception": false,
     "start_time": "2025-01-01T19:23:29.859133",
     "status": "completed"
    },
    "tags": []
   },
   "outputs": [
    {
     "data": {
      "text/plain": [
       "grade        0\n",
       "user_name    0\n",
       "text         0\n",
       "date         0\n",
       "dtype: int64"
      ]
     },
     "execution_count": 5,
     "metadata": {},
     "output_type": "execute_result"
    }
   ],
   "source": [
    "df_reviews.isnull().sum()"
   ]
  },
  {
   "cell_type": "markdown",
   "id": "a8460e6a",
   "metadata": {
    "papermill": {
     "duration": 0.009617,
     "end_time": "2025-01-01T19:23:29.899691",
     "exception": false,
     "start_time": "2025-01-01T19:23:29.890074",
     "status": "completed"
    },
    "tags": []
   },
   "source": [
    "### Correct date format"
   ]
  },
  {
   "cell_type": "code",
   "execution_count": 6,
   "id": "04ded304",
   "metadata": {
    "execution": {
     "iopub.execute_input": "2025-01-01T19:23:29.920603Z",
     "iopub.status.busy": "2025-01-01T19:23:29.920277Z",
     "iopub.status.idle": "2025-01-01T19:23:29.933461Z",
     "shell.execute_reply": "2025-01-01T19:23:29.932458Z"
    },
    "papermill": {
     "duration": 0.025648,
     "end_time": "2025-01-01T19:23:29.935180",
     "exception": false,
     "start_time": "2025-01-01T19:23:29.909532",
     "status": "completed"
    },
    "tags": []
   },
   "outputs": [],
   "source": [
    "df_reviews['date'] = pd.to_datetime(df_reviews['date'])"
   ]
  },
  {
   "cell_type": "code",
   "execution_count": 7,
   "id": "ce281127",
   "metadata": {
    "execution": {
     "iopub.execute_input": "2025-01-01T19:23:29.957081Z",
     "iopub.status.busy": "2025-01-01T19:23:29.956664Z",
     "iopub.status.idle": "2025-01-01T19:23:29.968796Z",
     "shell.execute_reply": "2025-01-01T19:23:29.967470Z"
    },
    "papermill": {
     "duration": 0.025229,
     "end_time": "2025-01-01T19:23:29.970594",
     "exception": false,
     "start_time": "2025-01-01T19:23:29.945365",
     "status": "completed"
    },
    "tags": []
   },
   "outputs": [
    {
     "name": "stdout",
     "output_type": "stream",
     "text": [
      "<class 'pandas.core.frame.DataFrame'>\n",
      "RangeIndex: 2999 entries, 0 to 2998\n",
      "Data columns (total 4 columns):\n",
      " #   Column     Non-Null Count  Dtype         \n",
      "---  ------     --------------  -----         \n",
      " 0   grade      2999 non-null   int64         \n",
      " 1   user_name  2999 non-null   object        \n",
      " 2   text       2999 non-null   object        \n",
      " 3   date       2999 non-null   datetime64[ns]\n",
      "dtypes: datetime64[ns](1), int64(1), object(2)\n",
      "memory usage: 93.8+ KB\n"
     ]
    }
   ],
   "source": [
    "df_reviews.info()"
   ]
  },
  {
   "cell_type": "markdown",
   "id": "a7db91d8",
   "metadata": {
    "papermill": {
     "duration": 0.009602,
     "end_time": "2025-01-01T19:23:29.990393",
     "exception": false,
     "start_time": "2025-01-01T19:23:29.980791",
     "status": "completed"
    },
    "tags": []
   },
   "source": [
    "# Step-2: Data Exploration and Preprocessing"
   ]
  },
  {
   "cell_type": "markdown",
   "id": "6f87a080",
   "metadata": {
    "papermill": {
     "duration": 0.010043,
     "end_time": "2025-01-01T19:23:30.010282",
     "exception": false,
     "start_time": "2025-01-01T19:23:30.000239",
     "status": "completed"
    },
    "tags": []
   },
   "source": [
    "## Language Detection"
   ]
  },
  {
   "cell_type": "code",
   "execution_count": 8,
   "id": "802f4e0b",
   "metadata": {
    "execution": {
     "iopub.execute_input": "2025-01-01T19:23:30.032815Z",
     "iopub.status.busy": "2025-01-01T19:23:30.032418Z",
     "iopub.status.idle": "2025-01-01T19:23:39.818007Z",
     "shell.execute_reply": "2025-01-01T19:23:39.816482Z"
    },
    "papermill": {
     "duration": 9.799875,
     "end_time": "2025-01-01T19:23:39.820164",
     "exception": false,
     "start_time": "2025-01-01T19:23:30.020289",
     "status": "completed"
    },
    "tags": []
   },
   "outputs": [
    {
     "name": "stdout",
     "output_type": "stream",
     "text": [
      "Collecting langdetect\r\n",
      "  Downloading langdetect-1.0.9.tar.gz (981 kB)\r\n",
      "\u001b[2K     \u001b[90m━━━━━━━━━━━━━━━━━━━━━━━━━━━━━━━━━━━━━━━━\u001b[0m \u001b[32m981.5/981.5 kB\u001b[0m \u001b[31m18.1 MB/s\u001b[0m eta \u001b[36m0:00:00\u001b[0m\r\n",
      "\u001b[?25h  Preparing metadata (setup.py) ... \u001b[?25l\u001b[?25hdone\r\n",
      "Requirement already satisfied: six in /usr/local/lib/python3.10/dist-packages (from langdetect) (1.16.0)\r\n",
      "Building wheels for collected packages: langdetect\r\n",
      "  Building wheel for langdetect (setup.py) ... \u001b[?25l\u001b[?25hdone\r\n",
      "  Created wheel for langdetect: filename=langdetect-1.0.9-py3-none-any.whl size=993221 sha256=4e1af53ee046ba8f7b30ea11a725ed9e0e4cd95abfb6c9cc48662869719df4c8\r\n",
      "  Stored in directory: /root/.cache/pip/wheels/95/03/7d/59ea870c70ce4e5a370638b5462a7711ab78fba2f655d05106\r\n",
      "Successfully built langdetect\r\n",
      "Installing collected packages: langdetect\r\n",
      "Successfully installed langdetect-1.0.9\r\n"
     ]
    }
   ],
   "source": [
    "! pip install langdetect"
   ]
  },
  {
   "cell_type": "code",
   "execution_count": 9,
   "id": "8af21da9",
   "metadata": {
    "execution": {
     "iopub.execute_input": "2025-01-01T19:23:39.843260Z",
     "iopub.status.busy": "2025-01-01T19:23:39.842829Z",
     "iopub.status.idle": "2025-01-01T19:23:56.016733Z",
     "shell.execute_reply": "2025-01-01T19:23:56.015586Z"
    },
    "papermill": {
     "duration": 16.187384,
     "end_time": "2025-01-01T19:23:56.018729",
     "exception": false,
     "start_time": "2025-01-01T19:23:39.831345",
     "status": "completed"
    },
    "tags": []
   },
   "outputs": [],
   "source": [
    "from langdetect import detect\n",
    "\n",
    "df_reviews['language'] = df_reviews['text'].apply(detect)"
   ]
  },
  {
   "cell_type": "code",
   "execution_count": 10,
   "id": "0feaca6f",
   "metadata": {
    "execution": {
     "iopub.execute_input": "2025-01-01T19:23:56.041557Z",
     "iopub.status.busy": "2025-01-01T19:23:56.041224Z",
     "iopub.status.idle": "2025-01-01T19:23:56.049186Z",
     "shell.execute_reply": "2025-01-01T19:23:56.048113Z"
    },
    "papermill": {
     "duration": 0.020974,
     "end_time": "2025-01-01T19:23:56.050647",
     "exception": false,
     "start_time": "2025-01-01T19:23:56.029673",
     "status": "completed"
    },
    "tags": []
   },
   "outputs": [
    {
     "data": {
      "text/plain": [
       "language\n",
       "en       2829\n",
       "es        108\n",
       "fr         18\n",
       "pt         11\n",
       "ru         11\n",
       "it         10\n",
       "de          4\n",
       "pl          2\n",
       "th          1\n",
       "so          1\n",
       "no          1\n",
       "ko          1\n",
       "zh-cn       1\n",
       "fi          1\n",
       "Name: count, dtype: int64"
      ]
     },
     "execution_count": 10,
     "metadata": {},
     "output_type": "execute_result"
    }
   ],
   "source": [
    "df_reviews.language.value_counts()"
   ]
  },
  {
   "cell_type": "markdown",
   "id": "97438562",
   "metadata": {
    "papermill": {
     "duration": 0.010408,
     "end_time": "2025-01-01T19:23:56.071739",
     "exception": false,
     "start_time": "2025-01-01T19:23:56.061331",
     "status": "completed"
    },
    "tags": []
   },
   "source": [
    "As majoirity of reviews are in english language. Thus, we can either ignore or translate the respective reviews to english"
   ]
  },
  {
   "cell_type": "markdown",
   "id": "e30aa65d",
   "metadata": {
    "papermill": {
     "duration": 0.010339,
     "end_time": "2025-01-01T19:23:56.092829",
     "exception": false,
     "start_time": "2025-01-01T19:23:56.082490",
     "status": "completed"
    },
    "tags": []
   },
   "source": [
    "## Multilingual Translation"
   ]
  },
  {
   "cell_type": "markdown",
   "id": "1d4b74f5",
   "metadata": {
    "papermill": {
     "duration": 0.010446,
     "end_time": "2025-01-01T19:23:56.113912",
     "exception": false,
     "start_time": "2025-01-01T19:23:56.103466",
     "status": "completed"
    },
    "tags": []
   },
   "source": [
    "### Install Deepl for multilingual translation support"
   ]
  },
  {
   "cell_type": "code",
   "execution_count": 11,
   "id": "0364747b",
   "metadata": {
    "execution": {
     "iopub.execute_input": "2025-01-01T19:23:56.137086Z",
     "iopub.status.busy": "2025-01-01T19:23:56.136708Z",
     "iopub.status.idle": "2025-01-01T19:24:00.367417Z",
     "shell.execute_reply": "2025-01-01T19:24:00.366176Z"
    },
    "papermill": {
     "duration": 4.244285,
     "end_time": "2025-01-01T19:24:00.369310",
     "exception": false,
     "start_time": "2025-01-01T19:23:56.125025",
     "status": "completed"
    },
    "tags": []
   },
   "outputs": [
    {
     "name": "stdout",
     "output_type": "stream",
     "text": [
      "Collecting deepl\r\n",
      "  Downloading deepl-1.20.0-py3-none-any.whl.metadata (28 kB)\r\n",
      "Requirement already satisfied: requests<3,>=2 in /usr/local/lib/python3.10/dist-packages (from deepl) (2.32.3)\r\n",
      "Requirement already satisfied: charset-normalizer<4,>=2 in /usr/local/lib/python3.10/dist-packages (from requests<3,>=2->deepl) (3.3.2)\r\n",
      "Requirement already satisfied: idna<4,>=2.5 in /usr/local/lib/python3.10/dist-packages (from requests<3,>=2->deepl) (3.10)\r\n",
      "Requirement already satisfied: urllib3<3,>=1.21.1 in /usr/local/lib/python3.10/dist-packages (from requests<3,>=2->deepl) (2.2.3)\r\n",
      "Requirement already satisfied: certifi>=2017.4.17 in /usr/local/lib/python3.10/dist-packages (from requests<3,>=2->deepl) (2024.8.30)\r\n",
      "Downloading deepl-1.20.0-py3-none-any.whl (36 kB)\r\n",
      "Installing collected packages: deepl\r\n",
      "Successfully installed deepl-1.20.0\r\n"
     ]
    }
   ],
   "source": [
    "! pip install deepl"
   ]
  },
  {
   "cell_type": "markdown",
   "id": "4271282e",
   "metadata": {
    "papermill": {
     "duration": 0.010699,
     "end_time": "2025-01-01T19:24:00.391228",
     "exception": false,
     "start_time": "2025-01-01T19:24:00.380529",
     "status": "completed"
    },
    "tags": []
   },
   "source": [
    "## Translate non-english reviews"
   ]
  },
  {
   "cell_type": "code",
   "execution_count": 12,
   "id": "4ac9c617",
   "metadata": {
    "execution": {
     "iopub.execute_input": "2025-01-01T19:24:00.415132Z",
     "iopub.status.busy": "2025-01-01T19:24:00.414664Z",
     "iopub.status.idle": "2025-01-01T19:24:11.674821Z",
     "shell.execute_reply": "2025-01-01T19:24:11.673630Z"
    },
    "papermill": {
     "duration": 11.274395,
     "end_time": "2025-01-01T19:24:11.676744",
     "exception": false,
     "start_time": "2025-01-01T19:24:00.402349",
     "status": "completed"
    },
    "tags": []
   },
   "outputs": [],
   "source": [
    "import deepl\n",
    "\n",
    "# Replace with your DeepL API key\n",
    "auth_key = \"53ccd28c-8ff3-44e5-9459-7cf4699f0cee:fx\"#\"your_deepl_api_key\"\n",
    "translator = deepl.Translator(auth_key)\n",
    "\n",
    "# Translate non-English reviews\n",
    "def translate_text(text, source_lang, target_lang=\"EN-GB\"):\n",
    "    try:\n",
    "        result = translator.translate_text(text, source_lang=source_lang, target_lang=target_lang)\n",
    "        return result.text\n",
    "    except Exception as e:\n",
    "        return f\"Translation error: {e}\"\n",
    "\n",
    "# Filter non-English reviews\n",
    "non_english_reviews = df_reviews[df_reviews['language'] != 'en'].copy()\n",
    "\n",
    "# Translate non-English reviews\n",
    "non_english_reviews['translated_text'] = non_english_reviews.apply(\n",
    "    lambda row: translate_text(row['text'], source_lang=row['language'].upper()), axis=1\n",
    ")\n",
    "\n",
    "# Filter English reviews\n",
    "english_reviews = df_reviews[df_reviews['language'] == 'en']\n",
    "\n",
    "# Combine English and translated reviews\n",
    "df_reviews = pd.concat([english_reviews, non_english_reviews], ignore_index=True)\n",
    "\n"
   ]
  },
  {
   "cell_type": "code",
   "execution_count": 13,
   "id": "e7452972",
   "metadata": {
    "execution": {
     "iopub.execute_input": "2025-01-01T19:24:11.701109Z",
     "iopub.status.busy": "2025-01-01T19:24:11.700685Z",
     "iopub.status.idle": "2025-01-01T19:24:11.708529Z",
     "shell.execute_reply": "2025-01-01T19:24:11.707408Z"
    },
    "papermill": {
     "duration": 0.022238,
     "end_time": "2025-01-01T19:24:11.710254",
     "exception": false,
     "start_time": "2025-01-01T19:24:11.688016",
     "status": "completed"
    },
    "tags": []
   },
   "outputs": [
    {
     "data": {
      "text/plain": [
       "translated_text\n",
       "Translation error: Quota for this billing period has been exceeded, message: Quota Exceeded    166\n",
       "Translation error: Bad request, message: Value for 'source_lang' not supported.                  4\n",
       "Name: count, dtype: int64"
      ]
     },
     "execution_count": 13,
     "metadata": {},
     "output_type": "execute_result"
    }
   ],
   "source": [
    "non_english_reviews.translated_text.value_counts()"
   ]
  },
  {
   "cell_type": "markdown",
   "id": "7e0cdedd",
   "metadata": {
    "papermill": {
     "duration": 0.011344,
     "end_time": "2025-01-01T19:24:11.733293",
     "exception": false,
     "start_time": "2025-01-01T19:24:11.721949",
     "status": "completed"
    },
    "tags": []
   },
   "source": [
    "## Combine original and translated text"
   ]
  },
  {
   "cell_type": "code",
   "execution_count": 14,
   "id": "a3bda832",
   "metadata": {
    "execution": {
     "iopub.execute_input": "2025-01-01T19:24:11.756830Z",
     "iopub.status.busy": "2025-01-01T19:24:11.756504Z",
     "iopub.status.idle": "2025-01-01T19:24:11.791268Z",
     "shell.execute_reply": "2025-01-01T19:24:11.790087Z"
    },
    "papermill": {
     "duration": 0.048813,
     "end_time": "2025-01-01T19:24:11.793228",
     "exception": false,
     "start_time": "2025-01-01T19:24:11.744415",
     "status": "completed"
    },
    "tags": []
   },
   "outputs": [],
   "source": [
    "# Combine original and translated text\n",
    "df_reviews['final_text'] = df_reviews.apply(\n",
    "    lambda row: row['text'] if row['language'] == 'en' else row['translated_text'], axis=1\n",
    ")"
   ]
  },
  {
   "cell_type": "code",
   "execution_count": 15,
   "id": "9571d640",
   "metadata": {
    "execution": {
     "iopub.execute_input": "2025-01-01T19:24:11.817766Z",
     "iopub.status.busy": "2025-01-01T19:24:11.817430Z",
     "iopub.status.idle": "2025-01-01T19:24:11.832375Z",
     "shell.execute_reply": "2025-01-01T19:24:11.831281Z"
    },
    "papermill": {
     "duration": 0.029766,
     "end_time": "2025-01-01T19:24:11.834259",
     "exception": false,
     "start_time": "2025-01-01T19:24:11.804493",
     "status": "completed"
    },
    "tags": []
   },
   "outputs": [
    {
     "data": {
      "text/html": [
       "<div>\n",
       "<style scoped>\n",
       "    .dataframe tbody tr th:only-of-type {\n",
       "        vertical-align: middle;\n",
       "    }\n",
       "\n",
       "    .dataframe tbody tr th {\n",
       "        vertical-align: top;\n",
       "    }\n",
       "\n",
       "    .dataframe thead th {\n",
       "        text-align: right;\n",
       "    }\n",
       "</style>\n",
       "<table border=\"1\" class=\"dataframe\">\n",
       "  <thead>\n",
       "    <tr style=\"text-align: right;\">\n",
       "      <th></th>\n",
       "      <th>grade</th>\n",
       "      <th>user_name</th>\n",
       "      <th>text</th>\n",
       "      <th>date</th>\n",
       "      <th>language</th>\n",
       "      <th>translated_text</th>\n",
       "      <th>final_text</th>\n",
       "    </tr>\n",
       "  </thead>\n",
       "  <tbody>\n",
       "    <tr>\n",
       "      <th>0</th>\n",
       "      <td>4</td>\n",
       "      <td>mds27272</td>\n",
       "      <td>My gf started playing before me. No option to ...</td>\n",
       "      <td>2020-03-20</td>\n",
       "      <td>en</td>\n",
       "      <td>NaN</td>\n",
       "      <td>My gf started playing before me. No option to ...</td>\n",
       "    </tr>\n",
       "    <tr>\n",
       "      <th>1</th>\n",
       "      <td>5</td>\n",
       "      <td>lolo2178</td>\n",
       "      <td>While the game itself is great, really relaxin...</td>\n",
       "      <td>2020-03-20</td>\n",
       "      <td>en</td>\n",
       "      <td>NaN</td>\n",
       "      <td>While the game itself is great, really relaxin...</td>\n",
       "    </tr>\n",
       "    <tr>\n",
       "      <th>2</th>\n",
       "      <td>0</td>\n",
       "      <td>Roachant</td>\n",
       "      <td>My wife and I were looking forward to playing ...</td>\n",
       "      <td>2020-03-20</td>\n",
       "      <td>en</td>\n",
       "      <td>NaN</td>\n",
       "      <td>My wife and I were looking forward to playing ...</td>\n",
       "    </tr>\n",
       "    <tr>\n",
       "      <th>3</th>\n",
       "      <td>0</td>\n",
       "      <td>Houndf</td>\n",
       "      <td>We need equal values and opportunities for all...</td>\n",
       "      <td>2020-03-20</td>\n",
       "      <td>en</td>\n",
       "      <td>NaN</td>\n",
       "      <td>We need equal values and opportunities for all...</td>\n",
       "    </tr>\n",
       "    <tr>\n",
       "      <th>4</th>\n",
       "      <td>0</td>\n",
       "      <td>ProfessorFox</td>\n",
       "      <td>BEWARE!  If you have multiple people in your h...</td>\n",
       "      <td>2020-03-20</td>\n",
       "      <td>en</td>\n",
       "      <td>NaN</td>\n",
       "      <td>BEWARE!  If you have multiple people in your h...</td>\n",
       "    </tr>\n",
       "    <tr>\n",
       "      <th>...</th>\n",
       "      <td>...</td>\n",
       "      <td>...</td>\n",
       "      <td>...</td>\n",
       "      <td>...</td>\n",
       "      <td>...</td>\n",
       "      <td>...</td>\n",
       "      <td>...</td>\n",
       "    </tr>\n",
       "    <tr>\n",
       "      <th>2994</th>\n",
       "      <td>10</td>\n",
       "      <td>ArisLink</td>\n",
       "      <td>Es el mejor Animal crossing de la historia y m...</td>\n",
       "      <td>2020-04-28</td>\n",
       "      <td>es</td>\n",
       "      <td>Translation error: Quota for this billing peri...</td>\n",
       "      <td>Translation error: Quota for this billing peri...</td>\n",
       "    </tr>\n",
       "    <tr>\n",
       "      <th>2995</th>\n",
       "      <td>7</td>\n",
       "      <td>Gemmo</td>\n",
       "      <td>Trovo che il gioco sia ben strutturato e lasci...</td>\n",
       "      <td>2020-04-28</td>\n",
       "      <td>it</td>\n",
       "      <td>Translation error: Quota for this billing peri...</td>\n",
       "      <td>Translation error: Quota for this billing peri...</td>\n",
       "    </tr>\n",
       "    <tr>\n",
       "      <th>2996</th>\n",
       "      <td>10</td>\n",
       "      <td>Jhonpo</td>\n",
       "      <td>El juego es maravilloso y que bien esta jugarl...</td>\n",
       "      <td>2020-04-29</td>\n",
       "      <td>es</td>\n",
       "      <td>Translation error: Quota for this billing peri...</td>\n",
       "      <td>Translation error: Quota for this billing peri...</td>\n",
       "    </tr>\n",
       "    <tr>\n",
       "      <th>2997</th>\n",
       "      <td>10</td>\n",
       "      <td>Dabaru</td>\n",
       "      <td>Me hacen gracia las notas bajas intentando des...</td>\n",
       "      <td>2020-05-02</td>\n",
       "      <td>es</td>\n",
       "      <td>Translation error: Quota for this billing peri...</td>\n",
       "      <td>Translation error: Quota for this billing peri...</td>\n",
       "    </tr>\n",
       "    <tr>\n",
       "      <th>2998</th>\n",
       "      <td>1</td>\n",
       "      <td>Pikey17</td>\n",
       "      <td>Per giocare con figli o fidanzate, mogli o per...</td>\n",
       "      <td>2020-05-03</td>\n",
       "      <td>it</td>\n",
       "      <td>Translation error: Quota for this billing peri...</td>\n",
       "      <td>Translation error: Quota for this billing peri...</td>\n",
       "    </tr>\n",
       "  </tbody>\n",
       "</table>\n",
       "<p>2999 rows × 7 columns</p>\n",
       "</div>"
      ],
      "text/plain": [
       "      grade     user_name                                               text  \\\n",
       "0         4      mds27272  My gf started playing before me. No option to ...   \n",
       "1         5      lolo2178  While the game itself is great, really relaxin...   \n",
       "2         0      Roachant  My wife and I were looking forward to playing ...   \n",
       "3         0        Houndf  We need equal values and opportunities for all...   \n",
       "4         0  ProfessorFox  BEWARE!  If you have multiple people in your h...   \n",
       "...     ...           ...                                                ...   \n",
       "2994     10      ArisLink  Es el mejor Animal crossing de la historia y m...   \n",
       "2995      7         Gemmo  Trovo che il gioco sia ben strutturato e lasci...   \n",
       "2996     10        Jhonpo  El juego es maravilloso y que bien esta jugarl...   \n",
       "2997     10        Dabaru  Me hacen gracia las notas bajas intentando des...   \n",
       "2998      1       Pikey17  Per giocare con figli o fidanzate, mogli o per...   \n",
       "\n",
       "           date language                                    translated_text  \\\n",
       "0    2020-03-20       en                                                NaN   \n",
       "1    2020-03-20       en                                                NaN   \n",
       "2    2020-03-20       en                                                NaN   \n",
       "3    2020-03-20       en                                                NaN   \n",
       "4    2020-03-20       en                                                NaN   \n",
       "...         ...      ...                                                ...   \n",
       "2994 2020-04-28       es  Translation error: Quota for this billing peri...   \n",
       "2995 2020-04-28       it  Translation error: Quota for this billing peri...   \n",
       "2996 2020-04-29       es  Translation error: Quota for this billing peri...   \n",
       "2997 2020-05-02       es  Translation error: Quota for this billing peri...   \n",
       "2998 2020-05-03       it  Translation error: Quota for this billing peri...   \n",
       "\n",
       "                                             final_text  \n",
       "0     My gf started playing before me. No option to ...  \n",
       "1     While the game itself is great, really relaxin...  \n",
       "2     My wife and I were looking forward to playing ...  \n",
       "3     We need equal values and opportunities for all...  \n",
       "4     BEWARE!  If you have multiple people in your h...  \n",
       "...                                                 ...  \n",
       "2994  Translation error: Quota for this billing peri...  \n",
       "2995  Translation error: Quota for this billing peri...  \n",
       "2996  Translation error: Quota for this billing peri...  \n",
       "2997  Translation error: Quota for this billing peri...  \n",
       "2998  Translation error: Quota for this billing peri...  \n",
       "\n",
       "[2999 rows x 7 columns]"
      ]
     },
     "execution_count": 15,
     "metadata": {},
     "output_type": "execute_result"
    }
   ],
   "source": [
    "df_reviews"
   ]
  },
  {
   "cell_type": "markdown",
   "id": "fa8daea8",
   "metadata": {
    "papermill": {
     "duration": 0.011176,
     "end_time": "2025-01-01T19:24:11.857151",
     "exception": false,
     "start_time": "2025-01-01T19:24:11.845975",
     "status": "completed"
    },
    "tags": []
   },
   "source": [
    "## Filter out rows with translation errors"
   ]
  },
  {
   "cell_type": "code",
   "execution_count": 16,
   "id": "07bf1b2c",
   "metadata": {
    "execution": {
     "iopub.execute_input": "2025-01-01T19:24:11.881479Z",
     "iopub.status.busy": "2025-01-01T19:24:11.881079Z",
     "iopub.status.idle": "2025-01-01T19:24:11.889095Z",
     "shell.execute_reply": "2025-01-01T19:24:11.888070Z"
    },
    "papermill": {
     "duration": 0.022082,
     "end_time": "2025-01-01T19:24:11.890854",
     "exception": false,
     "start_time": "2025-01-01T19:24:11.868772",
     "status": "completed"
    },
    "tags": []
   },
   "outputs": [],
   "source": [
    "# Filter out rows with translation errors\n",
    "df_reviews = df_reviews[~df_reviews['translated_text'].str.contains(\"Translation error\", na=False)]\n",
    "\n",
    "# Reset the index after filtering\n",
    "df_reviews.reset_index(drop=True, inplace=True)\n"
   ]
  },
  {
   "cell_type": "code",
   "execution_count": 17,
   "id": "4535c8d2",
   "metadata": {
    "execution": {
     "iopub.execute_input": "2025-01-01T19:24:11.915126Z",
     "iopub.status.busy": "2025-01-01T19:24:11.914726Z",
     "iopub.status.idle": "2025-01-01T19:24:11.921485Z",
     "shell.execute_reply": "2025-01-01T19:24:11.920688Z"
    },
    "papermill": {
     "duration": 0.020544,
     "end_time": "2025-01-01T19:24:11.923065",
     "exception": false,
     "start_time": "2025-01-01T19:24:11.902521",
     "status": "completed"
    },
    "tags": []
   },
   "outputs": [
    {
     "data": {
      "text/plain": [
       "0"
      ]
     },
     "execution_count": 17,
     "metadata": {},
     "output_type": "execute_result"
    }
   ],
   "source": [
    "df_reviews['translated_text'].str.contains(\"Translation error\", na=False).sum()"
   ]
  },
  {
   "cell_type": "code",
   "execution_count": 18,
   "id": "81cdbaec",
   "metadata": {
    "execution": {
     "iopub.execute_input": "2025-01-01T19:24:11.947588Z",
     "iopub.status.busy": "2025-01-01T19:24:11.947230Z",
     "iopub.status.idle": "2025-01-01T19:24:11.954106Z",
     "shell.execute_reply": "2025-01-01T19:24:11.953087Z"
    },
    "papermill": {
     "duration": 0.020887,
     "end_time": "2025-01-01T19:24:11.955696",
     "exception": false,
     "start_time": "2025-01-01T19:24:11.934809",
     "status": "completed"
    },
    "tags": []
   },
   "outputs": [
    {
     "data": {
      "text/plain": [
       "Series([], Name: count, dtype: int64)"
      ]
     },
     "execution_count": 18,
     "metadata": {},
     "output_type": "execute_result"
    }
   ],
   "source": [
    "df_reviews.translated_text.value_counts()"
   ]
  },
  {
   "cell_type": "code",
   "execution_count": 19,
   "id": "f0ad0102",
   "metadata": {
    "execution": {
     "iopub.execute_input": "2025-01-01T19:24:11.980419Z",
     "iopub.status.busy": "2025-01-01T19:24:11.980082Z",
     "iopub.status.idle": "2025-01-01T19:24:11.985335Z",
     "shell.execute_reply": "2025-01-01T19:24:11.984473Z"
    },
    "papermill": {
     "duration": 0.019461,
     "end_time": "2025-01-01T19:24:11.986924",
     "exception": false,
     "start_time": "2025-01-01T19:24:11.967463",
     "status": "completed"
    },
    "tags": []
   },
   "outputs": [
    {
     "data": {
      "text/plain": [
       "(2829, 7)"
      ]
     },
     "execution_count": 19,
     "metadata": {},
     "output_type": "execute_result"
    }
   ],
   "source": [
    "df_reviews.shape"
   ]
  },
  {
   "cell_type": "code",
   "execution_count": 20,
   "id": "cad020c8",
   "metadata": {
    "execution": {
     "iopub.execute_input": "2025-01-01T19:24:12.011844Z",
     "iopub.status.busy": "2025-01-01T19:24:12.011505Z",
     "iopub.status.idle": "2025-01-01T19:24:12.019730Z",
     "shell.execute_reply": "2025-01-01T19:24:12.018856Z"
    },
    "papermill": {
     "duration": 0.022534,
     "end_time": "2025-01-01T19:24:12.021327",
     "exception": false,
     "start_time": "2025-01-01T19:24:11.998793",
     "status": "completed"
    },
    "tags": []
   },
   "outputs": [
    {
     "data": {
      "text/plain": [
       "grade                 0\n",
       "user_name             0\n",
       "text                  0\n",
       "date                  0\n",
       "language              0\n",
       "translated_text    2829\n",
       "final_text            0\n",
       "dtype: int64"
      ]
     },
     "execution_count": 20,
     "metadata": {},
     "output_type": "execute_result"
    }
   ],
   "source": [
    "df_reviews.isnull().sum()"
   ]
  },
  {
   "cell_type": "code",
   "execution_count": 21,
   "id": "65f3b95c",
   "metadata": {
    "execution": {
     "iopub.execute_input": "2025-01-01T19:24:12.046190Z",
     "iopub.status.busy": "2025-01-01T19:24:12.045789Z",
     "iopub.status.idle": "2025-01-01T19:24:12.052053Z",
     "shell.execute_reply": "2025-01-01T19:24:12.050948Z"
    },
    "papermill": {
     "duration": 0.020699,
     "end_time": "2025-01-01T19:24:12.053813",
     "exception": false,
     "start_time": "2025-01-01T19:24:12.033114",
     "status": "completed"
    },
    "tags": []
   },
   "outputs": [
    {
     "data": {
      "text/plain": [
       "Index(['grade', 'user_name', 'text', 'date', 'language', 'translated_text',\n",
       "       'final_text'],\n",
       "      dtype='object')"
      ]
     },
     "execution_count": 21,
     "metadata": {},
     "output_type": "execute_result"
    }
   ],
   "source": [
    "df_reviews.columns"
   ]
  },
  {
   "cell_type": "markdown",
   "id": "67d0a935",
   "metadata": {
    "papermill": {
     "duration": 0.011661,
     "end_time": "2025-01-01T19:24:12.077407",
     "exception": false,
     "start_time": "2025-01-01T19:24:12.065746",
     "status": "completed"
    },
    "tags": []
   },
   "source": [
    "## Final dataset for preprocessing"
   ]
  },
  {
   "cell_type": "code",
   "execution_count": 22,
   "id": "4b2a534c",
   "metadata": {
    "execution": {
     "iopub.execute_input": "2025-01-01T19:24:12.102647Z",
     "iopub.status.busy": "2025-01-01T19:24:12.102301Z",
     "iopub.status.idle": "2025-01-01T19:24:12.107842Z",
     "shell.execute_reply": "2025-01-01T19:24:12.106882Z"
    },
    "papermill": {
     "duration": 0.020233,
     "end_time": "2025-01-01T19:24:12.109569",
     "exception": false,
     "start_time": "2025-01-01T19:24:12.089336",
     "status": "completed"
    },
    "tags": []
   },
   "outputs": [],
   "source": [
    "df_reviews_final = df_reviews[['grade', 'user_name', 'date', 'final_text']]\n"
   ]
  },
  {
   "cell_type": "code",
   "execution_count": 23,
   "id": "8c1b63e4",
   "metadata": {
    "execution": {
     "iopub.execute_input": "2025-01-01T19:24:12.134546Z",
     "iopub.status.busy": "2025-01-01T19:24:12.134183Z",
     "iopub.status.idle": "2025-01-01T19:24:12.146053Z",
     "shell.execute_reply": "2025-01-01T19:24:12.145012Z"
    },
    "papermill": {
     "duration": 0.026302,
     "end_time": "2025-01-01T19:24:12.147745",
     "exception": false,
     "start_time": "2025-01-01T19:24:12.121443",
     "status": "completed"
    },
    "tags": []
   },
   "outputs": [
    {
     "data": {
      "text/html": [
       "<div>\n",
       "<style scoped>\n",
       "    .dataframe tbody tr th:only-of-type {\n",
       "        vertical-align: middle;\n",
       "    }\n",
       "\n",
       "    .dataframe tbody tr th {\n",
       "        vertical-align: top;\n",
       "    }\n",
       "\n",
       "    .dataframe thead th {\n",
       "        text-align: right;\n",
       "    }\n",
       "</style>\n",
       "<table border=\"1\" class=\"dataframe\">\n",
       "  <thead>\n",
       "    <tr style=\"text-align: right;\">\n",
       "      <th></th>\n",
       "      <th>grade</th>\n",
       "      <th>user_name</th>\n",
       "      <th>date</th>\n",
       "      <th>final_text</th>\n",
       "    </tr>\n",
       "  </thead>\n",
       "  <tbody>\n",
       "    <tr>\n",
       "      <th>0</th>\n",
       "      <td>4</td>\n",
       "      <td>mds27272</td>\n",
       "      <td>2020-03-20</td>\n",
       "      <td>My gf started playing before me. No option to ...</td>\n",
       "    </tr>\n",
       "    <tr>\n",
       "      <th>1</th>\n",
       "      <td>5</td>\n",
       "      <td>lolo2178</td>\n",
       "      <td>2020-03-20</td>\n",
       "      <td>While the game itself is great, really relaxin...</td>\n",
       "    </tr>\n",
       "    <tr>\n",
       "      <th>2</th>\n",
       "      <td>0</td>\n",
       "      <td>Roachant</td>\n",
       "      <td>2020-03-20</td>\n",
       "      <td>My wife and I were looking forward to playing ...</td>\n",
       "    </tr>\n",
       "    <tr>\n",
       "      <th>3</th>\n",
       "      <td>0</td>\n",
       "      <td>Houndf</td>\n",
       "      <td>2020-03-20</td>\n",
       "      <td>We need equal values and opportunities for all...</td>\n",
       "    </tr>\n",
       "    <tr>\n",
       "      <th>4</th>\n",
       "      <td>0</td>\n",
       "      <td>ProfessorFox</td>\n",
       "      <td>2020-03-20</td>\n",
       "      <td>BEWARE!  If you have multiple people in your h...</td>\n",
       "    </tr>\n",
       "    <tr>\n",
       "      <th>...</th>\n",
       "      <td>...</td>\n",
       "      <td>...</td>\n",
       "      <td>...</td>\n",
       "      <td>...</td>\n",
       "    </tr>\n",
       "    <tr>\n",
       "      <th>2824</th>\n",
       "      <td>0</td>\n",
       "      <td>crazycasti</td>\n",
       "      <td>2020-05-03</td>\n",
       "      <td>For those who say I don't understand review bo...</td>\n",
       "    </tr>\n",
       "    <tr>\n",
       "      <th>2825</th>\n",
       "      <td>1</td>\n",
       "      <td>TakezoShinmen</td>\n",
       "      <td>2020-05-03</td>\n",
       "      <td>1 Island for console limitation.I cannot play ...</td>\n",
       "    </tr>\n",
       "    <tr>\n",
       "      <th>2826</th>\n",
       "      <td>0</td>\n",
       "      <td>Lemmeadem</td>\n",
       "      <td>2020-05-03</td>\n",
       "      <td>One island per console is a pathetic limitatio...</td>\n",
       "    </tr>\n",
       "    <tr>\n",
       "      <th>2827</th>\n",
       "      <td>2</td>\n",
       "      <td>TandemTester938</td>\n",
       "      <td>2020-05-03</td>\n",
       "      <td>Even though it seems like a great game with ma...</td>\n",
       "    </tr>\n",
       "    <tr>\n",
       "      <th>2828</th>\n",
       "      <td>4</td>\n",
       "      <td>DwerG</td>\n",
       "      <td>2020-05-03</td>\n",
       "      <td>Game is fantastic.Nintendo deciding that you c...</td>\n",
       "    </tr>\n",
       "  </tbody>\n",
       "</table>\n",
       "<p>2829 rows × 4 columns</p>\n",
       "</div>"
      ],
      "text/plain": [
       "      grade        user_name       date  \\\n",
       "0         4         mds27272 2020-03-20   \n",
       "1         5         lolo2178 2020-03-20   \n",
       "2         0         Roachant 2020-03-20   \n",
       "3         0           Houndf 2020-03-20   \n",
       "4         0     ProfessorFox 2020-03-20   \n",
       "...     ...              ...        ...   \n",
       "2824      0       crazycasti 2020-05-03   \n",
       "2825      1    TakezoShinmen 2020-05-03   \n",
       "2826      0        Lemmeadem 2020-05-03   \n",
       "2827      2  TandemTester938 2020-05-03   \n",
       "2828      4            DwerG 2020-05-03   \n",
       "\n",
       "                                             final_text  \n",
       "0     My gf started playing before me. No option to ...  \n",
       "1     While the game itself is great, really relaxin...  \n",
       "2     My wife and I were looking forward to playing ...  \n",
       "3     We need equal values and opportunities for all...  \n",
       "4     BEWARE!  If you have multiple people in your h...  \n",
       "...                                                 ...  \n",
       "2824  For those who say I don't understand review bo...  \n",
       "2825  1 Island for console limitation.I cannot play ...  \n",
       "2826  One island per console is a pathetic limitatio...  \n",
       "2827  Even though it seems like a great game with ma...  \n",
       "2828  Game is fantastic.Nintendo deciding that you c...  \n",
       "\n",
       "[2829 rows x 4 columns]"
      ]
     },
     "execution_count": 23,
     "metadata": {},
     "output_type": "execute_result"
    }
   ],
   "source": [
    "df_reviews_final"
   ]
  },
  {
   "cell_type": "markdown",
   "id": "bb3754e5",
   "metadata": {
    "papermill": {
     "duration": 0.012044,
     "end_time": "2025-01-01T19:24:12.172390",
     "exception": false,
     "start_time": "2025-01-01T19:24:12.160346",
     "status": "completed"
    },
    "tags": []
   },
   "source": [
    "## Check grade distribution"
   ]
  },
  {
   "cell_type": "code",
   "execution_count": 24,
   "id": "f5aa37c0",
   "metadata": {
    "execution": {
     "iopub.execute_input": "2025-01-01T19:24:12.198041Z",
     "iopub.status.busy": "2025-01-01T19:24:12.197647Z",
     "iopub.status.idle": "2025-01-01T19:24:12.545261Z",
     "shell.execute_reply": "2025-01-01T19:24:12.543940Z"
    },
    "papermill": {
     "duration": 0.362439,
     "end_time": "2025-01-01T19:24:12.547124",
     "exception": false,
     "start_time": "2025-01-01T19:24:12.184685",
     "status": "completed"
    },
    "tags": []
   },
   "outputs": [
    {
     "data": {
      "text/plain": [
       "<Axes: title={'center': 'Grade Distribution'}, xlabel='grade'>"
      ]
     },
     "execution_count": 24,
     "metadata": {},
     "output_type": "execute_result"
    },
    {
     "data": {
      "image/png": "[encoded data removed]",
      "text/plain": [
       "<Figure size 640x480 with 1 Axes>"
      ]
     },
     "metadata": {},
     "output_type": "display_data"
    }
   ],
   "source": [
    "# Grade distribution\n",
    "df_reviews_final['grade'].value_counts().plot(kind='bar', title='Grade Distribution')"
   ]
  },
  {
   "cell_type": "markdown",
   "id": "be49762f",
   "metadata": {
    "papermill": {
     "duration": 0.01403,
     "end_time": "2025-01-01T19:24:12.575169",
     "exception": false,
     "start_time": "2025-01-01T19:24:12.561139",
     "status": "completed"
    },
    "tags": []
   },
   "source": [
    "## Word count distribution"
   ]
  },
  {
   "cell_type": "code",
   "execution_count": 25,
   "id": "df2595aa",
   "metadata": {
    "execution": {
     "iopub.execute_input": "2025-01-01T19:24:12.602822Z",
     "iopub.status.busy": "2025-01-01T19:24:12.602490Z",
     "iopub.status.idle": "2025-01-01T19:24:12.953188Z",
     "shell.execute_reply": "2025-01-01T19:24:12.951889Z"
    },
    "papermill": {
     "duration": 0.366137,
     "end_time": "2025-01-01T19:24:12.955092",
     "exception": false,
     "start_time": "2025-01-01T19:24:12.588955",
     "status": "completed"
    },
    "tags": []
   },
   "outputs": [
    {
     "name": "stderr",
     "output_type": "stream",
     "text": [
      "<ipython-input-25-509d50a529d6>:2: SettingWithCopyWarning: \n",
      "A value is trying to be set on a copy of a slice from a DataFrame.\n",
      "Try using .loc[row_indexer,col_indexer] = value instead\n",
      "\n",
      "See the caveats in the documentation: https://pandas.pydata.org/pandas-docs/stable/user_guide/indexing.html#returning-a-view-versus-a-copy\n",
      "  df_reviews_final['word_count'] = df_reviews_final['final_text'].str.split().apply(len)\n"
     ]
    },
    {
     "data": {
      "text/plain": [
       "<Axes: title={'center': 'Word Count Distribution'}, ylabel='Frequency'>"
      ]
     },
     "execution_count": 25,
     "metadata": {},
     "output_type": "execute_result"
    },
    {
     "data": {
      "image/png": "[encoded data removed]",
      "text/plain": [
       "<Figure size 640x480 with 1 Axes>"
      ]
     },
     "metadata": {},
     "output_type": "display_data"
    }
   ],
   "source": [
    "# Word count distribution\n",
    "df_reviews_final['word_count'] = df_reviews_final['final_text'].str.split().apply(len)\n",
    "df_reviews_final['word_count'].plot(kind='hist', bins=20, title='Word Count Distribution')"
   ]
  },
  {
   "cell_type": "markdown",
   "id": "0659914b",
   "metadata": {
    "papermill": {
     "duration": 0.012829,
     "end_time": "2025-01-01T19:24:12.981310",
     "exception": false,
     "start_time": "2025-01-01T19:24:12.968481",
     "status": "completed"
    },
    "tags": []
   },
   "source": [
    "## Text Preprocessing"
   ]
  },
  {
   "cell_type": "markdown",
   "id": "6c78f51d",
   "metadata": {
    "papermill": {
     "duration": 0.01271,
     "end_time": "2025-01-01T19:24:13.007046",
     "exception": false,
     "start_time": "2025-01-01T19:24:12.994336",
     "status": "completed"
    },
    "tags": []
   },
   "source": [
    "### Cleaning reviews"
   ]
  },
  {
   "cell_type": "code",
   "execution_count": 26,
   "id": "02050e2f",
   "metadata": {
    "execution": {
     "iopub.execute_input": "2025-01-01T19:24:13.034521Z",
     "iopub.status.busy": "2025-01-01T19:24:13.034170Z",
     "iopub.status.idle": "2025-01-01T19:24:13.117001Z",
     "shell.execute_reply": "2025-01-01T19:24:13.115840Z"
    },
    "papermill": {
     "duration": 0.098627,
     "end_time": "2025-01-01T19:24:13.118805",
     "exception": false,
     "start_time": "2025-01-01T19:24:13.020178",
     "status": "completed"
    },
    "tags": []
   },
   "outputs": [
    {
     "name": "stderr",
     "output_type": "stream",
     "text": [
      "<ipython-input-26-66fea8d60acb>:15: SettingWithCopyWarning: \n",
      "A value is trying to be set on a copy of a slice from a DataFrame.\n",
      "Try using .loc[row_indexer,col_indexer] = value instead\n",
      "\n",
      "See the caveats in the documentation: https://pandas.pydata.org/pandas-docs/stable/user_guide/indexing.html#returning-a-view-versus-a-copy\n",
      "  df_reviews_final.loc[:, 'cleaned_text'] = df_reviews_final['final_text'].apply(clean_text)\n"
     ]
    }
   ],
   "source": [
    "import re\n",
    "\n",
    "def clean_text(text):\n",
    "    # Remove URLs, HTML tags, and special characters\n",
    "    text = re.sub(r\"http\\S+|www\\S+|https\\S+\", '', text, flags=re.MULTILINE)\n",
    "    text = re.sub(r'<.*?>', '', text)\n",
    "    text = re.sub(r'[^a-zA-Z0-9\\s]', '', text)\n",
    "    \n",
    "    # Convert to lowercase\n",
    "    text = text.lower()\n",
    "    \n",
    "    return text.strip()\n",
    "\n",
    "    \n",
    "df_reviews_final.loc[:, 'cleaned_text'] = df_reviews_final['final_text'].apply(clean_text)\n",
    "\n"
   ]
  },
  {
   "cell_type": "code",
   "execution_count": 27,
   "id": "b06634f1",
   "metadata": {
    "execution": {
     "iopub.execute_input": "2025-01-01T19:24:13.147550Z",
     "iopub.status.busy": "2025-01-01T19:24:13.147192Z",
     "iopub.status.idle": "2025-01-01T19:24:13.161786Z",
     "shell.execute_reply": "2025-01-01T19:24:13.160810Z"
    },
    "papermill": {
     "duration": 0.031223,
     "end_time": "2025-01-01T19:24:13.163477",
     "exception": false,
     "start_time": "2025-01-01T19:24:13.132254",
     "status": "completed"
    },
    "tags": []
   },
   "outputs": [
    {
     "data": {
      "text/html": [
       "<div>\n",
       "<style scoped>\n",
       "    .dataframe tbody tr th:only-of-type {\n",
       "        vertical-align: middle;\n",
       "    }\n",
       "\n",
       "    .dataframe tbody tr th {\n",
       "        vertical-align: top;\n",
       "    }\n",
       "\n",
       "    .dataframe thead th {\n",
       "        text-align: right;\n",
       "    }\n",
       "</style>\n",
       "<table border=\"1\" class=\"dataframe\">\n",
       "  <thead>\n",
       "    <tr style=\"text-align: right;\">\n",
       "      <th></th>\n",
       "      <th>grade</th>\n",
       "      <th>user_name</th>\n",
       "      <th>date</th>\n",
       "      <th>final_text</th>\n",
       "      <th>word_count</th>\n",
       "      <th>cleaned_text</th>\n",
       "    </tr>\n",
       "  </thead>\n",
       "  <tbody>\n",
       "    <tr>\n",
       "      <th>0</th>\n",
       "      <td>4</td>\n",
       "      <td>mds27272</td>\n",
       "      <td>2020-03-20</td>\n",
       "      <td>My gf started playing before me. No option to ...</td>\n",
       "      <td>70</td>\n",
       "      <td>my gf started playing before me no option to c...</td>\n",
       "    </tr>\n",
       "    <tr>\n",
       "      <th>1</th>\n",
       "      <td>5</td>\n",
       "      <td>lolo2178</td>\n",
       "      <td>2020-03-20</td>\n",
       "      <td>While the game itself is great, really relaxin...</td>\n",
       "      <td>167</td>\n",
       "      <td>while the game itself is great really relaxing...</td>\n",
       "    </tr>\n",
       "    <tr>\n",
       "      <th>2</th>\n",
       "      <td>0</td>\n",
       "      <td>Roachant</td>\n",
       "      <td>2020-03-20</td>\n",
       "      <td>My wife and I were looking forward to playing ...</td>\n",
       "      <td>185</td>\n",
       "      <td>my wife and i were looking forward to playing ...</td>\n",
       "    </tr>\n",
       "    <tr>\n",
       "      <th>3</th>\n",
       "      <td>0</td>\n",
       "      <td>Houndf</td>\n",
       "      <td>2020-03-20</td>\n",
       "      <td>We need equal values and opportunities for all...</td>\n",
       "      <td>56</td>\n",
       "      <td>we need equal values and opportunities for all...</td>\n",
       "    </tr>\n",
       "    <tr>\n",
       "      <th>4</th>\n",
       "      <td>0</td>\n",
       "      <td>ProfessorFox</td>\n",
       "      <td>2020-03-20</td>\n",
       "      <td>BEWARE!  If you have multiple people in your h...</td>\n",
       "      <td>183</td>\n",
       "      <td>beware  if you have multiple people in your ho...</td>\n",
       "    </tr>\n",
       "    <tr>\n",
       "      <th>...</th>\n",
       "      <td>...</td>\n",
       "      <td>...</td>\n",
       "      <td>...</td>\n",
       "      <td>...</td>\n",
       "      <td>...</td>\n",
       "      <td>...</td>\n",
       "    </tr>\n",
       "    <tr>\n",
       "      <th>2824</th>\n",
       "      <td>0</td>\n",
       "      <td>crazycasti</td>\n",
       "      <td>2020-05-03</td>\n",
       "      <td>For those who say I don't understand review bo...</td>\n",
       "      <td>18</td>\n",
       "      <td>for those who say i dont understand review bom...</td>\n",
       "    </tr>\n",
       "    <tr>\n",
       "      <th>2825</th>\n",
       "      <td>1</td>\n",
       "      <td>TakezoShinmen</td>\n",
       "      <td>2020-05-03</td>\n",
       "      <td>1 Island for console limitation.I cannot play ...</td>\n",
       "      <td>25</td>\n",
       "      <td>1 island for console limitationi cannot play t...</td>\n",
       "    </tr>\n",
       "    <tr>\n",
       "      <th>2826</th>\n",
       "      <td>0</td>\n",
       "      <td>Lemmeadem</td>\n",
       "      <td>2020-05-03</td>\n",
       "      <td>One island per console is a pathetic limitatio...</td>\n",
       "      <td>69</td>\n",
       "      <td>one island per console is a pathetic limitatio...</td>\n",
       "    </tr>\n",
       "    <tr>\n",
       "      <th>2827</th>\n",
       "      <td>2</td>\n",
       "      <td>TandemTester938</td>\n",
       "      <td>2020-05-03</td>\n",
       "      <td>Even though it seems like a great game with ma...</td>\n",
       "      <td>45</td>\n",
       "      <td>even though it seems like a great game with ma...</td>\n",
       "    </tr>\n",
       "    <tr>\n",
       "      <th>2828</th>\n",
       "      <td>4</td>\n",
       "      <td>DwerG</td>\n",
       "      <td>2020-05-03</td>\n",
       "      <td>Game is fantastic.Nintendo deciding that you c...</td>\n",
       "      <td>20</td>\n",
       "      <td>game is fantasticnintendo deciding that you ca...</td>\n",
       "    </tr>\n",
       "  </tbody>\n",
       "</table>\n",
       "<p>2829 rows × 6 columns</p>\n",
       "</div>"
      ],
      "text/plain": [
       "      grade        user_name       date  \\\n",
       "0         4         mds27272 2020-03-20   \n",
       "1         5         lolo2178 2020-03-20   \n",
       "2         0         Roachant 2020-03-20   \n",
       "3         0           Houndf 2020-03-20   \n",
       "4         0     ProfessorFox 2020-03-20   \n",
       "...     ...              ...        ...   \n",
       "2824      0       crazycasti 2020-05-03   \n",
       "2825      1    TakezoShinmen 2020-05-03   \n",
       "2826      0        Lemmeadem 2020-05-03   \n",
       "2827      2  TandemTester938 2020-05-03   \n",
       "2828      4            DwerG 2020-05-03   \n",
       "\n",
       "                                             final_text  word_count  \\\n",
       "0     My gf started playing before me. No option to ...          70   \n",
       "1     While the game itself is great, really relaxin...         167   \n",
       "2     My wife and I were looking forward to playing ...         185   \n",
       "3     We need equal values and opportunities for all...          56   \n",
       "4     BEWARE!  If you have multiple people in your h...         183   \n",
       "...                                                 ...         ...   \n",
       "2824  For those who say I don't understand review bo...          18   \n",
       "2825  1 Island for console limitation.I cannot play ...          25   \n",
       "2826  One island per console is a pathetic limitatio...          69   \n",
       "2827  Even though it seems like a great game with ma...          45   \n",
       "2828  Game is fantastic.Nintendo deciding that you c...          20   \n",
       "\n",
       "                                           cleaned_text  \n",
       "0     my gf started playing before me no option to c...  \n",
       "1     while the game itself is great really relaxing...  \n",
       "2     my wife and i were looking forward to playing ...  \n",
       "3     we need equal values and opportunities for all...  \n",
       "4     beware  if you have multiple people in your ho...  \n",
       "...                                                 ...  \n",
       "2824  for those who say i dont understand review bom...  \n",
       "2825  1 island for console limitationi cannot play t...  \n",
       "2826  one island per console is a pathetic limitatio...  \n",
       "2827  even though it seems like a great game with ma...  \n",
       "2828  game is fantasticnintendo deciding that you ca...  \n",
       "\n",
       "[2829 rows x 6 columns]"
      ]
     },
     "execution_count": 27,
     "metadata": {},
     "output_type": "execute_result"
    }
   ],
   "source": [
    "df_reviews_final"
   ]
  },
  {
   "cell_type": "markdown",
   "id": "61074cad",
   "metadata": {
    "papermill": {
     "duration": 0.013354,
     "end_time": "2025-01-01T19:24:13.191129",
     "exception": false,
     "start_time": "2025-01-01T19:24:13.177775",
     "status": "completed"
    },
    "tags": []
   },
   "source": [
    "## Tokenisation"
   ]
  },
  {
   "cell_type": "code",
   "execution_count": 28,
   "id": "c1fe6b53",
   "metadata": {
    "execution": {
     "iopub.execute_input": "2025-01-01T19:24:13.219561Z",
     "iopub.status.busy": "2025-01-01T19:24:13.219192Z",
     "iopub.status.idle": "2025-01-01T19:24:17.226476Z",
     "shell.execute_reply": "2025-01-01T19:24:17.225303Z"
    },
    "papermill": {
     "duration": 4.023819,
     "end_time": "2025-01-01T19:24:17.228517",
     "exception": false,
     "start_time": "2025-01-01T19:24:13.204698",
     "status": "completed"
    },
    "tags": []
   },
   "outputs": [],
   "source": [
    "from nltk.tokenize import word_tokenize\n",
    "\n",
    "df_reviews_final['tokens'] = df_reviews_final['cleaned_text'].apply(word_tokenize)\n"
   ]
  },
  {
   "cell_type": "code",
   "execution_count": 29,
   "id": "34748ca2",
   "metadata": {
    "execution": {
     "iopub.execute_input": "2025-01-01T19:24:17.257630Z",
     "iopub.status.busy": "2025-01-01T19:24:17.257067Z",
     "iopub.status.idle": "2025-01-01T19:24:17.277712Z",
     "shell.execute_reply": "2025-01-01T19:24:17.276745Z"
    },
    "papermill": {
     "duration": 0.037383,
     "end_time": "2025-01-01T19:24:17.279628",
     "exception": false,
     "start_time": "2025-01-01T19:24:17.242245",
     "status": "completed"
    },
    "tags": []
   },
   "outputs": [
    {
     "data": {
      "text/html": [
       "<div>\n",
       "<style scoped>\n",
       "    .dataframe tbody tr th:only-of-type {\n",
       "        vertical-align: middle;\n",
       "    }\n",
       "\n",
       "    .dataframe tbody tr th {\n",
       "        vertical-align: top;\n",
       "    }\n",
       "\n",
       "    .dataframe thead th {\n",
       "        text-align: right;\n",
       "    }\n",
       "</style>\n",
       "<table border=\"1\" class=\"dataframe\">\n",
       "  <thead>\n",
       "    <tr style=\"text-align: right;\">\n",
       "      <th></th>\n",
       "      <th>grade</th>\n",
       "      <th>user_name</th>\n",
       "      <th>date</th>\n",
       "      <th>final_text</th>\n",
       "      <th>word_count</th>\n",
       "      <th>cleaned_text</th>\n",
       "      <th>tokens</th>\n",
       "    </tr>\n",
       "  </thead>\n",
       "  <tbody>\n",
       "    <tr>\n",
       "      <th>0</th>\n",
       "      <td>4</td>\n",
       "      <td>mds27272</td>\n",
       "      <td>2020-03-20</td>\n",
       "      <td>My gf started playing before me. No option to ...</td>\n",
       "      <td>70</td>\n",
       "      <td>my gf started playing before me no option to c...</td>\n",
       "      <td>[my, gf, started, playing, before, me, no, opt...</td>\n",
       "    </tr>\n",
       "    <tr>\n",
       "      <th>1</th>\n",
       "      <td>5</td>\n",
       "      <td>lolo2178</td>\n",
       "      <td>2020-03-20</td>\n",
       "      <td>While the game itself is great, really relaxin...</td>\n",
       "      <td>167</td>\n",
       "      <td>while the game itself is great really relaxing...</td>\n",
       "      <td>[while, the, game, itself, is, great, really, ...</td>\n",
       "    </tr>\n",
       "    <tr>\n",
       "      <th>2</th>\n",
       "      <td>0</td>\n",
       "      <td>Roachant</td>\n",
       "      <td>2020-03-20</td>\n",
       "      <td>My wife and I were looking forward to playing ...</td>\n",
       "      <td>185</td>\n",
       "      <td>my wife and i were looking forward to playing ...</td>\n",
       "      <td>[my, wife, and, i, were, looking, forward, to,...</td>\n",
       "    </tr>\n",
       "    <tr>\n",
       "      <th>3</th>\n",
       "      <td>0</td>\n",
       "      <td>Houndf</td>\n",
       "      <td>2020-03-20</td>\n",
       "      <td>We need equal values and opportunities for all...</td>\n",
       "      <td>56</td>\n",
       "      <td>we need equal values and opportunities for all...</td>\n",
       "      <td>[we, need, equal, values, and, opportunities, ...</td>\n",
       "    </tr>\n",
       "    <tr>\n",
       "      <th>4</th>\n",
       "      <td>0</td>\n",
       "      <td>ProfessorFox</td>\n",
       "      <td>2020-03-20</td>\n",
       "      <td>BEWARE!  If you have multiple people in your h...</td>\n",
       "      <td>183</td>\n",
       "      <td>beware  if you have multiple people in your ho...</td>\n",
       "      <td>[beware, if, you, have, multiple, people, in, ...</td>\n",
       "    </tr>\n",
       "    <tr>\n",
       "      <th>...</th>\n",
       "      <td>...</td>\n",
       "      <td>...</td>\n",
       "      <td>...</td>\n",
       "      <td>...</td>\n",
       "      <td>...</td>\n",
       "      <td>...</td>\n",
       "      <td>...</td>\n",
       "    </tr>\n",
       "    <tr>\n",
       "      <th>2824</th>\n",
       "      <td>0</td>\n",
       "      <td>crazycasti</td>\n",
       "      <td>2020-05-03</td>\n",
       "      <td>For those who say I don't understand review bo...</td>\n",
       "      <td>18</td>\n",
       "      <td>for those who say i dont understand review bom...</td>\n",
       "      <td>[for, those, who, say, i, dont, understand, re...</td>\n",
       "    </tr>\n",
       "    <tr>\n",
       "      <th>2825</th>\n",
       "      <td>1</td>\n",
       "      <td>TakezoShinmen</td>\n",
       "      <td>2020-05-03</td>\n",
       "      <td>1 Island for console limitation.I cannot play ...</td>\n",
       "      <td>25</td>\n",
       "      <td>1 island for console limitationi cannot play t...</td>\n",
       "      <td>[1, island, for, console, limitationi, can, no...</td>\n",
       "    </tr>\n",
       "    <tr>\n",
       "      <th>2826</th>\n",
       "      <td>0</td>\n",
       "      <td>Lemmeadem</td>\n",
       "      <td>2020-05-03</td>\n",
       "      <td>One island per console is a pathetic limitatio...</td>\n",
       "      <td>69</td>\n",
       "      <td>one island per console is a pathetic limitatio...</td>\n",
       "      <td>[one, island, per, console, is, a, pathetic, l...</td>\n",
       "    </tr>\n",
       "    <tr>\n",
       "      <th>2827</th>\n",
       "      <td>2</td>\n",
       "      <td>TandemTester938</td>\n",
       "      <td>2020-05-03</td>\n",
       "      <td>Even though it seems like a great game with ma...</td>\n",
       "      <td>45</td>\n",
       "      <td>even though it seems like a great game with ma...</td>\n",
       "      <td>[even, though, it, seems, like, a, great, game...</td>\n",
       "    </tr>\n",
       "    <tr>\n",
       "      <th>2828</th>\n",
       "      <td>4</td>\n",
       "      <td>DwerG</td>\n",
       "      <td>2020-05-03</td>\n",
       "      <td>Game is fantastic.Nintendo deciding that you c...</td>\n",
       "      <td>20</td>\n",
       "      <td>game is fantasticnintendo deciding that you ca...</td>\n",
       "      <td>[game, is, fantasticnintendo, deciding, that, ...</td>\n",
       "    </tr>\n",
       "  </tbody>\n",
       "</table>\n",
       "<p>2829 rows × 7 columns</p>\n",
       "</div>"
      ],
      "text/plain": [
       "      grade        user_name       date  \\\n",
       "0         4         mds27272 2020-03-20   \n",
       "1         5         lolo2178 2020-03-20   \n",
       "2         0         Roachant 2020-03-20   \n",
       "3         0           Houndf 2020-03-20   \n",
       "4         0     ProfessorFox 2020-03-20   \n",
       "...     ...              ...        ...   \n",
       "2824      0       crazycasti 2020-05-03   \n",
       "2825      1    TakezoShinmen 2020-05-03   \n",
       "2826      0        Lemmeadem 2020-05-03   \n",
       "2827      2  TandemTester938 2020-05-03   \n",
       "2828      4            DwerG 2020-05-03   \n",
       "\n",
       "                                             final_text  word_count  \\\n",
       "0     My gf started playing before me. No option to ...          70   \n",
       "1     While the game itself is great, really relaxin...         167   \n",
       "2     My wife and I were looking forward to playing ...         185   \n",
       "3     We need equal values and opportunities for all...          56   \n",
       "4     BEWARE!  If you have multiple people in your h...         183   \n",
       "...                                                 ...         ...   \n",
       "2824  For those who say I don't understand review bo...          18   \n",
       "2825  1 Island for console limitation.I cannot play ...          25   \n",
       "2826  One island per console is a pathetic limitatio...          69   \n",
       "2827  Even though it seems like a great game with ma...          45   \n",
       "2828  Game is fantastic.Nintendo deciding that you c...          20   \n",
       "\n",
       "                                           cleaned_text  \\\n",
       "0     my gf started playing before me no option to c...   \n",
       "1     while the game itself is great really relaxing...   \n",
       "2     my wife and i were looking forward to playing ...   \n",
       "3     we need equal values and opportunities for all...   \n",
       "4     beware  if you have multiple people in your ho...   \n",
       "...                                                 ...   \n",
       "2824  for those who say i dont understand review bom...   \n",
       "2825  1 island for console limitationi cannot play t...   \n",
       "2826  one island per console is a pathetic limitatio...   \n",
       "2827  even though it seems like a great game with ma...   \n",
       "2828  game is fantasticnintendo deciding that you ca...   \n",
       "\n",
       "                                                 tokens  \n",
       "0     [my, gf, started, playing, before, me, no, opt...  \n",
       "1     [while, the, game, itself, is, great, really, ...  \n",
       "2     [my, wife, and, i, were, looking, forward, to,...  \n",
       "3     [we, need, equal, values, and, opportunities, ...  \n",
       "4     [beware, if, you, have, multiple, people, in, ...  \n",
       "...                                                 ...  \n",
       "2824  [for, those, who, say, i, dont, understand, re...  \n",
       "2825  [1, island, for, console, limitationi, can, no...  \n",
       "2826  [one, island, per, console, is, a, pathetic, l...  \n",
       "2827  [even, though, it, seems, like, a, great, game...  \n",
       "2828  [game, is, fantasticnintendo, deciding, that, ...  \n",
       "\n",
       "[2829 rows x 7 columns]"
      ]
     },
     "execution_count": 29,
     "metadata": {},
     "output_type": "execute_result"
    }
   ],
   "source": [
    "df_reviews_final"
   ]
  },
  {
   "cell_type": "markdown",
   "id": "70425d74",
   "metadata": {
    "papermill": {
     "duration": 0.013714,
     "end_time": "2025-01-01T19:24:17.307353",
     "exception": false,
     "start_time": "2025-01-01T19:24:17.293639",
     "status": "completed"
    },
    "tags": []
   },
   "source": [
    "## Remove stop words"
   ]
  },
  {
   "cell_type": "code",
   "execution_count": 30,
   "id": "f95c531f",
   "metadata": {
    "execution": {
     "iopub.execute_input": "2025-01-01T19:24:17.336648Z",
     "iopub.status.busy": "2025-01-01T19:24:17.336281Z",
     "iopub.status.idle": "2025-01-01T19:24:17.455235Z",
     "shell.execute_reply": "2025-01-01T19:24:17.453950Z"
    },
    "papermill": {
     "duration": 0.135543,
     "end_time": "2025-01-01T19:24:17.456972",
     "exception": false,
     "start_time": "2025-01-01T19:24:17.321429",
     "status": "completed"
    },
    "tags": []
   },
   "outputs": [
    {
     "name": "stdout",
     "output_type": "stream",
     "text": [
      "[nltk_data] Downloading package stopwords to /usr/share/nltk_data...\n",
      "[nltk_data]   Package stopwords is already up-to-date!\n"
     ]
    }
   ],
   "source": [
    "from nltk.corpus import stopwords\n",
    "from nltk.tokenize import word_tokenize\n",
    "\n",
    "# Download stopwords\n",
    "import nltk\n",
    "nltk.download('stopwords')\n",
    "stop_words = set(stopwords.words('english'))\n",
    "\n",
    "# Remove stopwords from tokens\n",
    "def remove_stopwords(tokens):\n",
    "    return [word for word in tokens if word not in stop_words]\n",
    "\n",
    "# Apply to your tokenized column\n",
    "df_reviews_final['tokens'] = df_reviews_final['tokens'].apply(remove_stopwords)\n"
   ]
  },
  {
   "cell_type": "markdown",
   "id": "1d3319af",
   "metadata": {
    "papermill": {
     "duration": 0.013572,
     "end_time": "2025-01-01T19:24:17.484459",
     "exception": false,
     "start_time": "2025-01-01T19:24:17.470887",
     "status": "completed"
    },
    "tags": []
   },
   "source": [
    "## Define model"
   ]
  },
  {
   "cell_type": "code",
   "execution_count": 31,
   "id": "a8ce8b46",
   "metadata": {
    "execution": {
     "iopub.execute_input": "2025-01-01T19:24:17.514030Z",
     "iopub.status.busy": "2025-01-01T19:24:17.513659Z",
     "iopub.status.idle": "2025-01-01T19:24:33.560614Z",
     "shell.execute_reply": "2025-01-01T19:24:33.559548Z"
    },
    "papermill": {
     "duration": 16.064039,
     "end_time": "2025-01-01T19:24:33.562449",
     "exception": false,
     "start_time": "2025-01-01T19:24:17.498410",
     "status": "completed"
    },
    "tags": []
   },
   "outputs": [],
   "source": [
    "from gensim.models import Word2Vec\n",
    "\n",
    "model = Word2Vec(sentences=df_reviews_final['tokens'], vector_size=100, window=5, min_count=1)\n",
    "word_vectors = model.wv\n"
   ]
  },
  {
   "cell_type": "markdown",
   "id": "753f77f7",
   "metadata": {
    "papermill": {
     "duration": 0.013362,
     "end_time": "2025-01-01T19:24:33.590115",
     "exception": false,
     "start_time": "2025-01-01T19:24:33.576753",
     "status": "completed"
    },
    "tags": []
   },
   "source": [
    "## Check word similarity"
   ]
  },
  {
   "cell_type": "code",
   "execution_count": 32,
   "id": "8f8add39",
   "metadata": {
    "execution": {
     "iopub.execute_input": "2025-01-01T19:24:33.618852Z",
     "iopub.status.busy": "2025-01-01T19:24:33.618283Z",
     "iopub.status.idle": "2025-01-01T19:24:33.634278Z",
     "shell.execute_reply": "2025-01-01T19:24:33.632479Z"
    },
    "papermill": {
     "duration": 0.032796,
     "end_time": "2025-01-01T19:24:33.636539",
     "exception": false,
     "start_time": "2025-01-01T19:24:33.603743",
     "status": "completed"
    },
    "tags": []
   },
   "outputs": [
    {
     "name": "stdout",
     "output_type": "stream",
     "text": [
      "[('either', 0.9974322319030762), ('choose', 0.9968093633651733), ('annoying', 0.9967028498649597), ('instead', 0.9965804219245911), ('awful', 0.9963663816452026), ('split', 0.9961092472076416), ('impact', 0.9961041808128357), ('90', 0.996071994304657), ('ability', 0.9959425330162048), ('caused', 0.9958658218383789)]\n"
     ]
    }
   ],
   "source": [
    "# Check the most similar words for a given word\n",
    "similar_words = word_vectors.most_similar('improve', topn=10)\n",
    "print(similar_words)\n"
   ]
  },
  {
   "cell_type": "code",
   "execution_count": 33,
   "id": "ee2297b9",
   "metadata": {
    "execution": {
     "iopub.execute_input": "2025-01-01T19:24:33.692030Z",
     "iopub.status.busy": "2025-01-01T19:24:33.691524Z",
     "iopub.status.idle": "2025-01-01T19:24:35.715353Z",
     "shell.execute_reply": "2025-01-01T19:24:35.714194Z"
    },
    "papermill": {
     "duration": 2.054638,
     "end_time": "2025-01-01T19:24:35.717975",
     "exception": false,
     "start_time": "2025-01-01T19:24:33.663337",
     "status": "completed"
    },
    "tags": []
   },
   "outputs": [
    {
     "data": {
      "image/png": "[encoded data removed]",
      "text/plain": [
       "<Figure size 1000x1000 with 1 Axes>"
      ]
     },
     "metadata": {},
     "output_type": "display_data"
    }
   ],
   "source": [
    "from sklearn.manifold import TSNE\n",
    "import matplotlib.pyplot as plt\n",
    "\n",
    "# Get word vectors and their corresponding words\n",
    "words = list(model.wv.index_to_key)\n",
    "word_vectors = model.wv[words]\n",
    "\n",
    "# Use t-SNE to reduce dimensionality\n",
    "tsne = TSNE(n_components=2, random_state=42)\n",
    "reduced_vectors = tsne.fit_transform(word_vectors[:100])  # Use the first 100 words for visualization\n",
    "\n",
    "# Plot the embeddings\n",
    "plt.figure(figsize=(10, 10))\n",
    "for i, word in enumerate(words[:100]):\n",
    "    plt.scatter(reduced_vectors[i, 0], reduced_vectors[i, 1])\n",
    "    plt.text(reduced_vectors[i, 0], reduced_vectors[i, 1], word)\n",
    "plt.title(\"Word Embeddings Visualization\")\n",
    "plt.show()\n"
   ]
  },
  {
   "cell_type": "markdown",
   "id": "813a1caf",
   "metadata": {
    "papermill": {
     "duration": 0.016333,
     "end_time": "2025-01-01T19:24:35.751495",
     "exception": false,
     "start_time": "2025-01-01T19:24:35.735162",
     "status": "completed"
    },
    "tags": []
   },
   "source": [
    "\n",
    "* Clustering:\n",
    "    * Words that are semantically or contextually similar are placed closer together.\n",
    "        * For example:Words like animal, crossing, and game may cluster near each other if they frequently appear in similar contexts in the reviews.\n",
    "* Spread:\n",
    "    * Common words like the, is, and may be scattered because they don't carry much contextual meaning (stopwords).\n",
    "    * We might consider removing them for certain tasks.\n",
    "\n",
    "* Domain-Specific Relationships:\n",
    "    * Words like multiplayer, Nintendo, and games likely form a distinct cluster related to gaming concepts\n",
    "\n"
   ]
  },
  {
   "cell_type": "code",
   "execution_count": 34,
   "id": "9d3d70b4",
   "metadata": {
    "execution": {
     "iopub.execute_input": "2025-01-01T19:24:35.786619Z",
     "iopub.status.busy": "2025-01-01T19:24:35.786217Z",
     "iopub.status.idle": "2025-01-01T19:24:36.231127Z",
     "shell.execute_reply": "2025-01-01T19:24:36.229963Z"
    },
    "papermill": {
     "duration": 0.464556,
     "end_time": "2025-01-01T19:24:36.233065",
     "exception": false,
     "start_time": "2025-01-01T19:24:35.768509",
     "status": "completed"
    },
    "tags": []
   },
   "outputs": [],
   "source": [
    "import numpy as np\n",
    "\n",
    "def get_review_vector(review_tokens, model):\n",
    "    vectors = [model.wv[word] for word in review_tokens if word in model.wv]\n",
    "    if len(vectors) > 0:\n",
    "        return np.mean(vectors, axis=0)  # Average the vectors\n",
    "    else:\n",
    "        return np.zeros(model.vector_size)  # Return a zero vector if no words are in the model\n",
    "\n",
    "df_reviews_final['review_vector'] = df_reviews_final['tokens'].apply(lambda x: get_review_vector(x, model))\n"
   ]
  },
  {
   "cell_type": "code",
   "execution_count": 35,
   "id": "dbf5bdd2",
   "metadata": {
    "execution": {
     "iopub.execute_input": "2025-01-01T19:24:36.267343Z",
     "iopub.status.busy": "2025-01-01T19:24:36.266915Z",
     "iopub.status.idle": "2025-01-01T19:24:36.294024Z",
     "shell.execute_reply": "2025-01-01T19:24:36.293073Z"
    },
    "papermill": {
     "duration": 0.046052,
     "end_time": "2025-01-01T19:24:36.295577",
     "exception": false,
     "start_time": "2025-01-01T19:24:36.249525",
     "status": "completed"
    },
    "tags": []
   },
   "outputs": [
    {
     "data": {
      "text/html": [
       "<div>\n",
       "<style scoped>\n",
       "    .dataframe tbody tr th:only-of-type {\n",
       "        vertical-align: middle;\n",
       "    }\n",
       "\n",
       "    .dataframe tbody tr th {\n",
       "        vertical-align: top;\n",
       "    }\n",
       "\n",
       "    .dataframe thead th {\n",
       "        text-align: right;\n",
       "    }\n",
       "</style>\n",
       "<table border=\"1\" class=\"dataframe\">\n",
       "  <thead>\n",
       "    <tr style=\"text-align: right;\">\n",
       "      <th></th>\n",
       "      <th>grade</th>\n",
       "      <th>user_name</th>\n",
       "      <th>date</th>\n",
       "      <th>final_text</th>\n",
       "      <th>word_count</th>\n",
       "      <th>cleaned_text</th>\n",
       "      <th>tokens</th>\n",
       "      <th>review_vector</th>\n",
       "    </tr>\n",
       "  </thead>\n",
       "  <tbody>\n",
       "    <tr>\n",
       "      <th>0</th>\n",
       "      <td>4</td>\n",
       "      <td>mds27272</td>\n",
       "      <td>2020-03-20</td>\n",
       "      <td>My gf started playing before me. No option to ...</td>\n",
       "      <td>70</td>\n",
       "      <td>my gf started playing before me no option to c...</td>\n",
       "      <td>[gf, started, playing, option, create, island,...</td>\n",
       "      <td>[-0.44274276, 0.8890168, 0.29076788, 0.294471,...</td>\n",
       "    </tr>\n",
       "    <tr>\n",
       "      <th>1</th>\n",
       "      <td>5</td>\n",
       "      <td>lolo2178</td>\n",
       "      <td>2020-03-20</td>\n",
       "      <td>While the game itself is great, really relaxin...</td>\n",
       "      <td>167</td>\n",
       "      <td>while the game itself is great really relaxing...</td>\n",
       "      <td>[game, great, really, relaxing, gorgeous, cant...</td>\n",
       "      <td>[-0.42564285, 0.9105627, 0.24217238, 0.3019949...</td>\n",
       "    </tr>\n",
       "    <tr>\n",
       "      <th>2</th>\n",
       "      <td>0</td>\n",
       "      <td>Roachant</td>\n",
       "      <td>2020-03-20</td>\n",
       "      <td>My wife and I were looking forward to playing ...</td>\n",
       "      <td>185</td>\n",
       "      <td>my wife and i were looking forward to playing ...</td>\n",
       "      <td>[wife, looking, forward, playing, game, releas...</td>\n",
       "      <td>[-0.47513074, 0.9097772, 0.27772272, 0.2292500...</td>\n",
       "    </tr>\n",
       "    <tr>\n",
       "      <th>3</th>\n",
       "      <td>0</td>\n",
       "      <td>Houndf</td>\n",
       "      <td>2020-03-20</td>\n",
       "      <td>We need equal values and opportunities for all...</td>\n",
       "      <td>56</td>\n",
       "      <td>we need equal values and opportunities for all...</td>\n",
       "      <td>[need, equal, values, opportunities, players, ...</td>\n",
       "      <td>[-0.38507497, 0.7987896, 0.2778269, 0.20202516...</td>\n",
       "    </tr>\n",
       "    <tr>\n",
       "      <th>4</th>\n",
       "      <td>0</td>\n",
       "      <td>ProfessorFox</td>\n",
       "      <td>2020-03-20</td>\n",
       "      <td>BEWARE!  If you have multiple people in your h...</td>\n",
       "      <td>183</td>\n",
       "      <td>beware  if you have multiple people in your ho...</td>\n",
       "      <td>[beware, multiple, people, house, want, play, ...</td>\n",
       "      <td>[-0.45172697, 1.002754, 0.25560942, 0.40386555...</td>\n",
       "    </tr>\n",
       "    <tr>\n",
       "      <th>...</th>\n",
       "      <td>...</td>\n",
       "      <td>...</td>\n",
       "      <td>...</td>\n",
       "      <td>...</td>\n",
       "      <td>...</td>\n",
       "      <td>...</td>\n",
       "      <td>...</td>\n",
       "      <td>...</td>\n",
       "    </tr>\n",
       "    <tr>\n",
       "      <th>2824</th>\n",
       "      <td>0</td>\n",
       "      <td>crazycasti</td>\n",
       "      <td>2020-05-03</td>\n",
       "      <td>For those who say I don't understand review bo...</td>\n",
       "      <td>18</td>\n",
       "      <td>for those who say i dont understand review bom...</td>\n",
       "      <td>[say, dont, understand, review, bombing, well,...</td>\n",
       "      <td>[-0.27330008, 0.79044384, 0.11075065, 0.076506...</td>\n",
       "    </tr>\n",
       "    <tr>\n",
       "      <th>2825</th>\n",
       "      <td>1</td>\n",
       "      <td>TakezoShinmen</td>\n",
       "      <td>2020-05-03</td>\n",
       "      <td>1 Island for console limitation.I cannot play ...</td>\n",
       "      <td>25</td>\n",
       "      <td>1 island for console limitationi cannot play t...</td>\n",
       "      <td>[1, island, console, limitationi, play, game, ...</td>\n",
       "      <td>[-0.54184663, 0.8971857, 0.24110292, 0.1960254...</td>\n",
       "    </tr>\n",
       "    <tr>\n",
       "      <th>2826</th>\n",
       "      <td>0</td>\n",
       "      <td>Lemmeadem</td>\n",
       "      <td>2020-05-03</td>\n",
       "      <td>One island per console is a pathetic limitatio...</td>\n",
       "      <td>69</td>\n",
       "      <td>one island per console is a pathetic limitatio...</td>\n",
       "      <td>[one, island, per, console, pathetic, limitati...</td>\n",
       "      <td>[-0.32197064, 0.72512394, 0.19415778, 0.315211...</td>\n",
       "    </tr>\n",
       "    <tr>\n",
       "      <th>2827</th>\n",
       "      <td>2</td>\n",
       "      <td>TandemTester938</td>\n",
       "      <td>2020-05-03</td>\n",
       "      <td>Even though it seems like a great game with ma...</td>\n",
       "      <td>45</td>\n",
       "      <td>even though it seems like a great game with ma...</td>\n",
       "      <td>[even, though, seems, like, great, game, many,...</td>\n",
       "      <td>[-0.35049886, 0.8495273, 0.22013569, 0.2208048...</td>\n",
       "    </tr>\n",
       "    <tr>\n",
       "      <th>2828</th>\n",
       "      <td>4</td>\n",
       "      <td>DwerG</td>\n",
       "      <td>2020-05-03</td>\n",
       "      <td>Game is fantastic.Nintendo deciding that you c...</td>\n",
       "      <td>20</td>\n",
       "      <td>game is fantasticnintendo deciding that you ca...</td>\n",
       "      <td>[game, fantasticnintendo, deciding, make, one,...</td>\n",
       "      <td>[-0.51338816, 1.072779, 0.31375203, 0.51973146...</td>\n",
       "    </tr>\n",
       "  </tbody>\n",
       "</table>\n",
       "<p>2829 rows × 8 columns</p>\n",
       "</div>"
      ],
      "text/plain": [
       "      grade        user_name       date  \\\n",
       "0         4         mds27272 2020-03-20   \n",
       "1         5         lolo2178 2020-03-20   \n",
       "2         0         Roachant 2020-03-20   \n",
       "3         0           Houndf 2020-03-20   \n",
       "4         0     ProfessorFox 2020-03-20   \n",
       "...     ...              ...        ...   \n",
       "2824      0       crazycasti 2020-05-03   \n",
       "2825      1    TakezoShinmen 2020-05-03   \n",
       "2826      0        Lemmeadem 2020-05-03   \n",
       "2827      2  TandemTester938 2020-05-03   \n",
       "2828      4            DwerG 2020-05-03   \n",
       "\n",
       "                                             final_text  word_count  \\\n",
       "0     My gf started playing before me. No option to ...          70   \n",
       "1     While the game itself is great, really relaxin...         167   \n",
       "2     My wife and I were looking forward to playing ...         185   \n",
       "3     We need equal values and opportunities for all...          56   \n",
       "4     BEWARE!  If you have multiple people in your h...         183   \n",
       "...                                                 ...         ...   \n",
       "2824  For those who say I don't understand review bo...          18   \n",
       "2825  1 Island for console limitation.I cannot play ...          25   \n",
       "2826  One island per console is a pathetic limitatio...          69   \n",
       "2827  Even though it seems like a great game with ma...          45   \n",
       "2828  Game is fantastic.Nintendo deciding that you c...          20   \n",
       "\n",
       "                                           cleaned_text  \\\n",
       "0     my gf started playing before me no option to c...   \n",
       "1     while the game itself is great really relaxing...   \n",
       "2     my wife and i were looking forward to playing ...   \n",
       "3     we need equal values and opportunities for all...   \n",
       "4     beware  if you have multiple people in your ho...   \n",
       "...                                                 ...   \n",
       "2824  for those who say i dont understand review bom...   \n",
       "2825  1 island for console limitationi cannot play t...   \n",
       "2826  one island per console is a pathetic limitatio...   \n",
       "2827  even though it seems like a great game with ma...   \n",
       "2828  game is fantasticnintendo deciding that you ca...   \n",
       "\n",
       "                                                 tokens  \\\n",
       "0     [gf, started, playing, option, create, island,...   \n",
       "1     [game, great, really, relaxing, gorgeous, cant...   \n",
       "2     [wife, looking, forward, playing, game, releas...   \n",
       "3     [need, equal, values, opportunities, players, ...   \n",
       "4     [beware, multiple, people, house, want, play, ...   \n",
       "...                                                 ...   \n",
       "2824  [say, dont, understand, review, bombing, well,...   \n",
       "2825  [1, island, console, limitationi, play, game, ...   \n",
       "2826  [one, island, per, console, pathetic, limitati...   \n",
       "2827  [even, though, seems, like, great, game, many,...   \n",
       "2828  [game, fantasticnintendo, deciding, make, one,...   \n",
       "\n",
       "                                          review_vector  \n",
       "0     [-0.44274276, 0.8890168, 0.29076788, 0.294471,...  \n",
       "1     [-0.42564285, 0.9105627, 0.24217238, 0.3019949...  \n",
       "2     [-0.47513074, 0.9097772, 0.27772272, 0.2292500...  \n",
       "3     [-0.38507497, 0.7987896, 0.2778269, 0.20202516...  \n",
       "4     [-0.45172697, 1.002754, 0.25560942, 0.40386555...  \n",
       "...                                                 ...  \n",
       "2824  [-0.27330008, 0.79044384, 0.11075065, 0.076506...  \n",
       "2825  [-0.54184663, 0.8971857, 0.24110292, 0.1960254...  \n",
       "2826  [-0.32197064, 0.72512394, 0.19415778, 0.315211...  \n",
       "2827  [-0.35049886, 0.8495273, 0.22013569, 0.2208048...  \n",
       "2828  [-0.51338816, 1.072779, 0.31375203, 0.51973146...  \n",
       "\n",
       "[2829 rows x 8 columns]"
      ]
     },
     "execution_count": 35,
     "metadata": {},
     "output_type": "execute_result"
    }
   ],
   "source": [
    "df_reviews_final"
   ]
  },
  {
   "cell_type": "code",
   "execution_count": 36,
   "id": "e977bf97",
   "metadata": {
    "execution": {
     "iopub.execute_input": "2025-01-01T19:24:36.330414Z",
     "iopub.status.busy": "2025-01-01T19:24:36.330063Z",
     "iopub.status.idle": "2025-01-01T19:24:36.407230Z",
     "shell.execute_reply": "2025-01-01T19:24:36.404722Z"
    },
    "papermill": {
     "duration": 0.097859,
     "end_time": "2025-01-01T19:24:36.410218",
     "exception": false,
     "start_time": "2025-01-01T19:24:36.312359",
     "status": "completed"
    },
    "tags": []
   },
   "outputs": [
    {
     "name": "stdout",
     "output_type": "stream",
     "text": [
      "              precision    recall  f1-score   support\n",
      "\n",
      "           0       0.85      0.91      0.88       372\n",
      "           1       0.80      0.70      0.74       194\n",
      "\n",
      "    accuracy                           0.84       566\n",
      "   macro avg       0.83      0.80      0.81       566\n",
      "weighted avg       0.83      0.84      0.83       566\n",
      "\n",
      "0.8356890459363958\n"
     ]
    }
   ],
   "source": [
    "from sklearn.linear_model import LogisticRegression\n",
    "from sklearn.model_selection import train_test_split\n",
    "from sklearn.metrics import classification_report\n",
    "from sklearn.metrics import accuracy_score\n",
    "\n",
    "# Create review-level vectors\n",
    "X = np.stack(df_reviews_final['review_vector'].values)\n",
    "y = df_reviews_final['grade'].apply(lambda g: 1 if g >= 6 else 0)  # Positive sentiment: grade >= 6\n",
    "\n",
    "# Train-test split\n",
    "X_train, X_test, y_train, y_test = train_test_split(X, y, test_size=0.2, random_state=42)\n",
    "\n",
    "# Train sentiment classifier\n",
    "model_logis = LogisticRegression()\n",
    "model_logis.fit(X_train, y_train)\n",
    "\n",
    "# Evaluate model\n",
    "predictions = model_logis.predict(X_test)\n",
    "print(classification_report(y_test, predictions))\n",
    "print(accuracy_score(y_test, predictions))\n"
   ]
  },
  {
   "cell_type": "code",
   "execution_count": 37,
   "id": "131eacd0",
   "metadata": {
    "execution": {
     "iopub.execute_input": "2025-01-01T19:24:36.473959Z",
     "iopub.status.busy": "2025-01-01T19:24:36.473488Z",
     "iopub.status.idle": "2025-01-01T19:24:36.828317Z",
     "shell.execute_reply": "2025-01-01T19:24:36.827311Z"
    },
    "papermill": {
     "duration": 0.392911,
     "end_time": "2025-01-01T19:24:36.834019",
     "exception": false,
     "start_time": "2025-01-01T19:24:36.441108",
     "status": "completed"
    },
    "tags": []
   },
   "outputs": [
    {
     "name": "stderr",
     "output_type": "stream",
     "text": [
      "/usr/local/lib/python3.10/dist-packages/sklearn/cluster/_kmeans.py:870: FutureWarning: The default value of `n_init` will change from 10 to 'auto' in 1.4. Set the value of `n_init` explicitly to suppress the warning\n",
      "  warnings.warn(\n"
     ]
    },
    {
     "name": "stdout",
     "output_type": "stream",
     "text": [
      "Cluster 0: ['game', 'nintendo', 'people', 'dont', 'really', 'would', 'playing', 'want', 'im', 'multiplayer', 'could', 'way', 'also', 'enjoy', 'bought', 'made', 'thing', 'system', 'give', 'doesnt', 'think', 'thats', 'bad', 'well', 'money', 'go', 'let', 'actually', 'makes', 'absolutely']\n",
      "Cluster 1: ['island', 'one', 'switch', 'per', 'console', 'buy', '1', 'person', 'multiple', 'family', 'another', 'share', 'islands', 'fact', 'save']\n",
      "Cluster 2: ['play', 'player', 'first', 'cant', 'get', 'even', 'experience', 'make', 'second', 'players', 'progress', 'able', 'everyone', '2', 'gets', 'full', 'two', 'account', 'single', 'anything', 'youre', 'us', 'wife', 'start']\n",
      "Cluster 4: ['new', 'crossing', 'animal', 'played', 'series', 'ive', 'best', 'horizons']\n",
      "Cluster 3: ['like', 'expand', 'time', 'games', 'fun', 'great', 'much', 'things', 'review', 'every', 'good', 'love', 'lot', 'since', 'many', 'day', 'see', 'never', 'everything', 'ever', 'amazing', 'something', 'feel']\n"
     ]
    }
   ],
   "source": [
    "from sklearn.cluster import KMeans\n",
    "\n",
    "# Apply KMeans clustering on word vectors\n",
    "num_clusters = 5\n",
    "kmeans = KMeans(n_clusters=num_clusters, random_state=42)\n",
    "kmeans.fit(word_vectors[:100])  # Use the first 100 words for simplicity\n",
    "\n",
    "# Get cluster labels for words\n",
    "clusters = kmeans.labels_\n",
    "\n",
    "# Print words grouped by cluster\n",
    "from collections import defaultdict\n",
    "cluster_map = defaultdict(list)\n",
    "for idx, label in enumerate(clusters):\n",
    "    cluster_map[label].append(words[idx])\n",
    "\n",
    "for cluster_id, word_list in cluster_map.items():\n",
    "    print(f\"Cluster {cluster_id}: {word_list}\")\n"
   ]
  },
  {
   "cell_type": "code",
   "execution_count": 38,
   "id": "3d23d697",
   "metadata": {
    "execution": {
     "iopub.execute_input": "2025-01-01T19:24:36.899758Z",
     "iopub.status.busy": "2025-01-01T19:24:36.899231Z",
     "iopub.status.idle": "2025-01-01T19:24:36.911297Z",
     "shell.execute_reply": "2025-01-01T19:24:36.908343Z"
    },
    "papermill": {
     "duration": 0.04804,
     "end_time": "2025-01-01T19:24:36.913821",
     "exception": false,
     "start_time": "2025-01-01T19:24:36.865781",
     "status": "completed"
    },
    "tags": []
   },
   "outputs": [
    {
     "name": "stdout",
     "output_type": "stream",
     "text": [
      "Words similar to 'multiplayer': [('terrible', 0.9945522546768188), ('affect', 0.9934331774711609), ('issue', 0.9927616715431213), ('unplayable', 0.9915501475334167), ('allowing', 0.9912160038948059)]\n"
     ]
    }
   ],
   "source": [
    "similar_words = model.wv.most_similar('multiplayer', topn=5)\n",
    "print(\"Words similar to 'multiplayer':\", similar_words)"
   ]
  },
  {
   "cell_type": "code",
   "execution_count": null,
   "id": "77c8986d",
   "metadata": {
    "papermill": {
     "duration": 0.033031,
     "end_time": "2025-01-01T19:24:36.981478",
     "exception": false,
     "start_time": "2025-01-01T19:24:36.948447",
     "status": "completed"
    },
    "tags": []
   },
   "outputs": [],
   "source": []
  },
  {
   "cell_type": "code",
   "execution_count": null,
   "id": "516a1150",
   "metadata": {
    "papermill": {
     "duration": 0.023671,
     "end_time": "2025-01-01T19:24:37.036566",
     "exception": false,
     "start_time": "2025-01-01T19:24:37.012895",
     "status": "completed"
    },
    "tags": []
   },
   "outputs": [],
   "source": []
  },
  {
   "cell_type": "code",
   "execution_count": null,
   "id": "b8e81a44",
   "metadata": {
    "papermill": {
     "duration": 0.016611,
     "end_time": "2025-01-01T19:24:37.070094",
     "exception": false,
     "start_time": "2025-01-01T19:24:37.053483",
     "status": "completed"
    },
    "tags": []
   },
   "outputs": [],
   "source": []
  }
 ],
 "metadata": {
  "kaggle": {
   "accelerator": "none",
   "dataSources": [
    {
     "datasetId": 635455,
     "sourceId": 1129553,
     "sourceType": "datasetVersion"
    }
   ],
   "dockerImageVersionId": 30822,
   "isGpuEnabled": false,
   "isInternetEnabled": true,
   "language": "python",
   "sourceType": "notebook"
  },
  "kernelspec": {
   "display_name": "Python 3",
   "language": "python",
   "name": "python3"
  },
  "language_info": {
   "codemirror_mode": {
    "name": "ipython",
    "version": 3
   },
   "file_extension": ".py",
   "mimetype": "text/x-python",
   "name": "python",
   "nbconvert_exporter": "python",
   "pygments_lexer": "ipython3",
   "version": "3.10.12"
  },
  "papermill": {
   "default_parameters": {},
   "duration": 74.170865,
   "end_time": "2025-01-01T19:24:39.713883",
   "environment_variables": {},
   "exception": null,
   "input_path": "__notebook__.ipynb",
   "output_path": "__notebook__.ipynb",
   "parameters": {},
   "start_time": "2025-01-01T19:23:25.543018",
   "version": "2.6.0"
  }
 },
 "nbformat": 4,
 "nbformat_minor": 5
}
